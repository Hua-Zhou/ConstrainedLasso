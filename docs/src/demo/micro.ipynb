{
 "cells": [
  {
   "cell_type": "markdown",
   "metadata": {},
   "source": [
    "# Microbiome Data\n",
    "\n",
    "\n",
    "   This real data application uses microbiome data [[8](../references.md#8)]. The dataset itself contains information on 160 bacteria genera from 37 patients. The bacteria counts were $\\log_2$-transformed and normalized to have a constant average across samples.\n",
    "\n",
    "First, let's load and organize data."
   ]
  },
  {
   "cell_type": "code",
   "execution_count": 1,
   "metadata": {
    "collapsed": false
   },
   "outputs": [
    {
     "data": {
      "text/plain": [
       "37-element Array{Float64,1}:\n",
       "   3.1158 \n",
       "   3.21448\n",
       " -11.1341 \n",
       "  -5.13988\n",
       "  -4.8247 \n",
       "  -4.79219\n",
       " -11.5719 \n",
       "  -5.77868\n",
       "   4.97972\n",
       "  -3.38806\n",
       "  -9.90973\n",
       "   3.07384\n",
       "   2.77814\n",
       "   ⋮      \n",
       "  -7.41032\n",
       "   4.70871\n",
       "   1.49355\n",
       "   3.93736\n",
       "  -3.29476\n",
       " -10.9239 \n",
       " -11.021  \n",
       "   3.18789\n",
       "  -8.73771\n",
       " -11.499  \n",
       "   3.66284\n",
       "  -8.88277"
      ]
     },
     "execution_count": 1,
     "metadata": {},
     "output_type": "execute_result"
    }
   ],
   "source": [
    "zerosum = readcsv(joinpath(Pkg.dir(\"ConstrainedLasso\"), \"docs/src/demo/misc/zerosum.csv\"), header=true)[1]\n",
    "y = zerosum[:, 1]"
   ]
  },
  {
   "cell_type": "code",
   "execution_count": 2,
   "metadata": {
    "collapsed": false
   },
   "outputs": [
    {
     "data": {
      "text/plain": [
       "37×160 Array{Float64,2}:\n",
       " 0.0  3.32193  0.0  1.0      10.5304   …  0.0      0.0  0.0  0.0  12.513  \n",
       " 0.0  4.08746  0.0  0.0       7.35755     0.0      0.0  0.0  0.0   0.0    \n",
       " 0.0  0.0      0.0  0.0       0.0         0.0      0.0  0.0  0.0   0.0    \n",
       " 0.0  3.32193  0.0  0.0       0.0         0.0      0.0  0.0  0.0   0.0    \n",
       " 0.0  1.0      0.0  0.0       0.0         0.0      0.0  0.0  0.0   1.0    \n",
       " 0.0  3.16993  0.0  0.0       0.0      …  0.0      0.0  0.0  0.0   0.0    \n",
       " 0.0  0.0      0.0  0.0       1.0         1.58496  0.0  0.0  0.0   0.0    \n",
       " 0.0  0.0      0.0  0.0       0.0         0.0      0.0  0.0  0.0   0.0    \n",
       " 0.0  0.0      0.0  0.0       4.64386     0.0      0.0  0.0  0.0   1.58496\n",
       " 0.0  1.0      0.0  0.0       0.0         0.0      0.0  0.0  1.0   0.0    \n",
       " 0.0  0.0      0.0  0.0       0.0      …  0.0      0.0  0.0  0.0   1.0    \n",
       " 0.0  5.45943  0.0  0.0       3.90689     0.0      0.0  0.0  0.0   1.58496\n",
       " 0.0  4.70044  0.0  0.0       0.0         0.0      0.0  0.0  0.0   0.0    \n",
       " ⋮                                     ⋱  ⋮                               \n",
       " 0.0  0.0      0.0  0.0       0.0      …  0.0      0.0  0.0  0.0   0.0    \n",
       " 0.0  3.58496  0.0  0.0      12.2886      0.0      0.0  0.0  0.0   7.39232\n",
       " 0.0  4.80735  0.0  6.87036   8.01123     0.0      0.0  0.0  0.0   3.0    \n",
       " 0.0  0.0      0.0  0.0       5.93074     0.0      0.0  0.0  0.0   0.0    \n",
       " 0.0  7.7211   0.0  0.0       1.0         0.0      0.0  0.0  0.0   0.0    \n",
       " 0.0  0.0      0.0  0.0       0.0      …  0.0      0.0  0.0  0.0   0.0    \n",
       " 0.0  0.0      1.0  0.0       1.0         0.0      0.0  0.0  0.0   0.0    \n",
       " 0.0  4.08746  0.0  0.0       3.0         0.0      0.0  0.0  0.0   0.0    \n",
       " 0.0  0.0      0.0  0.0       0.0         0.0      0.0  0.0  0.0   0.0    \n",
       " 0.0  0.0      0.0  0.0       0.0         0.0      0.0  0.0  0.0   1.0    \n",
       " 0.0  5.04439  0.0  0.0       0.0      …  0.0      0.0  0.0  0.0  10.444  \n",
       " 0.0  0.0      0.0  0.0       0.0         0.0      0.0  0.0  0.0   0.0    "
      ]
     },
     "execution_count": 2,
     "metadata": {},
     "output_type": "execute_result"
    }
   ],
   "source": [
    "X = zerosum[:, 2:end]"
   ]
  },
  {
   "cell_type": "markdown",
   "metadata": {},
   "source": [
    "[Altenbuchinger et al.](../references.md#1) demonstrated that a sum-to-zero constraint is useful anytime the normalization of data relative to some reference point results in proportional data, as is often the case in biological applications, since the analysis using the constraint is insensitive to the choice of the reference. [Altenbuchinger et al.](../references.md#1) derived a coordinate descent algorithm for the elastic net with a zero-sum constraint, \n",
    "\n",
    "$$\\begin{split}\n",
    "& \\text{minimize} \\hspace{1em} \\frac{1}{2} ||\\boldsymbol{y}-\\boldsymbol{X\\beta}||^2_2 + \\rho\\Big(||\\boldsymbol{\\beta}||_1 + \\frac{1-\\alpha}{2}||\\boldsymbol{\\beta}||_2^2\\Big) \\\\\n",
    "& \\text{subject to} \\hspace{1em} \\sum_j \\beta_j = 0\n",
    "\\end{split}$$\n",
    "\n",
    "\n",
    "but the focus of their analysis corresponds to $\\alpha = 1$. Hence the problem is reduced to the constrained lasso.\n",
    "\n",
    "We set up the zero-sum constraint."
   ]
  },
  {
   "cell_type": "code",
   "execution_count": 3,
   "metadata": {
    "collapsed": true
   },
   "outputs": [],
   "source": [
    "n, p = size(X)\n",
    "Aeq = ones(1, p)\n",
    "beq = 0.0\n",
    "m1 = size(Aeq, 1);"
   ]
  },
  {
   "cell_type": "markdown",
   "metadata": {},
   "source": [
    "Now we estimate the constrained lasso solution path using path algorithm."
   ]
  },
  {
   "cell_type": "code",
   "execution_count": null,
   "metadata": {
    "collapsed": false
   },
   "outputs": [],
   "source": [
    "using ConstrainedLasso\n",
    "β̂path, ρpath, = lsq_classopath(X, y; Aeq = Aeq, beq = beq)"
   ]
  },
  {
   "cell_type": "code",
   "execution_count": 5,
   "metadata": {
    "collapsed": false
   },
   "outputs": [
    {
     "data": {
      "text/plain": [
       "160×79 Array{Float64,2}:\n",
       " 0.0  0.0  0.0  0.0  0.0  0.0  0.0  0.0  …   0.0        0.0        0.0      \n",
       " 0.0  0.0  0.0  0.0  0.0  0.0  0.0  0.0      0.484646   0.488903   0.490802 \n",
       " 0.0  0.0  0.0  0.0  0.0  0.0  0.0  0.0     -0.209662  -0.248845  -0.253282 \n",
       " 0.0  0.0  0.0  0.0  0.0  0.0  0.0  0.0      0.0        0.0        0.0      \n",
       " 0.0  0.0  0.0  0.0  0.0  0.0  0.0  0.0      0.0        0.0        0.0      \n",
       " 0.0  0.0  0.0  0.0  0.0  0.0  0.0  0.0  …   0.0        0.0        0.0      \n",
       " 0.0  0.0  0.0  0.0  0.0  0.0  0.0  0.0      0.0        0.0        0.0      \n",
       " 0.0  0.0  0.0  0.0  0.0  0.0  0.0  0.0      0.0        0.0        0.0      \n",
       " 0.0  0.0  0.0  0.0  0.0  0.0  0.0  0.0      0.897273   0.888551   0.889344 \n",
       " 0.0  0.0  0.0  0.0  0.0  0.0  0.0  0.0      0.0        0.0        0.0      \n",
       " 0.0  0.0  0.0  0.0  0.0  0.0  0.0  0.0  …   0.0        0.0        0.0      \n",
       " 0.0  0.0  0.0  0.0  0.0  0.0  0.0  0.0      0.0        0.0        0.0      \n",
       " 0.0  0.0  0.0  0.0  0.0  0.0  0.0  0.0      0.0        0.0        0.0      \n",
       " ⋮                        ⋮              ⋱                                  \n",
       " 0.0  0.0  0.0  0.0  0.0  0.0  0.0  0.0      0.0        0.0        0.0      \n",
       " 0.0  0.0  0.0  0.0  0.0  0.0  0.0  0.0      0.0        0.0        0.0      \n",
       " 0.0  0.0  0.0  0.0  0.0  0.0  0.0  0.0  …   0.0        0.0        0.0      \n",
       " 0.0  0.0  0.0  0.0  0.0  0.0  0.0  0.0      0.0        0.0        0.0      \n",
       " 0.0  0.0  0.0  0.0  0.0  0.0  0.0  0.0      0.0        0.0        0.0      \n",
       " 0.0  0.0  0.0  0.0  0.0  0.0  0.0  0.0      0.0        0.0        0.0      \n",
       " 0.0  0.0  0.0  0.0  0.0  0.0  0.0  0.0      0.0        0.0       -0.0220978\n",
       " 0.0  0.0  0.0  0.0  0.0  0.0  0.0  0.0  …   0.0        0.0        0.0      \n",
       " 0.0  0.0  0.0  0.0  0.0  0.0  0.0  0.0      0.0        0.0        0.0      \n",
       " 0.0  0.0  0.0  0.0  0.0  0.0  0.0  0.0      0.0        0.0        0.0      \n",
       " 0.0  0.0  0.0  0.0  0.0  0.0  0.0  0.0      0.0        0.0        0.0      \n",
       " 0.0  0.0  0.0  0.0  0.0  0.0  0.0  0.0      0.659693   0.659783   0.658592 "
      ]
     },
     "execution_count": 5,
     "metadata": {},
     "output_type": "execute_result"
    }
   ],
   "source": [
    "β̂path"
   ]
  },
  {
   "cell_type": "markdown",
   "metadata": {},
   "source": [
    "Then we calculate $L_1$ norm of coefficients at each $\\rho$."
   ]
  },
  {
   "cell_type": "code",
   "execution_count": 6,
   "metadata": {
    "collapsed": false,
    "scrolled": true
   },
   "outputs": [
    {
     "data": {
      "text/plain": [
       "79-element Array{Float64,1}:\n",
       "  0.0     \n",
       "  0.0     \n",
       "  0.1462  \n",
       "  0.236204\n",
       "  0.368326\n",
       "  0.75722 \n",
       "  1.08009 \n",
       "  1.43022 \n",
       "  1.45122 \n",
       "  1.6103  \n",
       "  1.95359 \n",
       "  1.9595  \n",
       "  1.96205 \n",
       "  ⋮       \n",
       " 11.2506  \n",
       " 11.5025  \n",
       " 11.8854  \n",
       " 11.9934  \n",
       " 12.0591  \n",
       " 12.2261  \n",
       " 12.2836  \n",
       " 12.7327  \n",
       " 12.9722  \n",
       " 13.0533  \n",
       " 13.221   \n",
       " 13.2708  "
      ]
     },
     "execution_count": 6,
     "metadata": {},
     "output_type": "execute_result"
    }
   ],
   "source": [
    "norm1path = zeros(size(β̂path, 2))\n",
    "for i in eachindex(norm1path)\n",
    "    norm1path[i] = norm(β̂path[:, i], 1)\n",
    "end\n",
    "norm1path"
   ]
  },
  {
   "cell_type": "markdown",
   "metadata": {},
   "source": [
    "Now, let's plot the solution path, $\\widehat{\\boldsymbol{\\beta}}(\\rho)$, as a function of $||\\widehat{\\boldsymbol{\\beta}}(\\rho)||_1$ using constrained lasso."
   ]
  },
  {
   "cell_type": "code",
   "execution_count": null,
   "metadata": {
    "collapsed": false,
    "scrolled": true
   },
   "outputs": [],
   "source": [
    "using Plots; pyplot();\n",
    "plot(norm1path, β̂path', xaxis = (\"||β̂||₁\"), yaxis=(\"β̂\"), label=\"\")\n",
    "title!(\"Microbiome Data: Solution Path via Constrained Lasso\")"
   ]
  },
  {
   "cell_type": "code",
   "execution_count": null,
   "metadata": {
    "collapsed": true
   },
   "outputs": [],
   "source": [
    "savefig(\"misc/micro.svg\"); "
   ]
  },
  {
   "cell_type": "markdown",
   "metadata": {},
   "source": [
    "*Follow the [link](https://github.com/Hua-Zhou/ConstrainedLasso.jl/blob/master/docs/src/demo/micro.ipynb) to access the .ipynb file of this page.*"
   ]
  }
 ],
 "metadata": {
  "kernelspec": {
   "display_name": "Julia 0.6.0",
   "language": "julia",
   "name": "julia-0.6"
  },
  "language_info": {
   "file_extension": ".jl",
   "mimetype": "application/julia",
   "name": "julia",
   "version": "0.6.0"
  }
 },
 "nbformat": 4,
 "nbformat_minor": 2
}

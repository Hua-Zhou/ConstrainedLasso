{
 "cells": [
  {
   "cell_type": "markdown",
   "metadata": {},
   "source": [
    "# ADMM \n",
    "\n",
    "In this section, we apply the alternating direction method of multipliers (ADMM) algorithm to the constrained lasso problem. Following is the ADMM algorithm for solving the constrained lasso. \n",
    "\n",
    "```math\n",
    "\\begin{split}\n",
    "1 & \\text{Initialize } \\boldsymbol{\\beta}^{(0)} = \\boldsymbol{z}^{(0)} = \\boldsymbol{\\beta}^{0}, \\boldsymbol{u}^{(0)} = \\boldsymbol{0}, \\tau > 0 \\\\\n",
    "2 & \\text{\\textbf{repeat}}\\\\ \n",
    "3 & |  \\boldsymbol{\\beta}^{(t+1)} \\leftarrow \\text{argmin} \\frac 12 ||||_2^2 + \\frac{1}{2\\tau}||\\boldsymbol{\\beta} + \\boldsymbol{z}^{(t)} + \\boldsymbol{u}^{(t)}||_2^2 + \\rho||\\boldsymbol{\\beta}||_1; \\\\\n",
    "4 & |  \\boldsymbol{z}^{(t+1)} \\leftarrow \\text{proj}_{\\mathcal{C}}(\\boldsymbol{\\beta}^{(t+1)}+\\boldsymbol{u}^{(t)}) \\\\\n",
    "5 & |  \\boldsymbol{u}^{(t+1)} \\leftarrow \\boldsymbol{u}^{(t)} + \\boldsymbol{\\beta}^{(t+1)} + \\boldsymbol{z}^{(t+1)} \\\\\n",
    "6 & \\text{\\textbf{until} \\underline{convergence criterion is met}}\n",
    "\\end{split} \n",
    "```\n",
    "\n",
    "where $\\text{proj}_{\\mathcal{C}}$ is a projection onto \n",
    "\n",
    "```math\n",
    "\\mathcal{C} = \\{\\boldsymbol{\\beta}\\in \\mathbb{R}^p: \\boldsymbol{A\\beta}=\\boldsymbol{b}, \\boldsymbol{C\\beta} \\leq \\boldsymbol{d} \\}.\n",
    "```\n",
    "\n",
    "\n",
    "## sum-to-zero constraint \n",
    "\n",
    "We demonstrate using a sum-to-zero constraint example\n",
    "\n",
    "```math\n",
    "\\begin{split}\n",
    "& \\text{minimize} \\hspace{1em} \\frac 12||\\boldsymbol{y}-\\boldsymbol{X\\beta}||^2_2 + \\rho||\\beta||_1 \\\\\n",
    "& \\text{ subject to} \\hspace{0.5em} \\sum_j \\beta_j = 0\n",
    "\\end{split}\n",
    "```\n",
    "\n",
    "First, let's define a true parameter `β` such that `sum(β) = 0`."
   ]
  },
  {
   "cell_type": "code",
   "execution_count": 176,
   "metadata": {
    "collapsed": false,
    "scrolled": true
   },
   "outputs": [
    {
     "data": {
      "text/plain": [
       "100-element Array{Float64,1}:\n",
       "  0.0\n",
       "  0.0\n",
       "  0.0\n",
       "  0.0\n",
       "  0.0\n",
       "  0.0\n",
       "  0.0\n",
       "  0.0\n",
       "  0.0\n",
       "  0.0\n",
       "  0.0\n",
       "  0.0\n",
       "  0.0\n",
       "  ⋮  \n",
       " -1.0\n",
       " -1.0\n",
       " -1.0\n",
       " -1.0\n",
       " -1.0\n",
       " -1.0\n",
       " -1.0\n",
       " -1.0\n",
       " -1.0\n",
       " -1.0\n",
       " -1.0\n",
       " -1.0"
      ]
     },
     "execution_count": 176,
     "metadata": {},
     "output_type": "execute_result"
    }
   ],
   "source": [
    "using ConstrainedLasso, Base.Test\n",
    "\n",
    "n, p = 50, 100  \n",
    "β = zeros(p);\n",
    "β[1:round(Int, p / 4)] = 0\n",
    "β[(round(Int, p / 4) + 1):round(Int, p / 2)] = 1\n",
    "β[(round(Int, p / 2) + 1):round(Int, 3p / 4)] = 0\n",
    "β[(round(Int, 3p / 4) + 1):p] = -1\n",
    "β"
   ]
  },
  {
   "cell_type": "markdown",
   "metadata": {},
   "source": [
    "Next we generate data based on the true parameter β."
   ]
  },
  {
   "cell_type": "code",
   "execution_count": 165,
   "metadata": {
    "collapsed": false
   },
   "outputs": [
    {
     "data": {
      "text/plain": [
       "50×100 Array{Float64,2}:\n",
       "  1.21212    -0.153889    0.141533  …  -0.458125    0.0951976  -2.14019   \n",
       "  0.345895    1.30676     1.60944      -0.409901    0.323719    0.989333  \n",
       " -1.27859    -1.18894     0.512064      1.80509     1.62606    -1.44251   \n",
       "  0.230616    2.54741    -0.523533      2.73358     1.07999     0.432834  \n",
       " -1.17103    -0.39082     0.441921     -0.179239   -0.158189   -0.640611  \n",
       "  1.67135     0.0829011   0.964089  …  -0.720038    1.99359    -0.671572  \n",
       " -0.614717    2.16204    -0.0602       -0.324456   -0.616887    1.11243   \n",
       " -0.810535    0.974719   -0.045405      0.881578    1.29611     0.696869  \n",
       " -1.10879    -1.32489    -1.18272       0.579381   -0.971269   -0.687591  \n",
       " -0.219752   -0.447897   -0.974186     -0.880804   -0.480702   -1.36887   \n",
       "  0.0952544  -0.126203   -0.273737  …  -0.264421    0.565684   -0.798719  \n",
       "  1.4126      0.295896   -0.213161     -1.46343    -1.27144    -0.0589753 \n",
       " -0.418407   -0.479389    0.324243      1.96976     0.867659   -1.2999    \n",
       "  ⋮                                 ⋱                                     \n",
       "  0.504861   -1.03911    -0.357771      0.815027    0.919037    1.07463   \n",
       " -0.820358   -0.955319    0.097768      0.553219    1.56424     0.10535   \n",
       "  1.39684     1.93183     0.706641  …  -0.0222014   0.987281   -0.0646814 \n",
       " -1.55206     0.446778    1.48206      -1.42384    -1.04209     0.0460478 \n",
       "  0.928527    0.933087   -0.641975     -1.16347    -0.313851   -1.20434   \n",
       "  0.380879   -0.144713    1.54374      -0.605637    0.408246    0.632131  \n",
       " -1.30233    -2.31664     1.51324       0.765034   -0.515553    0.984551  \n",
       "  1.36747     1.34059    -0.114778  …   0.846682   -0.565511   -0.539113  \n",
       " -2.82496    -0.0447351   0.426242     -0.353497   -0.14583    -0.00304009\n",
       " -0.847741    1.49306     1.15522       0.637659    1.70818     0.641035  \n",
       " -0.22286    -0.43932    -0.373259      0.788337    0.223785   -0.343495  \n",
       "  1.32145     0.104516   -0.993017     -0.272744   -0.133748    0.968627  "
      ]
     },
     "execution_count": 165,
     "metadata": {},
     "output_type": "execute_result"
    }
   ],
   "source": [
    "srand(41)\n",
    "X = randn(n, p)"
   ]
  },
  {
   "cell_type": "code",
   "execution_count": 166,
   "metadata": {
    "collapsed": false,
    "scrolled": true
   },
   "outputs": [
    {
     "data": {
      "text/plain": [
       "50-element Array{Float64,1}:\n",
       "  -9.90585 \n",
       "  -5.40562 \n",
       "   5.24289 \n",
       "  -6.29951 \n",
       "  -4.9586  \n",
       "  -6.1342  \n",
       "  -7.90981 \n",
       "   2.51009 \n",
       "  -5.79548 \n",
       "   1.61355 \n",
       "  -0.722766\n",
       "  10.4522  \n",
       "   4.03935 \n",
       "   ⋮       \n",
       "   0.397781\n",
       "  -2.6661  \n",
       "   5.36896 \n",
       "  -3.56537 \n",
       "  -2.402   \n",
       "   0.11478 \n",
       "  -5.39248 \n",
       "   4.38391 \n",
       "   0.706801\n",
       " -10.1066  \n",
       "  -1.12558 \n",
       "  14.2473  "
      ]
     },
     "execution_count": 166,
     "metadata": {},
     "output_type": "execute_result"
    }
   ],
   "source": [
    "y = X * β + randn(n)"
   ]
  },
  {
   "cell_type": "markdown",
   "metadata": {},
   "source": [
    "Now we estimate coefficients at fixed tuning parameter value using ADMM alogrithm. "
   ]
  },
  {
   "cell_type": "code",
   "execution_count": null,
   "metadata": {
    "collapsed": false,
    "scrolled": false
   },
   "outputs": [],
   "source": [
    "ρ = 2.0\n",
    "β̂admm = lsq_constrsparsereg_admm(X, y, ρ; proj = x -> x - mean(x))"
   ]
  },
  {
   "cell_type": "code",
   "execution_count": 171,
   "metadata": {
    "collapsed": false,
    "scrolled": true
   },
   "outputs": [
    {
     "data": {
      "text/plain": [
       "100×1 GLMNet.CompressedPredictorMatrix:\n",
       "  0.0     \n",
       "  0.174344\n",
       "  0.0     \n",
       " -0.421288\n",
       "  0.0     \n",
       "  0.0     \n",
       "  0.0     \n",
       "  0.0     \n",
       "  0.324233\n",
       " -0.15384 \n",
       "  0.0     \n",
       "  0.0     \n",
       "  0.0     \n",
       "  ⋮       \n",
       " -0.397027\n",
       " -0.32079 \n",
       "  0.0     \n",
       "  0.0     \n",
       " -0.868508\n",
       " -0.992272\n",
       " -0.571755\n",
       "  0.0     \n",
       " -1.16568 \n",
       "  0.0     \n",
       "  0.0     \n",
       "  0.0     "
      ]
     },
     "execution_count": 171,
     "metadata": {},
     "output_type": "execute_result"
    }
   ],
   "source": [
    "β̂admm"
   ]
  },
  {
   "cell_type": "markdown",
   "metadata": {},
   "source": [
    "Now let's compare the estimated coefficients with those obtained using quadratic programming. "
   ]
  },
  {
   "cell_type": "code",
   "execution_count": null,
   "metadata": {
    "collapsed": false
   },
   "outputs": [],
   "source": [
    "ρ = 2.0 \n",
    "beq = [0]\n",
    "Aeq = ones(1, p)\n",
    "using ECOS; solver=ECOSSolver(verbose=0, maxit=1e8);\n",
    "β̂, = lsq_constrsparsereg(X, y, ρ; Aeq = Aeq, beq = beq, solver = solver) "
   ]
  },
  {
   "cell_type": "code",
   "execution_count": 170,
   "metadata": {
    "collapsed": false
   },
   "outputs": [
    {
     "data": {
      "text/plain": [
       "100×2 Array{Float64,2}:\n",
       "  0.0        1.51451e-8 \n",
       "  0.174344   0.178717   \n",
       "  0.0       -1.02944e-9 \n",
       " -0.421288  -0.414043   \n",
       "  0.0       -3.33221e-10\n",
       "  0.0       -4.14188e-10\n",
       "  0.0        3.28018e-11\n",
       "  0.0        8.38037e-11\n",
       "  0.324233   0.335375   \n",
       " -0.15384   -0.157908   \n",
       "  0.0       -2.44739e-9 \n",
       "  0.0       -8.79003e-10\n",
       "  0.0       -8.17787e-10\n",
       "  ⋮                     \n",
       " -0.397027  -0.391635   \n",
       " -0.32079   -0.33352    \n",
       "  0.0       -5.51459e-9 \n",
       "  0.0        1.09637e-9 \n",
       " -0.868508  -0.867639   \n",
       " -0.992272  -0.999583   \n",
       " -0.571755  -0.577743   \n",
       "  0.0       -8.93601e-10\n",
       " -1.16568   -1.16862    \n",
       "  0.0        2.29367e-9 \n",
       "  0.0       -1.52035e-9 \n",
       "  0.0        2.71896e-9 "
      ]
     },
     "execution_count": 170,
     "metadata": {},
     "output_type": "execute_result"
    }
   ],
   "source": [
    "hcat(β̂admm, β̂)"
   ]
  },
  {
   "cell_type": "markdown",
   "metadata": {},
   "source": [
    "## Non-negativity constraint "
   ]
  },
  {
   "cell_type": "markdown",
   "metadata": {},
   "source": [
    "Here we look at the non-negativity constraint. First let's generate `X` and `y`."
   ]
  },
  {
   "cell_type": "code",
   "execution_count": 177,
   "metadata": {
    "collapsed": false
   },
   "outputs": [
    {
     "data": {
      "text/plain": [
       "50×100 Array{Float64,2}:\n",
       "  1.21212    -0.153889    0.141533  …  -0.458125    0.0951976  -2.14019   \n",
       "  0.345895    1.30676     1.60944      -0.409901    0.323719    0.989333  \n",
       " -1.27859    -1.18894     0.512064      1.80509     1.62606    -1.44251   \n",
       "  0.230616    2.54741    -0.523533      2.73358     1.07999     0.432834  \n",
       " -1.17103    -0.39082     0.441921     -0.179239   -0.158189   -0.640611  \n",
       "  1.67135     0.0829011   0.964089  …  -0.720038    1.99359    -0.671572  \n",
       " -0.614717    2.16204    -0.0602       -0.324456   -0.616887    1.11243   \n",
       " -0.810535    0.974719   -0.045405      0.881578    1.29611     0.696869  \n",
       " -1.10879    -1.32489    -1.18272       0.579381   -0.971269   -0.687591  \n",
       " -0.219752   -0.447897   -0.974186     -0.880804   -0.480702   -1.36887   \n",
       "  0.0952544  -0.126203   -0.273737  …  -0.264421    0.565684   -0.798719  \n",
       "  1.4126      0.295896   -0.213161     -1.46343    -1.27144    -0.0589753 \n",
       " -0.418407   -0.479389    0.324243      1.96976     0.867659   -1.2999    \n",
       "  ⋮                                 ⋱                                     \n",
       "  0.504861   -1.03911    -0.357771      0.815027    0.919037    1.07463   \n",
       " -0.820358   -0.955319    0.097768      0.553219    1.56424     0.10535   \n",
       "  1.39684     1.93183     0.706641  …  -0.0222014   0.987281   -0.0646814 \n",
       " -1.55206     0.446778    1.48206      -1.42384    -1.04209     0.0460478 \n",
       "  0.928527    0.933087   -0.641975     -1.16347    -0.313851   -1.20434   \n",
       "  0.380879   -0.144713    1.54374      -0.605637    0.408246    0.632131  \n",
       " -1.30233    -2.31664     1.51324       0.765034   -0.515553    0.984551  \n",
       "  1.36747     1.34059    -0.114778  …   0.846682   -0.565511   -0.539113  \n",
       " -2.82496    -0.0447351   0.426242     -0.353497   -0.14583    -0.00304009\n",
       " -0.847741    1.49306     1.15522       0.637659    1.70818     0.641035  \n",
       " -0.22286    -0.43932    -0.373259      0.788337    0.223785   -0.343495  \n",
       "  1.32145     0.104516   -0.993017     -0.272744   -0.133748    0.968627  "
      ]
     },
     "execution_count": 177,
     "metadata": {},
     "output_type": "execute_result"
    }
   ],
   "source": [
    "n, p = 50, 100   \n",
    "β = zeros(p)\n",
    "β[1:10] = 1:10\n",
    "srand(41)\n",
    "X = randn(n, p)"
   ]
  },
  {
   "cell_type": "code",
   "execution_count": 178,
   "metadata": {
    "collapsed": false,
    "scrolled": true
   },
   "outputs": [
    {
     "data": {
      "text/plain": [
       "50-element Array{Float64,1}:\n",
       "  12.6173  \n",
       "  40.3776  \n",
       "   2.2169  \n",
       "  27.4631  \n",
       "  38.592   \n",
       "   7.82023 \n",
       "  22.7367  \n",
       "   7.88475 \n",
       "  -7.47037 \n",
       "   0.621035\n",
       "  -4.91899 \n",
       " -14.9363  \n",
       "   8.26901 \n",
       "   ⋮       \n",
       "   7.83882 \n",
       "  -9.30699 \n",
       " -29.7205  \n",
       "  15.2482  \n",
       " -19.1784  \n",
       "  14.9865  \n",
       "   2.32728 \n",
       "  -9.11988 \n",
       " -15.3472  \n",
       "  22.9679  \n",
       "  -0.997964\n",
       "  42.6068  "
      ]
     },
     "execution_count": 178,
     "metadata": {},
     "output_type": "execute_result"
    }
   ],
   "source": [
    "y = X * β + randn(n)"
   ]
  },
  {
   "cell_type": "code",
   "execution_count": null,
   "metadata": {
    "collapsed": false
   },
   "outputs": [],
   "source": [
    "ρ = 2.0\n",
    "β̂admm = lsq_constrsparsereg_admm(X, y, ρ; proj = x -> clamp.(x, 0, Inf))"
   ]
  },
  {
   "cell_type": "code",
   "execution_count": 180,
   "metadata": {
    "collapsed": false
   },
   "outputs": [
    {
     "data": {
      "text/plain": [
       "100×1 GLMNet.CompressedPredictorMatrix:\n",
       " 0.611673  \n",
       " 2.17111   \n",
       " 2.65667   \n",
       " 4.05568   \n",
       " 4.72435   \n",
       " 5.87293   \n",
       " 6.6957    \n",
       " 8.36528   \n",
       " 8.61945   \n",
       " 9.80517   \n",
       " 1.18896e-6\n",
       " 0.0       \n",
       " 0.0       \n",
       " ⋮         \n",
       " 0.100613  \n",
       " 0.0       \n",
       " 0.0       \n",
       " 0.0       \n",
       " 0.0       \n",
       " 0.0       \n",
       " 0.0       \n",
       " 0.0       \n",
       " 0.0       \n",
       " 0.0       \n",
       " 6.84603e-7\n",
       " 0.0593872 "
      ]
     },
     "execution_count": 180,
     "metadata": {},
     "output_type": "execute_result"
    }
   ],
   "source": [
    "β̂admm"
   ]
  },
  {
   "cell_type": "markdown",
   "metadata": {},
   "source": [
    "Again we compare the estimates with those from quadratic programming. Here we use `ECOS` solver instead of the default `SCS`. "
   ]
  },
  {
   "cell_type": "code",
   "execution_count": null,
   "metadata": {
    "collapsed": false
   },
   "outputs": [],
   "source": [
    "ρ = 2.0 \n",
    "bineq = zeros(p)\n",
    "Aineq = - eye(p)\n",
    "using ECOS; solver=ECOSSolver(verbose=0, maxit=1e8);\n",
    "β̂, = lsq_constrsparsereg(X, y, ρ; Aineq = Aineq, bineq = bineq, solver = solver) "
   ]
  },
  {
   "cell_type": "code",
   "execution_count": 182,
   "metadata": {
    "collapsed": false
   },
   "outputs": [
    {
     "data": {
      "text/plain": [
       "100×1 Array{Float64,2}:\n",
       "  0.610587   \n",
       "  2.17169    \n",
       "  2.65765    \n",
       "  4.05601    \n",
       "  4.72551    \n",
       "  5.87414    \n",
       "  6.69414    \n",
       "  8.36632    \n",
       "  8.62049    \n",
       "  9.80458    \n",
       " -1.18573e-10\n",
       " -8.86515e-11\n",
       " -5.48968e-11\n",
       "  ⋮          \n",
       "  0.10151    \n",
       "  1.08588e-9 \n",
       "  3.51552e-10\n",
       " -4.42556e-11\n",
       " -8.01753e-11\n",
       "  1.40626e-10\n",
       " -1.58472e-11\n",
       "  2.50567e-10\n",
       " -4.76544e-11\n",
       "  3.28495e-10\n",
       " -7.49201e-11\n",
       "  0.0602764  "
      ]
     },
     "execution_count": 182,
     "metadata": {},
     "output_type": "execute_result"
    }
   ],
   "source": [
    "β̂"
   ]
  },
  {
   "cell_type": "code",
   "execution_count": null,
   "metadata": {
    "collapsed": true
   },
   "outputs": [],
   "source": []
  }
 ],
 "metadata": {
  "kernelspec": {
   "display_name": "Julia 0.6.0",
   "language": "julia",
   "name": "julia-0.6"
  },
  "language_info": {
   "file_extension": ".jl",
   "mimetype": "application/julia",
   "name": "julia",
   "version": "0.6.0"
  }
 },
 "nbformat": 4,
 "nbformat_minor": 2
}

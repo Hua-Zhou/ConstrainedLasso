{
 "cells": [
  {
   "cell_type": "markdown",
   "metadata": {},
   "source": [
    "# Global Warming Data  \n",
    "\n",
    "Here we consider the annual data on temperature anomalies. In general, temperature appears to increase monotonically over the time period of 1850 to 2015 ([Wu et al., 2001](../references.md#8); [Tibshirani et al., 2011](../references.md#5)). This monotonicity can be imposed on the coeffcient estimates using the constrained lasso with the inequality constraint matrix:\n",
    "\n",
    "$$\\begin{split}\n",
    "& \\text{minimize} \\hspace{1em} \\frac{1}{2} ||\\boldsymbol{y}-\\boldsymbol{X\\beta}||^2_2 + \\rho||\\beta||_1 \\\\\n",
    "& \\text{ subject to} \\hspace{1em} \\boldsymbol{C\\beta} \\leq \\boldsymbol{d} \n",
    "\\end{split}$$\n",
    "\n",
    "where \n",
    "\n",
    "$$\\boldsymbol{C} = \\begin{pmatrix} \n",
    "1 & -1 &     &    \t  &       & \t& \\\\\n",
    "  & 1  & -1  &    \t  &  \t\t&\t& \\\\\n",
    "  &    &  1  & -1 \t  & \t\t& \t& \\\\\n",
    "  &\t\t&\t\t& \\ddots & \\ddots &  & \\\\\n",
    "  &\t\t&\t\t&\t\t &\t\t\t& 1 & -1 \\\\\n",
    "\\end{pmatrix}$$\n",
    "\n",
    "and $\\boldsymbol{d} = \\boldsymbol{0}.$"
   ]
  },
  {
   "cell_type": "code",
   "execution_count": 1,
   "metadata": {
    "collapsed": false,
    "scrolled": true
   },
   "outputs": [
    {
     "name": "stderr",
     "output_type": "stream",
     "text": [
      "\n",
      "WARNING: deprecated syntax \"abstract Loss\" at /Users/juhyun-kim/.julia/v0.6/GLMNet/src/GLMNet.jl:129.\n",
      "Use \"abstract type Loss end\" instead.\n",
      "WARNING: local variable T conflicts with a static parameter in #lsq_classopath#2 at /Users/juhyun-kim/.julia/v0.6/ConstrainedLasso/src/classopath.jl:49.\n"
     ]
    }
   ],
   "source": [
    "using ConstrainedLasso "
   ]
  },
  {
   "cell_type": "markdown",
   "metadata": {},
   "source": [
    "First we load and organize the data. "
   ]
  },
  {
   "cell_type": "code",
   "execution_count": 2,
   "metadata": {
    "collapsed": false
   },
   "outputs": [
    {
     "data": {
      "text/plain": [
       "166×2 Array{Float64,2}:\n",
       " 1850.0  -0.375\n",
       " 1851.0  -0.223\n",
       " 1852.0  -0.224\n",
       " 1853.0  -0.271\n",
       " 1854.0  -0.246\n",
       " 1855.0  -0.271\n",
       " 1856.0  -0.352\n",
       " 1857.0  -0.46 \n",
       " 1858.0  -0.466\n",
       " 1859.0  -0.286\n",
       " 1860.0  -0.346\n",
       " 1861.0  -0.409\n",
       " 1862.0  -0.522\n",
       "    ⋮          \n",
       " 2004.0   0.45 \n",
       " 2005.0   0.544\n",
       " 2006.0   0.505\n",
       " 2007.0   0.493\n",
       " 2008.0   0.395\n",
       " 2009.0   0.506\n",
       " 2010.0   0.559\n",
       " 2011.0   0.422\n",
       " 2012.0   0.47 \n",
       " 2013.0   0.499\n",
       " 2014.0   0.567\n",
       " 2015.0   0.746"
      ]
     },
     "execution_count": 2,
     "metadata": {},
     "output_type": "execute_result"
    }
   ],
   "source": [
    "warming = readcsv(joinpath(Pkg.dir(\"ConstrainedLasso\"),\"docs/src/demo/misc/warming.csv\"), header=true)[1]\n",
    "year = warming[:, 1]\n",
    "y    = warming[:, 2]\n",
    "hcat(year, y)"
   ]
  },
  {
   "cell_type": "code",
   "execution_count": 3,
   "metadata": {
    "collapsed": false
   },
   "outputs": [
    {
     "data": {
      "text/plain": [
       "166×166 Array{Float64,2}:\n",
       " 1.0  0.0  0.0  0.0  0.0  0.0  0.0  0.0  …  0.0  0.0  0.0  0.0  0.0  0.0  0.0\n",
       " 0.0  1.0  0.0  0.0  0.0  0.0  0.0  0.0     0.0  0.0  0.0  0.0  0.0  0.0  0.0\n",
       " 0.0  0.0  1.0  0.0  0.0  0.0  0.0  0.0     0.0  0.0  0.0  0.0  0.0  0.0  0.0\n",
       " 0.0  0.0  0.0  1.0  0.0  0.0  0.0  0.0     0.0  0.0  0.0  0.0  0.0  0.0  0.0\n",
       " 0.0  0.0  0.0  0.0  1.0  0.0  0.0  0.0     0.0  0.0  0.0  0.0  0.0  0.0  0.0\n",
       " 0.0  0.0  0.0  0.0  0.0  1.0  0.0  0.0  …  0.0  0.0  0.0  0.0  0.0  0.0  0.0\n",
       " 0.0  0.0  0.0  0.0  0.0  0.0  1.0  0.0     0.0  0.0  0.0  0.0  0.0  0.0  0.0\n",
       " 0.0  0.0  0.0  0.0  0.0  0.0  0.0  1.0     0.0  0.0  0.0  0.0  0.0  0.0  0.0\n",
       " 0.0  0.0  0.0  0.0  0.0  0.0  0.0  0.0     0.0  0.0  0.0  0.0  0.0  0.0  0.0\n",
       " 0.0  0.0  0.0  0.0  0.0  0.0  0.0  0.0     0.0  0.0  0.0  0.0  0.0  0.0  0.0\n",
       " 0.0  0.0  0.0  0.0  0.0  0.0  0.0  0.0  …  0.0  0.0  0.0  0.0  0.0  0.0  0.0\n",
       " 0.0  0.0  0.0  0.0  0.0  0.0  0.0  0.0     0.0  0.0  0.0  0.0  0.0  0.0  0.0\n",
       " 0.0  0.0  0.0  0.0  0.0  0.0  0.0  0.0     0.0  0.0  0.0  0.0  0.0  0.0  0.0\n",
       " ⋮                        ⋮              ⋱       ⋮                        ⋮  \n",
       " 0.0  0.0  0.0  0.0  0.0  0.0  0.0  0.0     0.0  0.0  0.0  0.0  0.0  0.0  0.0\n",
       " 0.0  0.0  0.0  0.0  0.0  0.0  0.0  0.0  …  0.0  0.0  0.0  0.0  0.0  0.0  0.0\n",
       " 0.0  0.0  0.0  0.0  0.0  0.0  0.0  0.0     0.0  0.0  0.0  0.0  0.0  0.0  0.0\n",
       " 0.0  0.0  0.0  0.0  0.0  0.0  0.0  0.0     0.0  0.0  0.0  0.0  0.0  0.0  0.0\n",
       " 0.0  0.0  0.0  0.0  0.0  0.0  0.0  0.0     0.0  0.0  0.0  0.0  0.0  0.0  0.0\n",
       " 0.0  0.0  0.0  0.0  0.0  0.0  0.0  0.0     1.0  0.0  0.0  0.0  0.0  0.0  0.0\n",
       " 0.0  0.0  0.0  0.0  0.0  0.0  0.0  0.0  …  0.0  1.0  0.0  0.0  0.0  0.0  0.0\n",
       " 0.0  0.0  0.0  0.0  0.0  0.0  0.0  0.0     0.0  0.0  1.0  0.0  0.0  0.0  0.0\n",
       " 0.0  0.0  0.0  0.0  0.0  0.0  0.0  0.0     0.0  0.0  0.0  1.0  0.0  0.0  0.0\n",
       " 0.0  0.0  0.0  0.0  0.0  0.0  0.0  0.0     0.0  0.0  0.0  0.0  1.0  0.0  0.0\n",
       " 0.0  0.0  0.0  0.0  0.0  0.0  0.0  0.0     0.0  0.0  0.0  0.0  0.0  1.0  0.0\n",
       " 0.0  0.0  0.0  0.0  0.0  0.0  0.0  0.0  …  0.0  0.0  0.0  0.0  0.0  0.0  1.0"
      ]
     },
     "execution_count": 3,
     "metadata": {},
     "output_type": "execute_result"
    }
   ],
   "source": [
    "n = p = size(y, 1)\n",
    "X = eye(n)"
   ]
  },
  {
   "cell_type": "markdown",
   "metadata": {},
   "source": [
    "Now we define inequality constraints as specified earlier. "
   ]
  },
  {
   "cell_type": "code",
   "execution_count": 4,
   "metadata": {
    "collapsed": false,
    "scrolled": true
   },
   "outputs": [
    {
     "data": {
      "text/plain": [
       "165×166 Array{Float64,2}:\n",
       " 1.0  -1.0   0.0   0.0   0.0   0.0  …   0.0   0.0   0.0   0.0   0.0   0.0\n",
       " 0.0   1.0  -1.0   0.0   0.0   0.0      0.0   0.0   0.0   0.0   0.0   0.0\n",
       " 0.0   0.0   1.0  -1.0   0.0   0.0      0.0   0.0   0.0   0.0   0.0   0.0\n",
       " 0.0   0.0   0.0   1.0  -1.0   0.0      0.0   0.0   0.0   0.0   0.0   0.0\n",
       " 0.0   0.0   0.0   0.0   1.0  -1.0      0.0   0.0   0.0   0.0   0.0   0.0\n",
       " 0.0   0.0   0.0   0.0   0.0   1.0  …   0.0   0.0   0.0   0.0   0.0   0.0\n",
       " 0.0   0.0   0.0   0.0   0.0   0.0      0.0   0.0   0.0   0.0   0.0   0.0\n",
       " 0.0   0.0   0.0   0.0   0.0   0.0      0.0   0.0   0.0   0.0   0.0   0.0\n",
       " 0.0   0.0   0.0   0.0   0.0   0.0      0.0   0.0   0.0   0.0   0.0   0.0\n",
       " 0.0   0.0   0.0   0.0   0.0   0.0      0.0   0.0   0.0   0.0   0.0   0.0\n",
       " 0.0   0.0   0.0   0.0   0.0   0.0  …   0.0   0.0   0.0   0.0   0.0   0.0\n",
       " 0.0   0.0   0.0   0.0   0.0   0.0      0.0   0.0   0.0   0.0   0.0   0.0\n",
       " 0.0   0.0   0.0   0.0   0.0   0.0      0.0   0.0   0.0   0.0   0.0   0.0\n",
       " ⋮                             ⋮    ⋱   ⋮                             ⋮  \n",
       " 0.0   0.0   0.0   0.0   0.0   0.0      0.0   0.0   0.0   0.0   0.0   0.0\n",
       " 0.0   0.0   0.0   0.0   0.0   0.0      0.0   0.0   0.0   0.0   0.0   0.0\n",
       " 0.0   0.0   0.0   0.0   0.0   0.0  …   0.0   0.0   0.0   0.0   0.0   0.0\n",
       " 0.0   0.0   0.0   0.0   0.0   0.0      0.0   0.0   0.0   0.0   0.0   0.0\n",
       " 0.0   0.0   0.0   0.0   0.0   0.0      0.0   0.0   0.0   0.0   0.0   0.0\n",
       " 0.0   0.0   0.0   0.0   0.0   0.0      0.0   0.0   0.0   0.0   0.0   0.0\n",
       " 0.0   0.0   0.0   0.0   0.0   0.0     -1.0   0.0   0.0   0.0   0.0   0.0\n",
       " 0.0   0.0   0.0   0.0   0.0   0.0  …   1.0  -1.0   0.0   0.0   0.0   0.0\n",
       " 0.0   0.0   0.0   0.0   0.0   0.0      0.0   1.0  -1.0   0.0   0.0   0.0\n",
       " 0.0   0.0   0.0   0.0   0.0   0.0      0.0   0.0   1.0  -1.0   0.0   0.0\n",
       " 0.0   0.0   0.0   0.0   0.0   0.0      0.0   0.0   0.0   1.0  -1.0   0.0\n",
       " 0.0   0.0   0.0   0.0   0.0   0.0      0.0   0.0   0.0   0.0   1.0  -1.0"
      ]
     },
     "execution_count": 4,
     "metadata": {},
     "output_type": "execute_result"
    }
   ],
   "source": [
    "C = [eye(p-1) zeros(p-1, 1)] - [zeros(p-1, 1) eye(p-1)]"
   ]
  },
  {
   "cell_type": "code",
   "execution_count": 5,
   "metadata": {
    "collapsed": false
   },
   "outputs": [
    {
     "data": {
      "text/plain": [
       "165-element Array{Float64,1}:\n",
       " 0.0\n",
       " 0.0\n",
       " 0.0\n",
       " 0.0\n",
       " 0.0\n",
       " 0.0\n",
       " 0.0\n",
       " 0.0\n",
       " 0.0\n",
       " 0.0\n",
       " 0.0\n",
       " 0.0\n",
       " 0.0\n",
       " ⋮  \n",
       " 0.0\n",
       " 0.0\n",
       " 0.0\n",
       " 0.0\n",
       " 0.0\n",
       " 0.0\n",
       " 0.0\n",
       " 0.0\n",
       " 0.0\n",
       " 0.0\n",
       " 0.0\n",
       " 0.0"
      ]
     },
     "execution_count": 5,
     "metadata": {},
     "output_type": "execute_result"
    }
   ],
   "source": [
    "d = zeros(size(C, 1))"
   ]
  },
  {
   "cell_type": "markdown",
   "metadata": {},
   "source": [
    "Then we estimate constrained lasso solution path. "
   ]
  },
  {
   "cell_type": "code",
   "execution_count": 6,
   "metadata": {
    "collapsed": true
   },
   "outputs": [
    {
     "name": "stderr",
     "output_type": "stream",
     "text": [
      "\u001b[1m\u001b[33mWARNING: \u001b[39m\u001b[22m\u001b[33misnan{T <: Number}(x::AbstractArray{T}) is deprecated, use isnan.(x) instead.\u001b[39m\n",
      "Stacktrace:\n",
      " [1] \u001b[1mdepwarn\u001b[22m\u001b[22m\u001b[1m(\u001b[22m\u001b[22m::String, ::Symbol\u001b[1m)\u001b[22m\u001b[22m at \u001b[1m./deprecated.jl:70\u001b[22m\u001b[22m\n",
      " [2] \u001b[1misnan\u001b[22m\u001b[22m\u001b[1m(\u001b[22m\u001b[22m::Array{Float64,1}\u001b[1m)\u001b[22m\u001b[22m at \u001b[1m./deprecated.jl:57\u001b[22m\u001b[22m\n",
      " [3] \u001b[1mpopulate_solution!\u001b[22m\u001b[22m\u001b[1m(\u001b[22m\u001b[22m::ECOS.ECOSMathProgModel, ::Convex.Problem, ::Dict{UInt64,Tuple{Int64,Int64}}, ::Array{Convex.ConicConstr,1}\u001b[1m)\u001b[22m\u001b[22m at \u001b[1m/Users/juhyun-kim/.julia/v0.6/Convex/src/solution.jl:118\u001b[22m\u001b[22m\n",
      " [4] \u001b[1m#solve!#25\u001b[22m\u001b[22m\u001b[1m(\u001b[22m\u001b[22m::Bool, ::Bool, ::Bool, ::Function, ::Convex.Problem\u001b[1m)\u001b[22m\u001b[22m at \u001b[1m/Users/juhyun-kim/.julia/v0.6/Convex/src/solution.jl:38\u001b[22m\u001b[22m\n",
      " [5] \u001b[1m#solve!#24\u001b[22m\u001b[22m\u001b[1m(\u001b[22m\u001b[22m::Array{Any,1}, ::Function, ::Convex.Problem, ::ECOS.ECOSSolver\u001b[1m)\u001b[22m\u001b[22m at \u001b[1m/Users/juhyun-kim/.julia/v0.6/Convex/src/solution.jl:13\u001b[22m\u001b[22m\n",
      " [6] \u001b[1m#find_ρmax#61\u001b[22m\u001b[22m\u001b[1m(\u001b[22m\u001b[22m::Array{Float64,2}, ::Array{Float64,1}, ::Array{Float64,2}, ::Array{Float64,1}, ::Array{Bool,1}, ::ECOS.ECOSSolver, ::Function, ::Array{Float64,2}, ::Array{Float64,1}\u001b[1m)\u001b[22m\u001b[22m at \u001b[1m/Users/juhyun-kim/.julia/v0.6/ConstrainedLasso/src/classopath.jl:690\u001b[22m\u001b[22m\n",
      " [7] \u001b[1m(::ConstrainedLasso.#kw##find_ρmax)\u001b[22m\u001b[22m\u001b[1m(\u001b[22m\u001b[22m::Array{Any,1}, ::ConstrainedLasso.#find_ρmax, ::Array{Float64,2}, ::Array{Float64,1}\u001b[1m)\u001b[22m\u001b[22m at \u001b[1m./<missing>:0\u001b[22m\u001b[22m\n",
      " [8] \u001b[1m#lsq_classopath#2\u001b[22m\u001b[22m\u001b[1m(\u001b[22m\u001b[22m::Array{Float64,2}, ::Array{Float64,1}, ::Array{Float64,2}, ::Array{Float64,1}, ::Float64, ::Array{Bool,1}, ::ECOS.ECOSSolver, ::Function, ::Array{Float64,2}, ::Array{Float64,1}\u001b[1m)\u001b[22m\u001b[22m at \u001b[1m/Users/juhyun-kim/.julia/v0.6/ConstrainedLasso/src/classopath.jl:100\u001b[22m\u001b[22m\n",
      " [9] \u001b[1m(::ConstrainedLasso.#kw##lsq_classopath)\u001b[22m\u001b[22m\u001b[1m(\u001b[22m\u001b[22m::Array{Any,1}, ::ConstrainedLasso.#lsq_classopath, ::Array{Float64,2}, ::Array{Float64,1}\u001b[1m)\u001b[22m\u001b[22m at \u001b[1m./<missing>:0\u001b[22m\u001b[22m\n",
      " [10] \u001b[1minclude_string\u001b[22m\u001b[22m\u001b[1m(\u001b[22m\u001b[22m::String, ::String\u001b[1m)\u001b[22m\u001b[22m at \u001b[1m./loading.jl:515\u001b[22m\u001b[22m\n",
      " [11] \u001b[1minclude_string\u001b[22m\u001b[22m\u001b[1m(\u001b[22m\u001b[22m::Module, ::String, ::String\u001b[1m)\u001b[22m\u001b[22m at \u001b[1m/Users/juhyun-kim/.julia/v0.6/Compat/src/Compat.jl:407\u001b[22m\u001b[22m\n",
      " [12] \u001b[1mexecute_request\u001b[22m\u001b[22m\u001b[1m(\u001b[22m\u001b[22m::ZMQ.Socket, ::IJulia.Msg\u001b[1m)\u001b[22m\u001b[22m at \u001b[1m/Users/juhyun-kim/.julia/v0.6/IJulia/src/execute_request.jl:154\u001b[22m\u001b[22m\n",
      " [13] \u001b[1meventloop\u001b[22m\u001b[22m\u001b[1m(\u001b[22m\u001b[22m::ZMQ.Socket\u001b[1m)\u001b[22m\u001b[22m at \u001b[1m/Users/juhyun-kim/.julia/v0.6/IJulia/src/eventloop.jl:8\u001b[22m\u001b[22m\n",
      " [14] \u001b[1m(::IJulia.##14#17)\u001b[22m\u001b[22m\u001b[1m(\u001b[22m\u001b[22m\u001b[1m)\u001b[22m\u001b[22m at \u001b[1m./task.jl:335\u001b[22m\u001b[22m\n",
      "while loading In[6], in expression starting on line 1\n",
      "\u001b[1m\u001b[33mWARNING: \u001b[39m\u001b[22m\u001b[33msqrt{T <: Number}(x::AbstractArray{T}) is deprecated, use sqrt.(x) instead.\u001b[39m\n",
      "Stacktrace:\n",
      " [1] \u001b[1mdepwarn\u001b[22m\u001b[22m\u001b[1m(\u001b[22m\u001b[22m::String, ::Symbol\u001b[1m)\u001b[22m\u001b[22m at \u001b[1m./deprecated.jl:70\u001b[22m\u001b[22m\n",
      " [2] \u001b[1msqrt\u001b[22m\u001b[22m\u001b[1m(\u001b[22m\u001b[22m::Array{Float64,1}\u001b[1m)\u001b[22m\u001b[22m at \u001b[1m./deprecated.jl:57\u001b[22m\u001b[22m\n",
      " [3] \u001b[1m#lsq_constrsparsereg#1\u001b[22m\u001b[22m\u001b[1m(\u001b[22m\u001b[22m::Array{Float64,2}, ::Array{Float64,1}, ::Array{Float64,2}, ::Array{Float64,1}, ::Array{Float64,1}, ::Array{Bool,1}, ::Bool, ::ECOS.ECOSSolver, ::ConstrainedLasso.#lsq_constrsparsereg, ::Array{Float64,2}, ::Array{Float64,1}, ::Float64\u001b[1m)\u001b[22m\u001b[22m at \u001b[1m/Users/juhyun-kim/.julia/v0.6/ConstrainedLasso/src/constrsparsereg.jl:63\u001b[22m\u001b[22m\n",
      " [4] \u001b[1m(::ConstrainedLasso.#kw##lsq_constrsparsereg)\u001b[22m\u001b[22m\u001b[1m(\u001b[22m\u001b[22m::Array{Any,1}, ::ConstrainedLasso.#lsq_constrsparsereg, ::Array{Float64,2}, ::Array{Float64,1}, ::Float64\u001b[1m)\u001b[22m\u001b[22m at \u001b[1m./<missing>:0\u001b[22m\u001b[22m\n",
      " [5] \u001b[1m#lsq_classopath#2\u001b[22m\u001b[22m\u001b[1m(\u001b[22m\u001b[22m::Array{Float64,2}, ::Array{Float64,1}, ::Array{Float64,2}, ::Array{Float64,1}, ::Float64, ::Array{Bool,1}, ::ECOS.ECOSSolver, ::Function, ::Array{Float64,2}, ::Array{Float64,1}\u001b[1m)\u001b[22m\u001b[22m at \u001b[1m/Users/juhyun-kim/.julia/v0.6/ConstrainedLasso/src/classopath.jl:104\u001b[22m\u001b[22m\n",
      " [6] \u001b[1m(::ConstrainedLasso.#kw##lsq_classopath)\u001b[22m\u001b[22m\u001b[1m(\u001b[22m\u001b[22m::Array{Any,1}, ::ConstrainedLasso.#lsq_classopath, ::Array{Float64,2}, ::Array{Float64,1}\u001b[1m)\u001b[22m\u001b[22m at \u001b[1m./<missing>:0\u001b[22m\u001b[22m\n",
      " [7] \u001b[1minclude_string\u001b[22m\u001b[22m\u001b[1m(\u001b[22m\u001b[22m::String, ::String\u001b[1m)\u001b[22m\u001b[22m at \u001b[1m./loading.jl:515\u001b[22m\u001b[22m\n",
      " [8] \u001b[1minclude_string\u001b[22m\u001b[22m\u001b[1m(\u001b[22m\u001b[22m::Module, ::String, ::String\u001b[1m)\u001b[22m\u001b[22m at \u001b[1m/Users/juhyun-kim/.julia/v0.6/Compat/src/Compat.jl:407\u001b[22m\u001b[22m\n",
      " [9] \u001b[1mexecute_request\u001b[22m\u001b[22m\u001b[1m(\u001b[22m\u001b[22m::ZMQ.Socket, ::IJulia.Msg\u001b[1m)\u001b[22m\u001b[22m at \u001b[1m/Users/juhyun-kim/.julia/v0.6/IJulia/src/execute_request.jl:154\u001b[22m\u001b[22m\n",
      " [10] \u001b[1meventloop\u001b[22m\u001b[22m\u001b[1m(\u001b[22m\u001b[22m::ZMQ.Socket\u001b[1m)\u001b[22m\u001b[22m at \u001b[1m/Users/juhyun-kim/.julia/v0.6/IJulia/src/eventloop.jl:8\u001b[22m\u001b[22m\n",
      " [11] \u001b[1m(::IJulia.##14#17)\u001b[22m\u001b[22m\u001b[1m(\u001b[22m\u001b[22m\u001b[1m)\u001b[22m\u001b[22m at \u001b[1m./task.jl:335\u001b[22m\u001b[22m\n",
      "while loading In[6], in expression starting on line 1\n",
      "\u001b[1m\u001b[33mWARNING: \u001b[39m\u001b[22m\u001b[33mArray{T}(::Type{T}, m::Int) is deprecated, use Array{T}(m) instead.\u001b[39m\n",
      "Stacktrace:\n",
      " [1] \u001b[1mdepwarn\u001b[22m\u001b[22m\u001b[1m(\u001b[22m\u001b[22m::String, ::Symbol\u001b[1m)\u001b[22m\u001b[22m at \u001b[1m./deprecated.jl:70\u001b[22m\u001b[22m\n",
      " [2] \u001b[1mArray\u001b[22m\u001b[22m\u001b[1m(\u001b[22m\u001b[22m::Type{Convex.ConicConstr}, ::Int64\u001b[1m)\u001b[22m\u001b[22m at \u001b[1m./deprecated.jl:57\u001b[22m\u001b[22m\n",
      " [3] \u001b[1mconic_form!\u001b[22m\u001b[22m\u001b[1m(\u001b[22m\u001b[22m::Convex.SOCElemConstraint, ::Convex.UniqueConicForms\u001b[1m)\u001b[22m\u001b[22m at \u001b[1m/Users/juhyun-kim/.julia/v0.6/Convex/src/constraints/soc_constraints.jl:50\u001b[22m\u001b[22m\n",
      " [4] \u001b[1mconic_form!\u001b[22m\u001b[22m\u001b[1m(\u001b[22m\u001b[22m::Convex.QolElemAtom, ::Convex.UniqueConicForms\u001b[1m)\u001b[22m\u001b[22m at \u001b[1m/Users/juhyun-kim/.julia/v0.6/Convex/src/atoms/second_order_cone/qol_elementwise.jl:41\u001b[22m\u001b[22m\n",
      " [5] \u001b[1mconic_form!\u001b[22m\u001b[22m\u001b[1m(\u001b[22m\u001b[22m::Convex.MultiplyAtom, ::Convex.UniqueConicForms\u001b[1m)\u001b[22m\u001b[22m at \u001b[1m/Users/juhyun-kim/.julia/v0.6/Convex/src/atoms/affine/multiply_divide.jl:71\u001b[22m\u001b[22m\n",
      " [6] \u001b[1mconic_form!\u001b[22m\u001b[22m\u001b[1m(\u001b[22m\u001b[22m::Convex.AdditionAtom, ::Convex.UniqueConicForms\u001b[1m)\u001b[22m\u001b[22m at \u001b[1m/Users/juhyun-kim/.julia/v0.6/Convex/src/atoms/affine/add_subtract.jl:108\u001b[22m\u001b[22m\n",
      " [7] \u001b[1mconic_form!\u001b[22m\u001b[22m\u001b[1m(\u001b[22m\u001b[22m::Convex.EqConstraint, ::Convex.UniqueConicForms\u001b[1m)\u001b[22m\u001b[22m at \u001b[1m/Users/juhyun-kim/.julia/v0.6/Convex/src/constraints/constraints.jl:43\u001b[22m\u001b[22m\n",
      " [8] \u001b[1mconic_form!\u001b[22m\u001b[22m\u001b[1m(\u001b[22m\u001b[22m::Convex.Problem, ::Convex.UniqueConicForms\u001b[1m)\u001b[22m\u001b[22m at \u001b[1m/Users/juhyun-kim/.julia/v0.6/Convex/src/problems.jl:99\u001b[22m\u001b[22m\n",
      " [9] \u001b[1mconic_problem\u001b[22m\u001b[22m\u001b[1m(\u001b[22m\u001b[22m::Convex.Problem\u001b[1m)\u001b[22m\u001b[22m at \u001b[1m/Users/juhyun-kim/.julia/v0.6/Convex/src/problems.jl:124\u001b[22m\u001b[22m\n",
      " [10] \u001b[1m#solve!#25\u001b[22m\u001b[22m\u001b[1m(\u001b[22m\u001b[22m::Bool, ::Bool, ::Bool, ::Function, ::Convex.Problem\u001b[1m)\u001b[22m\u001b[22m at \u001b[1m/Users/juhyun-kim/.julia/v0.6/Convex/src/solution.jl:25\u001b[22m\u001b[22m\n",
      " [11] \u001b[1m#solve!#24\u001b[22m\u001b[22m\u001b[1m(\u001b[22m\u001b[22m::Array{Any,1}, ::Function, ::Convex.Problem, ::ECOS.ECOSSolver\u001b[1m)\u001b[22m\u001b[22m at \u001b[1m/Users/juhyun-kim/.julia/v0.6/Convex/src/solution.jl:13\u001b[22m\u001b[22m\n",
      " [12] \u001b[1m#lsq_constrsparsereg#1\u001b[22m\u001b[22m\u001b[1m(\u001b[22m\u001b[22m::Array{Float64,2}, ::Array{Float64,1}, ::Array{Float64,2}, ::Array{Float64,1}, ::Array{Float64,1}, ::Array{Bool,1}, ::Bool, ::ECOS.ECOSSolver, ::ConstrainedLasso.#lsq_constrsparsereg, ::Array{Float64,2}, ::Array{Float64,1}, ::Float64\u001b[1m)\u001b[22m\u001b[22m at \u001b[1m/Users/juhyun-kim/.julia/v0.6/ConstrainedLasso/src/constrsparsereg.jl:84\u001b[22m\u001b[22m\n",
      " [13] \u001b[1m(::ConstrainedLasso.#kw##lsq_constrsparsereg)\u001b[22m\u001b[22m\u001b[1m(\u001b[22m\u001b[22m::Array{Any,1}, ::ConstrainedLasso.#lsq_constrsparsereg, ::Array{Float64,2}, ::Array{Float64,1}, ::Float64\u001b[1m)\u001b[22m\u001b[22m at \u001b[1m./<missing>:0\u001b[22m\u001b[22m\n",
      " [14] \u001b[1m#lsq_classopath#2\u001b[22m\u001b[22m\u001b[1m(\u001b[22m\u001b[22m::Array{Float64,2}, ::Array{Float64,1}, ::Array{Float64,2}, ::Array{Float64,1}, ::Float64, ::Array{Bool,1}, ::ECOS.ECOSSolver, ::Function, ::Array{Float64,2}, ::Array{Float64,1}\u001b[1m)\u001b[22m\u001b[22m at \u001b[1m/Users/juhyun-kim/.julia/v0.6/ConstrainedLasso/src/classopath.jl:104\u001b[22m\u001b[22m\n",
      " [15] \u001b[1m(::ConstrainedLasso.#kw##lsq_classopath)\u001b[22m\u001b[22m\u001b[1m(\u001b[22m\u001b[22m::Array{Any,1}, ::ConstrainedLasso.#lsq_classopath, ::Array{Float64,2}, ::Array{Float64,1}\u001b[1m)\u001b[22m\u001b[22m at \u001b[1m./<missing>:0\u001b[22m\u001b[22m\n",
      " [16] \u001b[1minclude_string\u001b[22m\u001b[22m\u001b[1m(\u001b[22m\u001b[22m::String, ::String\u001b[1m)\u001b[22m\u001b[22m at \u001b[1m./loading.jl:515\u001b[22m\u001b[22m\n",
      " [17] \u001b[1minclude_string\u001b[22m\u001b[22m\u001b[1m(\u001b[22m\u001b[22m::Module, ::String, ::String\u001b[1m)\u001b[22m\u001b[22m at \u001b[1m/Users/juhyun-kim/.julia/v0.6/Compat/src/Compat.jl:407\u001b[22m\u001b[22m\n",
      " [18] \u001b[1mexecute_request\u001b[22m\u001b[22m\u001b[1m(\u001b[22m\u001b[22m::ZMQ.Socket, ::IJulia.Msg\u001b[1m)\u001b[22m\u001b[22m at \u001b[1m/Users/juhyun-kim/.julia/v0.6/IJulia/src/execute_request.jl:154\u001b[22m\u001b[22m\n",
      " [19] \u001b[1meventloop\u001b[22m\u001b[22m\u001b[1m(\u001b[22m\u001b[22m::ZMQ.Socket\u001b[1m)\u001b[22m\u001b[22m at \u001b[1m/Users/juhyun-kim/.julia/v0.6/IJulia/src/eventloop.jl:8\u001b[22m\u001b[22m\n",
      " [20] \u001b[1m(::IJulia.##14#17)\u001b[22m\u001b[22m\u001b[1m(\u001b[22m\u001b[22m\u001b[1m)\u001b[22m\u001b[22m at \u001b[1m./task.jl:335\u001b[22m\u001b[22m\n",
      "while loading In[6], in expression starting on line 1\n",
      "\u001b[1m\u001b[33mWARNING: \u001b[39m\u001b[22m\u001b[33mArray{T}(::Type{T}, m::Int) is deprecated, use Array{T}(m) instead.\u001b[39m\n",
      "Stacktrace:\n",
      " [1] \u001b[1mdepwarn\u001b[22m\u001b[22m\u001b[1m(\u001b[22m\u001b[22m::String, ::Symbol\u001b[1m)\u001b[22m\u001b[22m at \u001b[1m./deprecated.jl:70\u001b[22m\u001b[22m\n",
      " [2] \u001b[1mArray\u001b[22m\u001b[22m\u001b[1m(\u001b[22m\u001b[22m::Type{DataStructures.OrderedDict{UInt64,Tuple{Union{AbstractArray, Number},Union{AbstractArray, Number}}}}, ::Int64\u001b[1m)\u001b[22m\u001b[22m at \u001b[1m./deprecated.jl:57\u001b[22m\u001b[22m\n",
      " [3] \u001b[1mconic_form!\u001b[22m\u001b[22m\u001b[1m(\u001b[22m\u001b[22m::Convex.SOCElemConstraint, ::Convex.UniqueConicForms\u001b[1m)\u001b[22m\u001b[22m at \u001b[1m/Users/juhyun-kim/.julia/v0.6/Convex/src/constraints/soc_constraints.jl:51\u001b[22m\u001b[22m\n",
      " [4] \u001b[1mconic_form!\u001b[22m\u001b[22m\u001b[1m(\u001b[22m\u001b[22m::Convex.QolElemAtom, ::Convex.UniqueConicForms\u001b[1m)\u001b[22m\u001b[22m at \u001b[1m/Users/juhyun-kim/.julia/v0.6/Convex/src/atoms/second_order_cone/qol_elementwise.jl:41\u001b[22m\u001b[22m\n",
      " [5] \u001b[1mconic_form!\u001b[22m\u001b[22m\u001b[1m(\u001b[22m\u001b[22m::Convex.MultiplyAtom, ::Convex.UniqueConicForms\u001b[1m)\u001b[22m\u001b[22m at \u001b[1m/Users/juhyun-kim/.julia/v0.6/Convex/src/atoms/affine/multiply_divide.jl:71\u001b[22m\u001b[22m\n",
      " [6] \u001b[1mconic_form!\u001b[22m\u001b[22m\u001b[1m(\u001b[22m\u001b[22m::Convex.AdditionAtom, ::Convex.UniqueConicForms\u001b[1m)\u001b[22m\u001b[22m at \u001b[1m/Users/juhyun-kim/.julia/v0.6/Convex/src/atoms/affine/add_subtract.jl:108\u001b[22m\u001b[22m\n",
      " [7] \u001b[1mconic_form!\u001b[22m\u001b[22m\u001b[1m(\u001b[22m\u001b[22m::Convex.EqConstraint, ::Convex.UniqueConicForms\u001b[1m)\u001b[22m\u001b[22m at \u001b[1m/Users/juhyun-kim/.julia/v0.6/Convex/src/constraints/constraints.jl:43\u001b[22m\u001b[22m\n",
      " [8] \u001b[1mconic_form!\u001b[22m\u001b[22m\u001b[1m(\u001b[22m\u001b[22m::Convex.Problem, ::Convex.UniqueConicForms\u001b[1m)\u001b[22m\u001b[22m at \u001b[1m/Users/juhyun-kim/.julia/v0.6/Convex/src/problems.jl:99\u001b[22m\u001b[22m\n",
      " [9] \u001b[1mconic_problem\u001b[22m\u001b[22m\u001b[1m(\u001b[22m\u001b[22m::Convex.Problem\u001b[1m)\u001b[22m\u001b[22m at \u001b[1m/Users/juhyun-kim/.julia/v0.6/Convex/src/problems.jl:124\u001b[22m\u001b[22m\n",
      " [10] \u001b[1m#solve!#25\u001b[22m\u001b[22m\u001b[1m(\u001b[22m\u001b[22m::Bool, ::Bool, ::Bool, ::Function, ::Convex.Problem\u001b[1m)\u001b[22m\u001b[22m at \u001b[1m/Users/juhyun-kim/.julia/v0.6/Convex/src/solution.jl:25\u001b[22m\u001b[22m\n",
      " [11] \u001b[1m#solve!#24\u001b[22m\u001b[22m\u001b[1m(\u001b[22m\u001b[22m::Array{Any,1}, ::Function, ::Convex.Problem, ::ECOS.ECOSSolver\u001b[1m)\u001b[22m\u001b[22m at \u001b[1m/Users/juhyun-kim/.julia/v0.6/Convex/src/solution.jl:13\u001b[22m\u001b[22m\n",
      " [12] \u001b[1m#lsq_constrsparsereg#1\u001b[22m\u001b[22m\u001b[1m(\u001b[22m\u001b[22m::Array{Float64,2}, ::Array{Float64,1}, ::Array{Float64,2}, ::Array{Float64,1}, ::Array{Float64,1}, ::Array{Bool,1}, ::Bool, ::ECOS.ECOSSolver, ::ConstrainedLasso.#lsq_constrsparsereg, ::Array{Float64,2}, ::Array{Float64,1}, ::Float64\u001b[1m)\u001b[22m\u001b[22m at \u001b[1m/Users/juhyun-kim/.julia/v0.6/ConstrainedLasso/src/constrsparsereg.jl:84\u001b[22m\u001b[22m\n",
      " [13] \u001b[1m(::ConstrainedLasso.#kw##lsq_constrsparsereg)\u001b[22m\u001b[22m\u001b[1m(\u001b[22m\u001b[22m::Array{Any,1}, ::ConstrainedLasso.#lsq_constrsparsereg, ::Array{Float64,2}, ::Array{Float64,1}, ::Float64\u001b[1m)\u001b[22m\u001b[22m at \u001b[1m./<missing>:0\u001b[22m\u001b[22m\n",
      " [14] \u001b[1m#lsq_classopath#2\u001b[22m\u001b[22m\u001b[1m(\u001b[22m\u001b[22m::Array{Float64,2}, ::Array{Float64,1}, ::Array{Float64,2}, ::Array{Float64,1}, ::Float64, ::Array{Bool,1}, ::ECOS.ECOSSolver, ::Function, ::Array{Float64,2}, ::Array{Float64,1}\u001b[1m)\u001b[22m\u001b[22m at \u001b[1m/Users/juhyun-kim/.julia/v0.6/ConstrainedLasso/src/classopath.jl:104\u001b[22m\u001b[22m\n",
      " [15] \u001b[1m(::ConstrainedLasso.#kw##lsq_classopath)\u001b[22m\u001b[22m\u001b[1m(\u001b[22m\u001b[22m::Array{Any,1}, ::ConstrainedLasso.#lsq_classopath, ::Array{Float64,2}, ::Array{Float64,1}\u001b[1m)\u001b[22m\u001b[22m at \u001b[1m./<missing>:0\u001b[22m\u001b[22m\n",
      " [16] \u001b[1minclude_string\u001b[22m\u001b[22m\u001b[1m(\u001b[22m\u001b[22m::String, ::String\u001b[1m)\u001b[22m\u001b[22m at \u001b[1m./loading.jl:515\u001b[22m\u001b[22m\n",
      " [17] \u001b[1minclude_string\u001b[22m\u001b[22m\u001b[1m(\u001b[22m\u001b[22m::Module, ::String, ::String\u001b[1m)\u001b[22m\u001b[22m at \u001b[1m/Users/juhyun-kim/.julia/v0.6/Compat/src/Compat.jl:407\u001b[22m\u001b[22m\n",
      " [18] \u001b[1mexecute_request\u001b[22m\u001b[22m\u001b[1m(\u001b[22m\u001b[22m::ZMQ.Socket, ::IJulia.Msg\u001b[1m)\u001b[22m\u001b[22m at \u001b[1m/Users/juhyun-kim/.julia/v0.6/IJulia/src/execute_request.jl:154\u001b[22m\u001b[22m\n",
      " [19] \u001b[1meventloop\u001b[22m\u001b[22m\u001b[1m(\u001b[22m\u001b[22m::ZMQ.Socket\u001b[1m)\u001b[22m\u001b[22m at \u001b[1m/Users/juhyun-kim/.julia/v0.6/IJulia/src/eventloop.jl:8\u001b[22m\u001b[22m\n",
      " [20] \u001b[1m(::IJulia.##14#17)\u001b[22m\u001b[22m\u001b[1m(\u001b[22m\u001b[22m\u001b[1m)\u001b[22m\u001b[22m at \u001b[1m./task.jl:335\u001b[22m\u001b[22m\n",
      "while loading In[6], in expression starting on line 1\n",
      "\u001b[1m\u001b[33mWARNING: \u001b[39m\u001b[22m\u001b[33mArray{T}(::Type{T}, m::Int) is deprecated, use Array{T}(m) instead.\u001b[39m\n",
      "Stacktrace:\n",
      " [1] \u001b[1mdepwarn\u001b[22m\u001b[22m\u001b[1m(\u001b[22m\u001b[22m::String, ::Symbol\u001b[1m)\u001b[22m\u001b[22m at \u001b[1m./deprecated.jl:70\u001b[22m\u001b[22m\n",
      " [2] \u001b[1mArray\u001b[22m\u001b[22m\u001b[1m(\u001b[22m\u001b[22m::Type{DataStructures.OrderedDict{UInt64,Tuple{Union{AbstractArray, Number},Union{AbstractArray, Number}}}}, ::Int64\u001b[1m)\u001b[22m\u001b[22m at \u001b[1m./deprecated.jl:57\u001b[22m\u001b[22m\n",
      " [3] \u001b[1mconic_form!\u001b[22m\u001b[22m\u001b[1m(\u001b[22m\u001b[22m::Convex.SOCConstraint, ::Convex.UniqueConicForms\u001b[1m)\u001b[22m\u001b[22m at \u001b[1m/Users/juhyun-kim/.julia/v0.6/Convex/src/constraints/soc_constraints.jl:21\u001b[22m\u001b[22m\n",
      " [4] \u001b[1mconic_form!\u001b[22m\u001b[22m\u001b[1m(\u001b[22m\u001b[22m::Convex.EucNormAtom, ::Convex.UniqueConicForms\u001b[1m)\u001b[22m\u001b[22m at \u001b[1m/Users/juhyun-kim/.julia/v0.6/Convex/src/atoms/second_order_cone/norm2.jl:47\u001b[22m\u001b[22m\n",
      " [5] \u001b[1mconic_form!\u001b[22m\u001b[22m\u001b[1m(\u001b[22m\u001b[22m::Convex.MultiplyAtom, ::Convex.UniqueConicForms\u001b[1m)\u001b[22m\u001b[22m at \u001b[1m/Users/juhyun-kim/.julia/v0.6/Convex/src/atoms/affine/multiply_divide.jl:71\u001b[22m\u001b[22m\n",
      " [6] \u001b[1mconic_form!\u001b[22m\u001b[22m\u001b[1m(\u001b[22m\u001b[22m::Convex.SOCElemConstraint, ::Convex.UniqueConicForms\u001b[1m)\u001b[22m\u001b[22m at \u001b[1m/Users/juhyun-kim/.julia/v0.6/Convex/src/constraints/soc_constraints.jl:53\u001b[22m\u001b[22m\n",
      " [7] \u001b[1mconic_form!\u001b[22m\u001b[22m\u001b[1m(\u001b[22m\u001b[22m::Convex.QolElemAtom, ::Convex.UniqueConicForms\u001b[1m)\u001b[22m\u001b[22m at \u001b[1m/Users/juhyun-kim/.julia/v0.6/Convex/src/atoms/second_order_cone/qol_elementwise.jl:41\u001b[22m\u001b[22m\n",
      " [8] \u001b[1mconic_form!\u001b[22m\u001b[22m\u001b[1m(\u001b[22m\u001b[22m::Convex.MultiplyAtom, ::Convex.UniqueConicForms\u001b[1m)\u001b[22m\u001b[22m at \u001b[1m/Users/juhyun-kim/.julia/v0.6/Convex/src/atoms/affine/multiply_divide.jl:71\u001b[22m\u001b[22m\n",
      " [9] \u001b[1mconic_form!\u001b[22m\u001b[22m\u001b[1m(\u001b[22m\u001b[22m::Convex.AdditionAtom, ::Convex.UniqueConicForms\u001b[1m)\u001b[22m\u001b[22m at \u001b[1m/Users/juhyun-kim/.julia/v0.6/Convex/src/atoms/affine/add_subtract.jl:108\u001b[22m\u001b[22m\n",
      " [10] \u001b[1mconic_form!\u001b[22m\u001b[22m\u001b[1m(\u001b[22m\u001b[22m::Convex.EqConstraint, ::Convex.UniqueConicForms\u001b[1m)\u001b[22m\u001b[22m at \u001b[1m/Users/juhyun-kim/.julia/v0.6/Convex/src/constraints/constraints.jl:43\u001b[22m\u001b[22m\n",
      " [11] \u001b[1mconic_form!\u001b[22m\u001b[22m\u001b[1m(\u001b[22m\u001b[22m::Convex.Problem, ::Convex.UniqueConicForms\u001b[1m)\u001b[22m\u001b[22m at \u001b[1m/Users/juhyun-kim/.julia/v0.6/Convex/src/problems.jl:99\u001b[22m\u001b[22m\n",
      " [12] \u001b[1mconic_problem\u001b[22m\u001b[22m\u001b[1m(\u001b[22m\u001b[22m::Convex.Problem\u001b[1m)\u001b[22m\u001b[22m at \u001b[1m/Users/juhyun-kim/.julia/v0.6/Convex/src/problems.jl:124\u001b[22m\u001b[22m\n",
      " [13] \u001b[1m#solve!#25\u001b[22m\u001b[22m\u001b[1m(\u001b[22m\u001b[22m::Bool, ::Bool, ::Bool, ::Function, ::Convex.Problem\u001b[1m)\u001b[22m\u001b[22m at \u001b[1m/Users/juhyun-kim/.julia/v0.6/Convex/src/solution.jl:25\u001b[22m\u001b[22m\n",
      " [14] \u001b[1m#solve!#24\u001b[22m\u001b[22m\u001b[1m(\u001b[22m\u001b[22m::Array{Any,1}, ::Function, ::Convex.Problem, ::ECOS.ECOSSolver\u001b[1m)\u001b[22m\u001b[22m at \u001b[1m/Users/juhyun-kim/.julia/v0.6/Convex/src/solution.jl:13\u001b[22m\u001b[22m\n",
      " [15] \u001b[1m#lsq_constrsparsereg#1\u001b[22m\u001b[22m\u001b[1m(\u001b[22m\u001b[22m::Array{Float64,2}, ::Array{Float64,1}, ::Array{Float64,2}, ::Array{Float64,1}, ::Array{Float64,1}, ::Array{Bool,1}, ::Bool, ::ECOS.ECOSSolver, ::ConstrainedLasso.#lsq_constrsparsereg, ::Array{Float64,2}, ::Array{Float64,1}, ::Float64\u001b[1m)\u001b[22m\u001b[22m at \u001b[1m/Users/juhyun-kim/.julia/v0.6/ConstrainedLasso/src/constrsparsereg.jl:84\u001b[22m\u001b[22m\n",
      " [16] \u001b[1m(::ConstrainedLasso.#kw##lsq_constrsparsereg)\u001b[22m\u001b[22m\u001b[1m(\u001b[22m\u001b[22m::Array{Any,1}, ::ConstrainedLasso.#lsq_constrsparsereg, ::Array{Float64,2}, ::Array{Float64,1}, ::Float64\u001b[1m)\u001b[22m\u001b[22m at \u001b[1m./<missing>:0\u001b[22m\u001b[22m\n",
      " [17] \u001b[1m#lsq_classopath#2\u001b[22m\u001b[22m\u001b[1m(\u001b[22m\u001b[22m::Array{Float64,2}, ::Array{Float64,1}, ::Array{Float64,2}, ::Array{Float64,1}, ::Float64, ::Array{Bool,1}, ::ECOS.ECOSSolver, ::Function, ::Array{Float64,2}, ::Array{Float64,1}\u001b[1m)\u001b[22m\u001b[22m at \u001b[1m/Users/juhyun-kim/.julia/v0.6/ConstrainedLasso/src/classopath.jl:104\u001b[22m\u001b[22m\n",
      " [18] \u001b[1m(::ConstrainedLasso.#kw##lsq_classopath)\u001b[22m\u001b[22m\u001b[1m(\u001b[22m\u001b[22m::Array{Any,1}, ::ConstrainedLasso.#lsq_classopath, ::Array{Float64,2}, ::Array{Float64,1}\u001b[1m)\u001b[22m\u001b[22m at \u001b[1m./<missing>:0\u001b[22m\u001b[22m\n",
      " [19] \u001b[1minclude_string\u001b[22m\u001b[22m\u001b[1m(\u001b[22m\u001b[22m::String, ::String\u001b[1m)\u001b[22m\u001b[22m at \u001b[1m./loading.jl:515\u001b[22m\u001b[22m\n",
      " [20] \u001b[1minclude_string\u001b[22m\u001b[22m\u001b[1m(\u001b[22m\u001b[22m::Module, ::String, ::String\u001b[1m)\u001b[22m\u001b[22m at \u001b[1m/Users/juhyun-kim/.julia/v0.6/Compat/src/Compat.jl:407\u001b[22m\u001b[22m\n",
      " [21] \u001b[1mexecute_request\u001b[22m\u001b[22m\u001b[1m(\u001b[22m\u001b[22m::ZMQ.Socket, ::IJulia.Msg\u001b[1m)\u001b[22m\u001b[22m at \u001b[1m/Users/juhyun-kim/.julia/v0.6/IJulia/src/execute_request.jl:154\u001b[22m\u001b[22m\n",
      " [22] \u001b[1meventloop\u001b[22m\u001b[22m\u001b[1m(\u001b[22m\u001b[22m::ZMQ.Socket\u001b[1m)\u001b[22m\u001b[22m at \u001b[1m/Users/juhyun-kim/.julia/v0.6/IJulia/src/eventloop.jl:8\u001b[22m\u001b[22m\n",
      " [23] \u001b[1m(::IJulia.##14#17)\u001b[22m\u001b[22m\u001b[1m(\u001b[22m\u001b[22m\u001b[1m)\u001b[22m\u001b[22m at \u001b[1m./task.jl:335\u001b[22m\u001b[22m\n",
      "while loading In[6], in expression starting on line 1\n"
     ]
    }
   ],
   "source": [
    "β̂path, ρpath, = lsq_classopath(X, y; Aineq = C, bineq = d); "
   ]
  },
  {
   "cell_type": "code",
   "execution_count": 7,
   "metadata": {
    "collapsed": false
   },
   "outputs": [
    {
     "data": {
      "text/plain": [
       "166×198 Array{Float64,2}:\n",
       " 0.0  0.0  0.0  0.0  0.0  0.0       …  -0.323225  -0.366     -0.375   \n",
       " 0.0  0.0  0.0  0.0  0.0  0.0          -0.294082  -0.336857  -0.345857\n",
       " 0.0  0.0  0.0  0.0  0.0  0.0          -0.294082  -0.336857  -0.345857\n",
       " 0.0  0.0  0.0  0.0  0.0  0.0          -0.294082  -0.336857  -0.345857\n",
       " 0.0  0.0  0.0  0.0  0.0  0.0          -0.294082  -0.336857  -0.345857\n",
       " 0.0  0.0  0.0  0.0  0.0  0.0       …  -0.294082  -0.336857  -0.345857\n",
       " 0.0  0.0  0.0  0.0  0.0  0.0          -0.294082  -0.336857  -0.345857\n",
       " 0.0  0.0  0.0  0.0  0.0  0.0          -0.294082  -0.336857  -0.345857\n",
       " 0.0  0.0  0.0  0.0  0.0  0.0          -0.294082  -0.336857  -0.345857\n",
       " 0.0  0.0  0.0  0.0  0.0  0.0          -0.294082  -0.336857  -0.345857\n",
       " 0.0  0.0  0.0  0.0  0.0  0.0       …  -0.294082  -0.336857  -0.345857\n",
       " 0.0  0.0  0.0  0.0  0.0  0.0          -0.294082  -0.336857  -0.345857\n",
       " 0.0  0.0  0.0  0.0  0.0  0.0          -0.294082  -0.336857  -0.345857\n",
       " ⋮                        ⋮         ⋱   ⋮                             \n",
       " 0.0  0.0  0.0  0.0  0.0  0.0           0.432796   0.475571   0.484571\n",
       " 0.0  0.0  0.0  0.0  0.0  0.0       …   0.432796   0.475571   0.484571\n",
       " 0.0  0.0  0.0  0.0  0.0  0.0           0.432796   0.475571   0.484571\n",
       " 0.0  0.0  0.0  0.0  0.0  0.0           0.432796   0.475571   0.484571\n",
       " 0.0  0.0  0.0  0.0  0.0  0.0           0.432796   0.475571   0.484571\n",
       " 0.0  0.0  0.0  0.0  0.0  0.0           0.437475   0.48025    0.48925 \n",
       " 0.0  0.0  0.0  0.0  0.0  0.0       …   0.437475   0.48025    0.48925 \n",
       " 0.0  0.0  0.0  0.0  0.0  0.0           0.437475   0.48025    0.48925 \n",
       " 0.0  0.0  0.0  0.0  0.0  0.0           0.437475   0.48025    0.48925 \n",
       " 0.0  0.0  0.0  0.0  0.0  0.0           0.447225   0.49       0.499   \n",
       " 0.0  0.0  0.0  0.0  0.0  0.0           0.515225   0.558      0.567   \n",
       " 0.0  0.0  0.0  0.0  0.0  0.011639  …   0.699138   0.737854   0.746   "
      ]
     },
     "execution_count": 7,
     "metadata": {},
     "output_type": "execute_result"
    }
   ],
   "source": [
    "β̂path"
   ]
  },
  {
   "cell_type": "markdown",
   "metadata": {},
   "source": [
    "In this formulation, isotonic regression is a special case of the constrained lasso with $\\rho=0.$\n",
    "Below, `monoreg` is coefficient estimates obtained using isotonic regression. "
   ]
  },
  {
   "cell_type": "code",
   "execution_count": 8,
   "metadata": {
    "collapsed": false
   },
   "outputs": [
    {
     "data": {
      "text/plain": [
       "166×1 Array{Float64,2}:\n",
       " -0.375   \n",
       " -0.345857\n",
       " -0.345857\n",
       " -0.345857\n",
       " -0.345857\n",
       " -0.345857\n",
       " -0.345857\n",
       " -0.345857\n",
       " -0.345857\n",
       " -0.345857\n",
       " -0.345857\n",
       " -0.345857\n",
       " -0.345857\n",
       "  ⋮       \n",
       "  0.484571\n",
       "  0.484571\n",
       "  0.484571\n",
       "  0.484571\n",
       "  0.484571\n",
       "  0.48925 \n",
       "  0.48925 \n",
       "  0.48925 \n",
       "  0.48925 \n",
       "  0.499   \n",
       "  0.567   \n",
       "  0.746   "
      ]
     },
     "execution_count": 8,
     "metadata": {},
     "output_type": "execute_result"
    }
   ],
   "source": [
    "monoreg = readdlm(joinpath(Pkg.dir(\"ConstrainedLasso\"),\"docs/src/demo/misc/monoreg.txt\"))"
   ]
  },
  {
   "cell_type": "markdown",
   "metadata": {},
   "source": [
    "Now let's compare estimates by obtaining the largest absolute difference between isotonic regression constrained lasso fit. "
   ]
  },
  {
   "cell_type": "code",
   "execution_count": 9,
   "metadata": {
    "collapsed": false
   },
   "outputs": [
    {
     "data": {
      "text/plain": [
       "1.2212453270876722e-15"
      ]
     },
     "execution_count": 9,
     "metadata": {},
     "output_type": "execute_result"
    }
   ],
   "source": [
    "maximum(abs.(monoreg - β̂path[:, end]))"
   ]
  },
  {
   "cell_type": "markdown",
   "metadata": {},
   "source": [
    "Below is a figure that plots the constrained lasso fit at $\\rho = 0$ with the estimates using isotonic regression."
   ]
  },
  {
   "cell_type": "code",
   "execution_count": 10,
   "metadata": {
    "collapsed": false
   },
   "outputs": [
    {
     "data": {
      "text/html": [
       "<img src=\"data:image/png;base64,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\" />"
      ]
     },
     "execution_count": 10,
     "metadata": {},
     "output_type": "execute_result"
    }
   ],
   "source": [
    "using Plots; pyplot(); \n",
    "scatter(year, y, label=\"Observed Data\", markerstrokecolor=\"darkblue\", \n",
    "        markercolor=\"white\")\n",
    "scatter!(year, β̂path[:, end], label=\"Classopath (ρ=0)\", \n",
    "        markerstrokecolor=\"black\", marker=:rect, markercolor=\"white\")\n",
    "scatter!(year, monoreg, label=\"Isotonic Regression\", marker=:x,\n",
    "        markercolor=\"red\", markersize=2)\n",
    "xaxis!(\"Year\") \n",
    "yaxis!(\"Temperature anomalies\")\n",
    "title!(\"Global Warming Data\")"
   ]
  },
  {
   "cell_type": "code",
   "execution_count": 11,
   "metadata": {
    "collapsed": true
   },
   "outputs": [],
   "source": [
    "savefig(\"misc/warming.svg\")"
   ]
  },
  {
   "cell_type": "markdown",
   "metadata": {},
   "source": [
    "![](misc/warming.svg)"
   ]
  },
  {
   "cell_type": "markdown",
   "metadata": {},
   "source": [
    "*Follow the [link](https://github.com/Hua-Zhou/ConstrainedLasso.jl/blob/master/docs/src/demo/warming.ipynb) to access the .ipynb file of this page.*"
   ]
  }
 ],
 "metadata": {
  "kernelspec": {
   "display_name": "Julia 0.6.0",
   "language": "julia",
   "name": "julia-0.6"
  },
  "language_info": {
   "file_extension": ".jl",
   "mimetype": "application/julia",
   "name": "julia",
   "version": "0.6.0"
  }
 },
 "nbformat": 4,
 "nbformat_minor": 2
}

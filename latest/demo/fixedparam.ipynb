{
 "cells": [
  {
   "cell_type": "markdown",
   "metadata": {},
   "source": [
    "# Optimize at fixed tuning parameter value(s)\n",
    "\n",
    "`lsq_constrsparsereg.jl` fits constrained lasso\n",
    "\n",
    "```math\n",
    "\\begin{split}\n",
    "& \\text{minimize} \\hspace{1em} \\frac 12||\\boldsymbol{y}-\\boldsymbol{X\\beta}||^2_2 + \\rho||\\beta||_1 \\\\\n",
    "& \\text{ subject to} \\hspace{0.5em} \\boldsymbol{A\\beta}=\\boldsymbol{b} \\text{ and } \\boldsymbol{C\\beta} \\leq \\boldsymbol{d}\n",
    "\\end{split}\n",
    "```\n",
    "\n",
    "at a fixed tuning parameter value ``\\rho`` or several tuning parameter values provided by user.\n",
    "\n",
    "### Single tuning parameter value\n",
    "\n",
    "We demonstrate using a sum-to-zero constraint example\n",
    "\n",
    "```math\n",
    "\\begin{split}\n",
    "& \\text{minimize} \\hspace{1em} \\frac 12||\\boldsymbol{y}-\\boldsymbol{X\\beta}||^2_2 + \\rho||\\beta||_1 \\\\\n",
    "& \\text{ subject to} \\hspace{0.5em} \\sum_j \\beta_j = 0\n",
    "\\end{split}\n",
    "```\n",
    "\n",
    "First, let's define a true parameter `β` such that `sum(β) = 0`."
   ]
  },
  {
   "cell_type": "code",
   "execution_count": 37,
   "metadata": {
    "collapsed": false
   },
   "outputs": [
    {
     "data": {
      "text/plain": [
       "100-element Array{Float64,1}:\n",
       "  0.0\n",
       "  0.0\n",
       "  0.0\n",
       "  0.0\n",
       "  0.0\n",
       "  0.0\n",
       "  0.0\n",
       "  0.0\n",
       "  0.0\n",
       "  0.0\n",
       "  0.0\n",
       "  0.0\n",
       "  0.0\n",
       "  ⋮  \n",
       " -1.0\n",
       " -1.0\n",
       " -1.0\n",
       " -1.0\n",
       " -1.0\n",
       " -1.0\n",
       " -1.0\n",
       " -1.0\n",
       " -1.0\n",
       " -1.0\n",
       " -1.0\n",
       " -1.0"
      ]
     },
     "execution_count": 37,
     "metadata": {},
     "output_type": "execute_result"
    }
   ],
   "source": [
    "using ConstrainedLasso, Base.Test\n",
    "\n",
    "n, p = 50, 100  \n",
    "β = zeros(p)\n",
    "β[1:round(Int, p / 4)] = 0\n",
    "β[(round(Int, p / 4) + 1):round(Int, p / 2)] = 1\n",
    "β[(round(Int, p / 2) + 1):round(Int, 3p / 4)] = 0\n",
    "β[(round(Int, 3p / 4) + 1):p] = -1\n",
    "β"
   ]
  },
  {
   "cell_type": "markdown",
   "metadata": {},
   "source": [
    "Next we generate data based on the true parameter `β`."
   ]
  },
  {
   "cell_type": "code",
   "execution_count": 38,
   "metadata": {
    "collapsed": false
   },
   "outputs": [
    {
     "data": {
      "text/plain": [
       "50×100 Array{Float64,2}:\n",
       "  1.21212    -0.153889    0.141533  …  -0.458125    0.0951976  -2.14019   \n",
       "  0.345895    1.30676     1.60944      -0.409901    0.323719    0.989333  \n",
       " -1.27859    -1.18894     0.512064      1.80509     1.62606    -1.44251   \n",
       "  0.230616    2.54741    -0.523533      2.73358     1.07999     0.432834  \n",
       " -1.17103    -0.39082     0.441921     -0.179239   -0.158189   -0.640611  \n",
       "  1.67135     0.0829011   0.964089  …  -0.720038    1.99359    -0.671572  \n",
       " -0.614717    2.16204    -0.0602       -0.324456   -0.616887    1.11243   \n",
       " -0.810535    0.974719   -0.045405      0.881578    1.29611     0.696869  \n",
       " -1.10879    -1.32489    -1.18272       0.579381   -0.971269   -0.687591  \n",
       " -0.219752   -0.447897   -0.974186     -0.880804   -0.480702   -1.36887   \n",
       "  0.0952544  -0.126203   -0.273737  …  -0.264421    0.565684   -0.798719  \n",
       "  1.4126      0.295896   -0.213161     -1.46343    -1.27144    -0.0589753 \n",
       " -0.418407   -0.479389    0.324243      1.96976     0.867659   -1.2999    \n",
       "  ⋮                                 ⋱                                     \n",
       "  0.504861   -1.03911    -0.357771      0.815027    0.919037    1.07463   \n",
       " -0.820358   -0.955319    0.097768      0.553219    1.56424     0.10535   \n",
       "  1.39684     1.93183     0.706641  …  -0.0222014   0.987281   -0.0646814 \n",
       " -1.55206     0.446778    1.48206      -1.42384    -1.04209     0.0460478 \n",
       "  0.928527    0.933087   -0.641975     -1.16347    -0.313851   -1.20434   \n",
       "  0.380879   -0.144713    1.54374      -0.605637    0.408246    0.632131  \n",
       " -1.30233    -2.31664     1.51324       0.765034   -0.515553    0.984551  \n",
       "  1.36747     1.34059    -0.114778  …   0.846682   -0.565511   -0.539113  \n",
       " -2.82496    -0.0447351   0.426242     -0.353497   -0.14583    -0.00304009\n",
       " -0.847741    1.49306     1.15522       0.637659    1.70818     0.641035  \n",
       " -0.22286    -0.43932    -0.373259      0.788337    0.223785   -0.343495  \n",
       "  1.32145     0.104516   -0.993017     -0.272744   -0.133748    0.968627  "
      ]
     },
     "execution_count": 38,
     "metadata": {},
     "output_type": "execute_result"
    }
   ],
   "source": [
    "srand(41)\n",
    "X = randn(n, p)"
   ]
  },
  {
   "cell_type": "code",
   "execution_count": 39,
   "metadata": {
    "collapsed": false,
    "scrolled": true
   },
   "outputs": [
    {
     "data": {
      "text/plain": [
       "50-element Array{Float64,1}:\n",
       "  -9.90585 \n",
       "  -5.40562 \n",
       "   5.24289 \n",
       "  -6.29951 \n",
       "  -4.9586  \n",
       "  -6.1342  \n",
       "  -7.90981 \n",
       "   2.51009 \n",
       "  -5.79548 \n",
       "   1.61355 \n",
       "  -0.722766\n",
       "  10.4522  \n",
       "   4.03935 \n",
       "   ⋮       \n",
       "   0.397781\n",
       "  -2.6661  \n",
       "   5.36896 \n",
       "  -3.56537 \n",
       "  -2.402   \n",
       "   0.11478 \n",
       "  -5.39248 \n",
       "   4.38391 \n",
       "   0.706801\n",
       " -10.1066  \n",
       "  -1.12558 \n",
       "  14.2473  "
      ]
     },
     "execution_count": 39,
     "metadata": {},
     "output_type": "execute_result"
    }
   ],
   "source": [
    "y = X * β + randn(n)"
   ]
  },
  {
   "cell_type": "markdown",
   "metadata": {},
   "source": [
    "Since the equality constraint can be written as \n",
    "\n",
    "```math\n",
    "\\begin{split}\n",
    "\\begin{pmatrix} 1 & 1 & \\cdots & 1 \\end{pmatrix} \\beta = 0,\n",
    "\\end{split}\n",
    "```\n",
    "\n",
    "we define the constraint as below."
   ]
  },
  {
   "cell_type": "code",
   "execution_count": 40,
   "metadata": {
    "collapsed": false,
    "scrolled": true
   },
   "outputs": [
    {
     "data": {
      "text/plain": [
       "1×100 Array{Float64,2}:\n",
       " 1.0  1.0  1.0  1.0  1.0  1.0  1.0  1.0  …  1.0  1.0  1.0  1.0  1.0  1.0  1.0"
      ]
     },
     "execution_count": 40,
     "metadata": {},
     "output_type": "execute_result"
    }
   ],
   "source": [
    "beq   = [0.0]\n",
    "Aeq   = ones(1, p)"
   ]
  },
  {
   "cell_type": "markdown",
   "metadata": {},
   "source": [
    "Now we are ready to fit the constrained lasso problem, say at `ρ=10`."
   ]
  },
  {
   "cell_type": "code",
   "execution_count": null,
   "metadata": {
    "collapsed": false
   },
   "outputs": [],
   "source": [
    "ρ = 10.0\n",
    "β̂, = lsq_constrsparsereg(X, y, ρ; Aeq = Aeq, beq = beq);"
   ]
  },
  {
   "cell_type": "code",
   "execution_count": 42,
   "metadata": {
    "collapsed": false
   },
   "outputs": [
    {
     "data": {
      "text/plain": [
       "100×1 Array{Float64,2}:\n",
       "  0.0334671 \n",
       " -1.1128e-5 \n",
       "  5.40916e-6\n",
       " -0.394908  \n",
       "  5.69496e-6\n",
       "  1.17002e-5\n",
       " -3.90243e-6\n",
       " -1.91365e-5\n",
       "  0.288553  \n",
       "  2.05743e-6\n",
       "  1.12622e-5\n",
       "  1.6712e-5 \n",
       " -2.17275e-6\n",
       "  ⋮         \n",
       " -0.188179  \n",
       " -3.52148e-6\n",
       "  3.50838e-6\n",
       "  9.58236e-6\n",
       " -0.844097  \n",
       " -0.645805  \n",
       " -0.257241  \n",
       " -4.90509e-6\n",
       " -1.13326   \n",
       " -7.28399e-6\n",
       "  4.69294e-6\n",
       " -8.90143e-6"
      ]
     },
     "execution_count": 42,
     "metadata": {},
     "output_type": "execute_result"
    }
   ],
   "source": [
    "β̂"
   ]
  },
  {
   "cell_type": "markdown",
   "metadata": {},
   "source": [
    "We see if the sum of estimated ``\\beta`` coefficients equal to 0."
   ]
  },
  {
   "cell_type": "code",
   "execution_count": 44,
   "metadata": {
    "collapsed": false
   },
   "outputs": [
    {
     "data": {
      "text/plain": [
       "\u001b[1m\u001b[32mTest Passed\n",
       "\u001b[39m\u001b[22m"
      ]
     },
     "execution_count": 44,
     "metadata": {},
     "output_type": "execute_result"
    }
   ],
   "source": [
    "@test sum(β̂)≈0.0 atol=1e-4"
   ]
  },
  {
   "cell_type": "markdown",
   "metadata": {},
   "source": [
    "### Multiple tuning parameter values\n",
    "\n",
    "Define `ρlist` to be a sequence of values from 1 to 10."
   ]
  },
  {
   "cell_type": "code",
   "execution_count": 26,
   "metadata": {
    "collapsed": false
   },
   "outputs": [
    {
     "data": {
      "text/plain": [
       "152.0:-15.0:2.0"
      ]
     },
     "execution_count": 26,
     "metadata": {},
     "output_type": "execute_result"
    }
   ],
   "source": [
    "ρlist = 152.0:-15.0:2.0"
   ]
  },
  {
   "cell_type": "markdown",
   "metadata": {},
   "source": [
    "Using the same equality constraints, we fit the constrained lasso."
   ]
  },
  {
   "cell_type": "code",
   "execution_count": null,
   "metadata": {
    "collapsed": false
   },
   "outputs": [],
   "source": [
    "β̂, = lsq_constrsparsereg(X, y, ρlist; Aeq = Aeq, beq = beq);"
   ]
  },
  {
   "cell_type": "code",
   "execution_count": 28,
   "metadata": {
    "collapsed": false
   },
   "outputs": [
    {
     "data": {
      "text/plain": [
       "100×11 Array{Float64,2}:\n",
       "  1.01071e-5  -8.27382e-6  -9.98518e-7  …   2.24039e-6  -1.73712e-8\n",
       " -9.20705e-6  -1.73958e-5  -2.05881e-6     -2.60796e-5   0.178782  \n",
       " -5.63613e-6  -1.75901e-5  -1.8899e-6      -1.01686e-5   3.41563e-8\n",
       " -1.15136e-5  -1.29555e-5  -1.18262e-6     -0.331097    -0.413631  \n",
       " -1.60099e-5  -1.38074e-5  -1.11624e-6     -1.1681e-5    4.44159e-8\n",
       "  1.6582e-5   -8.67409e-6  -7.82383e-7  …   2.73047e-5   1.19985e-7\n",
       " -1.06227e-5  -1.47899e-5  -7.36221e-7      4.90329e-6   5.63884e-8\n",
       " -5.7368e-6   -1.48341e-5  -1.65699e-6     -9.84382e-8   3.01081e-8\n",
       "  1.42761e-5  -7.54447e-6  -9.46132e-7      0.205789     0.33502   \n",
       " -1.35551e-6  -1.40007e-5  -1.15001e-6      2.14801e-5  -0.158037  \n",
       " -8.39911e-6  -1.04558e-5  -1.59023e-6  …   4.57889e-6   1.88987e-8\n",
       "  1.88431e-6  -1.34713e-5  -1.75855e-6     -2.03643e-6  -2.39007e-8\n",
       " -2.78397e-6  -9.21455e-6  -7.11068e-7     -1.14052e-6   3.91139e-8\n",
       "  ⋮                                     ⋱                ⋮         \n",
       " -7.31054e-6  -1.5138e-5   -1.6294e-6      -0.137376    -0.392134  \n",
       " -2.28865e-6  -1.4119e-5   -1.41117e-6     -8.14484e-7  -0.333912  \n",
       " -3.48868e-6  -1.27998e-5  -1.60242e-6  …   2.18783e-5   3.13386e-9\n",
       " -2.87686e-6  -1.96206e-5  -2.75763e-6      3.14833e-7   7.63403e-8\n",
       " -2.14002e-5  -0.0184219   -0.152241       -0.914608    -0.867679  \n",
       " -1.57276e-5  -1.80525e-5  -1.42057e-6     -0.218999    -1.00031   \n",
       " -1.09405e-5  -1.16499e-5  -1.0991e-6      -0.237285    -0.578412  \n",
       " -5.97059e-6  -6.69791e-6  -1.30652e-6  …  -4.20856e-6  -3.80778e-8\n",
       " -1.95746e-5  -1.11737e-5  -1.27845e-6     -1.0569      -1.16938   \n",
       "  5.18594e-6  -1.26231e-5  -1.82091e-6     -1.37675e-5  -2.69827e-8\n",
       " -7.37912e-6  -1.58805e-5  -1.69692e-6     -7.48234e-6  -1.00642e-7\n",
       "  8.30253e-6  -7.94538e-6  -7.58241e-7      1.17015e-5   3.21803e-8"
      ]
     },
     "execution_count": 28,
     "metadata": {},
     "output_type": "execute_result"
    }
   ],
   "source": [
    "β̂"
   ]
  },
  {
   "cell_type": "code",
   "execution_count": null,
   "metadata": {
    "collapsed": false,
    "scrolled": true
   },
   "outputs": [],
   "source": [
    "using Plots; pyplot();\n",
    "plot(ρlist, β̂', label=\"\", xaxis = (\"ρ\", (minimum(ρlist),\n",
    "      maximum(ρlist))), yaxis = (\"β̂(ρ)\"), width=0.5) \n",
    "title!(\"Solution Path at Fixed Parameter Values\") "
   ]
  },
  {
   "cell_type": "code",
   "execution_count": 36,
   "metadata": {
    "collapsed": true
   },
   "outputs": [],
   "source": [
    "savefig(\"misc/fixed.svg\")"
   ]
  }
 ],
 "metadata": {
  "kernelspec": {
   "display_name": "Julia 0.6.0",
   "language": "julia",
   "name": "julia-0.6"
  },
  "language_info": {
   "file_extension": ".jl",
   "mimetype": "application/julia",
   "name": "julia",
   "version": "0.6.0"
  }
 },
 "nbformat": 4,
 "nbformat_minor": 2
}

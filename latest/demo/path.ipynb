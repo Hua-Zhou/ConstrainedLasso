{
 "cells": [
  {
   "cell_type": "markdown",
   "metadata": {},
   "source": [
    "# Path algorithm  \n",
    "\n",
    "\n",
    "## Sum-to-zero constraint \n",
    "\n",
    "In this example, we will solve a problem defined by \n",
    "\n",
    "```math \n",
    "\\begin{split}\n",
    "& \\text{minimize} \\hspace{1em} \\frac 12||\\boldsymbol{y}-\\boldsymbol{X\\beta}||^2_2 + \\rho||\\boldsymbol{\\beta}||_1  \\\\\n",
    "& \\text{subject to} \\hspace{1em} \\sum_j \\beta_j = 0\n",
    "\\end{split}\n",
    "```\n",
    "Note that we can re-write the constraint as $\\boldsymbol{A\\beta} = \\boldsymbol{b}$ where \n",
    "\n",
    "```math\n",
    "\\boldsymbol{A} = \\begin{pmatrix} 1 & 1 & \\cdots & 1 \\end{pmatrix} \\text{ and } \\boldsymbol{b} = 0.\n",
    "```\n",
    "\n",
    "First let's generate the predictor matrix `X` and response vector `y`. To do so, we need a true parameter vector `β` whose sum equals to 0. Note `n` is the number of observations `n` and `p` is the number of predictors. "
   ]
  },
  {
   "cell_type": "code",
   "execution_count": 20,
   "metadata": {
    "collapsed": false
   },
   "outputs": [
    {
     "data": {
      "text/plain": [
       "50×100 Array{Float64,2}:\n",
       "  1.21212    -0.153889    0.141533  …  -0.458125    0.0951976  -2.14019   \n",
       "  0.345895    1.30676     1.60944      -0.409901    0.323719    0.989333  \n",
       " -1.27859    -1.18894     0.512064      1.80509     1.62606    -1.44251   \n",
       "  0.230616    2.54741    -0.523533      2.73358     1.07999     0.432834  \n",
       " -1.17103    -0.39082     0.441921     -0.179239   -0.158189   -0.640611  \n",
       "  1.67135     0.0829011   0.964089  …  -0.720038    1.99359    -0.671572  \n",
       " -0.614717    2.16204    -0.0602       -0.324456   -0.616887    1.11243   \n",
       " -0.810535    0.974719   -0.045405      0.881578    1.29611     0.696869  \n",
       " -1.10879    -1.32489    -1.18272       0.579381   -0.971269   -0.687591  \n",
       " -0.219752   -0.447897   -0.974186     -0.880804   -0.480702   -1.36887   \n",
       "  0.0952544  -0.126203   -0.273737  …  -0.264421    0.565684   -0.798719  \n",
       "  1.4126      0.295896   -0.213161     -1.46343    -1.27144    -0.0589753 \n",
       " -0.418407   -0.479389    0.324243      1.96976     0.867659   -1.2999    \n",
       "  ⋮                                 ⋱                                     \n",
       "  0.504861   -1.03911    -0.357771      0.815027    0.919037    1.07463   \n",
       " -0.820358   -0.955319    0.097768      0.553219    1.56424     0.10535   \n",
       "  1.39684     1.93183     0.706641  …  -0.0222014   0.987281   -0.0646814 \n",
       " -1.55206     0.446778    1.48206      -1.42384    -1.04209     0.0460478 \n",
       "  0.928527    0.933087   -0.641975     -1.16347    -0.313851   -1.20434   \n",
       "  0.380879   -0.144713    1.54374      -0.605637    0.408246    0.632131  \n",
       " -1.30233    -2.31664     1.51324       0.765034   -0.515553    0.984551  \n",
       "  1.36747     1.34059    -0.114778  …   0.846682   -0.565511   -0.539113  \n",
       " -2.82496    -0.0447351   0.426242     -0.353497   -0.14583    -0.00304009\n",
       " -0.847741    1.49306     1.15522       0.637659    1.70818     0.641035  \n",
       " -0.22286    -0.43932    -0.373259      0.788337    0.223785   -0.343495  \n",
       "  1.32145     0.104516   -0.993017     -0.272744   -0.133748    0.968627  "
      ]
     },
     "execution_count": 20,
     "metadata": {},
     "output_type": "execute_result"
    }
   ],
   "source": [
    "n, p = 50, 100  \n",
    "β = zeros(p)\n",
    "β[1:round(Int, p / 4)] = 0\n",
    "β[(round(Int, p / 4) + 1):round(Int, p / 2)] = 1\n",
    "β[(round(Int, p / 2) + 1):round(Int, 3p / 4)] = 0\n",
    "β[(round(Int, 3p / 4) + 1):p] = -1\n",
    "srand(41)\n",
    "X = randn(n, p)"
   ]
  },
  {
   "cell_type": "code",
   "execution_count": 21,
   "metadata": {
    "collapsed": false
   },
   "outputs": [
    {
     "data": {
      "text/plain": [
       "50-element Array{Float64,1}:\n",
       "  -9.90585 \n",
       "  -5.40562 \n",
       "   5.24289 \n",
       "  -6.29951 \n",
       "  -4.9586  \n",
       "  -6.1342  \n",
       "  -7.90981 \n",
       "   2.51009 \n",
       "  -5.79548 \n",
       "   1.61355 \n",
       "  -0.722766\n",
       "  10.4522  \n",
       "   4.03935 \n",
       "   ⋮       \n",
       "   0.397781\n",
       "  -2.6661  \n",
       "   5.36896 \n",
       "  -3.56537 \n",
       "  -2.402   \n",
       "   0.11478 \n",
       "  -5.39248 \n",
       "   4.38391 \n",
       "   0.706801\n",
       " -10.1066  \n",
       "  -1.12558 \n",
       "  14.2473  "
      ]
     },
     "execution_count": 21,
     "metadata": {},
     "output_type": "execute_result"
    }
   ],
   "source": [
    "y = X * β + randn(n)"
   ]
  },
  {
   "cell_type": "markdown",
   "metadata": {},
   "source": [
    "Since the problem has equality constraints only, we define the constraints as below. "
   ]
  },
  {
   "cell_type": "code",
   "execution_count": 22,
   "metadata": {
    "collapsed": false,
    "scrolled": true
   },
   "outputs": [
    {
     "data": {
      "text/plain": [
       "1×100 Array{Float64,2}:\n",
       " 1.0  1.0  1.0  1.0  1.0  1.0  1.0  1.0  …  1.0  1.0  1.0  1.0  1.0  1.0  1.0"
      ]
     },
     "execution_count": 22,
     "metadata": {},
     "output_type": "execute_result"
    }
   ],
   "source": [
    "beq = [0]\n",
    "Aeq = ones(1, p)"
   ]
  },
  {
   "cell_type": "code",
   "execution_count": 23,
   "metadata": {
    "collapsed": false
   },
   "outputs": [
    {
     "name": "stderr",
     "output_type": "stream",
     "text": [
      "\u001b[1m\u001b[33mWARNING: \u001b[39m\u001b[22m\u001b[33mAdding a small ridge penalty (default is 1e-4) since n < p\u001b[39m\n",
      "\u001b[1m\u001b[33mWARNING: \u001b[39m\u001b[22m\u001b[33mρridge must be positive, switching to default value (1e-4)\u001b[39m\n",
      "\u001b[1m\u001b[33mWARNING: \u001b[39m\u001b[22m\u001b[33misnan{T <: Number}(x::AbstractArray{T}) is deprecated, use isnan.(x) instead.\u001b[39m\n",
      "Stacktrace:\n",
      " [1] \u001b[1mdepwarn\u001b[22m\u001b[22m\u001b[1m(\u001b[22m\u001b[22m::String, ::Symbol\u001b[1m)\u001b[22m\u001b[22m at \u001b[1m./deprecated.jl:70\u001b[22m\u001b[22m\n",
      " [2] \u001b[1misnan\u001b[22m\u001b[22m\u001b[1m(\u001b[22m\u001b[22m::Array{Float64,1}\u001b[1m)\u001b[22m\u001b[22m at \u001b[1m./deprecated.jl:57\u001b[22m\u001b[22m\n",
      " [3] \u001b[1mpopulate_solution!\u001b[22m\u001b[22m\u001b[1m(\u001b[22m\u001b[22m::SCS.SCSMathProgModel, ::Convex.Problem, ::Dict{UInt64,Tuple{Int64,Int64}}, ::Array{Convex.ConicConstr,1}\u001b[1m)\u001b[22m\u001b[22m at \u001b[1m/Users/juhyun-kim/.julia/v0.6/Convex/src/solution.jl:118\u001b[22m\u001b[22m\n",
      " [4] \u001b[1m#solve!#25\u001b[22m\u001b[22m\u001b[1m(\u001b[22m\u001b[22m::Bool, ::Bool, ::Bool, ::Function, ::Convex.Problem\u001b[1m)\u001b[22m\u001b[22m at \u001b[1m/Users/juhyun-kim/.julia/v0.6/Convex/src/solution.jl:38\u001b[22m\u001b[22m\n",
      " [5] \u001b[1m#solve!#24\u001b[22m\u001b[22m\u001b[1m(\u001b[22m\u001b[22m::Array{Any,1}, ::Function, ::Convex.Problem, ::SCS.SCSSolver\u001b[1m)\u001b[22m\u001b[22m at \u001b[1m/Users/juhyun-kim/.julia/v0.6/Convex/src/solution.jl:13\u001b[22m\u001b[22m\n",
      " [6] \u001b[1m#find_ρmax#61\u001b[22m\u001b[22m\u001b[1m(\u001b[22m\u001b[22m::Array{Float64,2}, ::Array{Int64,1}, ::Array{Float64,2}, ::Array{Float64,1}, ::Array{Bool,1}, ::SCS.SCSSolver, ::Function, ::Array{Float64,2}, ::Array{Float64,1}\u001b[1m)\u001b[22m\u001b[22m at \u001b[1m/Users/juhyun-kim/.julia/v0.6/ConstrainedLasso/src/classopath.jl:692\u001b[22m\u001b[22m\n",
      " [7] \u001b[1m(::ConstrainedLasso.#kw##find_ρmax)\u001b[22m\u001b[22m\u001b[1m(\u001b[22m\u001b[22m::Array{Any,1}, ::ConstrainedLasso.#find_ρmax, ::Array{Float64,2}, ::Array{Float64,1}\u001b[1m)\u001b[22m\u001b[22m at \u001b[1m./<missing>:0\u001b[22m\u001b[22m\n",
      " [8] \u001b[1m#lsq_classopath#2\u001b[22m\u001b[22m\u001b[1m(\u001b[22m\u001b[22m::Array{Float64,2}, ::Array{Int64,1}, ::Array{Float64,2}, ::Array{Float64,1}, ::Float64, ::Array{Bool,1}, ::SCS.SCSSolver, ::Function, ::Array{Float64,2}, ::Array{Float64,1}\u001b[1m)\u001b[22m\u001b[22m at \u001b[1m/Users/juhyun-kim/.julia/v0.6/ConstrainedLasso/src/classopath.jl:98\u001b[22m\u001b[22m\n",
      " [9] \u001b[1m(::ConstrainedLasso.#kw##lsq_classopath)\u001b[22m\u001b[22m\u001b[1m(\u001b[22m\u001b[22m::Array{Any,1}, ::ConstrainedLasso.#lsq_classopath, ::Array{Float64,2}, ::Array{Float64,1}\u001b[1m)\u001b[22m\u001b[22m at \u001b[1m./<missing>:0\u001b[22m\u001b[22m\n",
      " [10] \u001b[1minclude_string\u001b[22m\u001b[22m\u001b[1m(\u001b[22m\u001b[22m::String, ::String\u001b[1m)\u001b[22m\u001b[22m at \u001b[1m./loading.jl:515\u001b[22m\u001b[22m\n",
      " [11] \u001b[1mexecute_request\u001b[22m\u001b[22m\u001b[1m(\u001b[22m\u001b[22m::ZMQ.Socket, ::IJulia.Msg\u001b[1m)\u001b[22m\u001b[22m at \u001b[1m/Users/juhyun-kim/.julia/v0.6/IJulia/src/execute_request.jl:160\u001b[22m\u001b[22m\n",
      " [12] \u001b[1meventloop\u001b[22m\u001b[22m\u001b[1m(\u001b[22m\u001b[22m::ZMQ.Socket\u001b[1m)\u001b[22m\u001b[22m at \u001b[1m/Users/juhyun-kim/.julia/v0.6/IJulia/src/eventloop.jl:8\u001b[22m\u001b[22m\n",
      " [13] \u001b[1m(::IJulia.##11#14)\u001b[22m\u001b[22m\u001b[1m(\u001b[22m\u001b[22m\u001b[1m)\u001b[22m\u001b[22m at \u001b[1m./task.jl:335\u001b[22m\u001b[22m\n",
      "while loading In[23], in expression starting on line 2\n",
      "\u001b[1m\u001b[33mWARNING: \u001b[39m\u001b[22m\u001b[33msqrt{T <: Number}(x::AbstractArray{T}) is deprecated, use sqrt.(x) instead.\u001b[39m\n",
      "Stacktrace:\n",
      " [1] \u001b[1mdepwarn\u001b[22m\u001b[22m\u001b[1m(\u001b[22m\u001b[22m::String, ::Symbol\u001b[1m)\u001b[22m\u001b[22m at \u001b[1m./deprecated.jl:70\u001b[22m\u001b[22m\n",
      " [2] \u001b[1msqrt\u001b[22m\u001b[22m\u001b[1m(\u001b[22m\u001b[22m::Array{Float64,1}\u001b[1m)\u001b[22m\u001b[22m at \u001b[1m./deprecated.jl:57\u001b[22m\u001b[22m\n",
      " [3] \u001b[1m#lsq_constrsparsereg#1\u001b[22m\u001b[22m\u001b[1m(\u001b[22m\u001b[22m::Array{Float64,2}, ::Array{Int64,1}, ::Array{Float64,2}, ::Array{Float64,1}, ::Array{Float64,1}, ::Array{Bool,1}, ::Bool, ::SCS.SCSSolver, ::ConstrainedLasso.#lsq_constrsparsereg, ::Array{Float64,2}, ::Array{Float64,1}, ::Float64\u001b[1m)\u001b[22m\u001b[22m at \u001b[1m/Users/juhyun-kim/.julia/v0.6/ConstrainedLasso/src/constrsparsereg.jl:62\u001b[22m\u001b[22m\n",
      " [4] \u001b[1m(::ConstrainedLasso.#kw##lsq_constrsparsereg)\u001b[22m\u001b[22m\u001b[1m(\u001b[22m\u001b[22m::Array{Any,1}, ::ConstrainedLasso.#lsq_constrsparsereg, ::Array{Float64,2}, ::Array{Float64,1}, ::Float64\u001b[1m)\u001b[22m\u001b[22m at \u001b[1m./<missing>:0\u001b[22m\u001b[22m\n",
      " [5] \u001b[1m#lsq_classopath#2\u001b[22m\u001b[22m\u001b[1m(\u001b[22m\u001b[22m::Array{Float64,2}, ::Array{Int64,1}, ::Array{Float64,2}, ::Array{Float64,1}, ::Float64, ::Array{Bool,1}, ::SCS.SCSSolver, ::Function, ::Array{Float64,2}, ::Array{Float64,1}\u001b[1m)\u001b[22m\u001b[22m at \u001b[1m/Users/juhyun-kim/.julia/v0.6/ConstrainedLasso/src/classopath.jl:102\u001b[22m\u001b[22m\n",
      " [6] \u001b[1m(::ConstrainedLasso.#kw##lsq_classopath)\u001b[22m\u001b[22m\u001b[1m(\u001b[22m\u001b[22m::Array{Any,1}, ::ConstrainedLasso.#lsq_classopath, ::Array{Float64,2}, ::Array{Float64,1}\u001b[1m)\u001b[22m\u001b[22m at \u001b[1m./<missing>:0\u001b[22m\u001b[22m\n",
      " [7] \u001b[1minclude_string\u001b[22m\u001b[22m\u001b[1m(\u001b[22m\u001b[22m::String, ::String\u001b[1m)\u001b[22m\u001b[22m at \u001b[1m./loading.jl:515\u001b[22m\u001b[22m\n",
      " [8] \u001b[1mexecute_request\u001b[22m\u001b[22m\u001b[1m(\u001b[22m\u001b[22m::ZMQ.Socket, ::IJulia.Msg\u001b[1m)\u001b[22m\u001b[22m at \u001b[1m/Users/juhyun-kim/.julia/v0.6/IJulia/src/execute_request.jl:160\u001b[22m\u001b[22m\n",
      " [9] \u001b[1meventloop\u001b[22m\u001b[22m\u001b[1m(\u001b[22m\u001b[22m::ZMQ.Socket\u001b[1m)\u001b[22m\u001b[22m at \u001b[1m/Users/juhyun-kim/.julia/v0.6/IJulia/src/eventloop.jl:8\u001b[22m\u001b[22m\n",
      " [10] \u001b[1m(::IJulia.##11#14)\u001b[22m\u001b[22m\u001b[1m(\u001b[22m\u001b[22m\u001b[1m)\u001b[22m\u001b[22m at \u001b[1m./task.jl:335\u001b[22m\u001b[22m\n",
      "while loading In[23], in expression starting on line 2\n",
      "\u001b[1m\u001b[33mWARNING: \u001b[39m\u001b[22m\u001b[33mArray{T}(::Type{T}, m::Int) is deprecated, use Array{T}(m) instead.\u001b[39m\n",
      "Stacktrace:\n",
      " [1] \u001b[1mdepwarn\u001b[22m\u001b[22m\u001b[1m(\u001b[22m\u001b[22m::String, ::Symbol\u001b[1m)\u001b[22m\u001b[22m at \u001b[1m./deprecated.jl:70\u001b[22m\u001b[22m\n",
      " [2] \u001b[1mArray\u001b[22m\u001b[22m\u001b[1m(\u001b[22m\u001b[22m::Type{Convex.ConicConstr}, ::Int64\u001b[1m)\u001b[22m\u001b[22m at \u001b[1m./deprecated.jl:57\u001b[22m\u001b[22m\n",
      " [3] \u001b[1mconic_form!\u001b[22m\u001b[22m\u001b[1m(\u001b[22m\u001b[22m::Convex.SOCElemConstraint, ::Convex.UniqueConicForms\u001b[1m)\u001b[22m\u001b[22m at \u001b[1m/Users/juhyun-kim/.julia/v0.6/Convex/src/constraints/soc_constraints.jl:50\u001b[22m\u001b[22m\n",
      " [4] \u001b[1mconic_form!\u001b[22m\u001b[22m\u001b[1m(\u001b[22m\u001b[22m::Convex.QolElemAtom, ::Convex.UniqueConicForms\u001b[1m)\u001b[22m\u001b[22m at \u001b[1m/Users/juhyun-kim/.julia/v0.6/Convex/src/atoms/second_order_cone/qol_elementwise.jl:41\u001b[22m\u001b[22m\n",
      " [5] \u001b[1mconic_form!\u001b[22m\u001b[22m\u001b[1m(\u001b[22m\u001b[22m::Convex.MultiplyAtom, ::Convex.UniqueConicForms\u001b[1m)\u001b[22m\u001b[22m at \u001b[1m/Users/juhyun-kim/.julia/v0.6/Convex/src/atoms/affine/multiply_divide.jl:71\u001b[22m\u001b[22m\n",
      " [6] \u001b[1mconic_form!\u001b[22m\u001b[22m\u001b[1m(\u001b[22m\u001b[22m::Convex.AdditionAtom, ::Convex.UniqueConicForms\u001b[1m)\u001b[22m\u001b[22m at \u001b[1m/Users/juhyun-kim/.julia/v0.6/Convex/src/atoms/affine/add_subtract.jl:108\u001b[22m\u001b[22m\n",
      " [7] \u001b[1mconic_form!\u001b[22m\u001b[22m\u001b[1m(\u001b[22m\u001b[22m::Convex.EqConstraint, ::Convex.UniqueConicForms\u001b[1m)\u001b[22m\u001b[22m at \u001b[1m/Users/juhyun-kim/.julia/v0.6/Convex/src/constraints/constraints.jl:43\u001b[22m\u001b[22m\n",
      " [8] \u001b[1mconic_form!\u001b[22m\u001b[22m\u001b[1m(\u001b[22m\u001b[22m::Convex.Problem, ::Convex.UniqueConicForms\u001b[1m)\u001b[22m\u001b[22m at \u001b[1m/Users/juhyun-kim/.julia/v0.6/Convex/src/problems.jl:99\u001b[22m\u001b[22m\n",
      " [9] \u001b[1mconic_problem\u001b[22m\u001b[22m\u001b[1m(\u001b[22m\u001b[22m::Convex.Problem\u001b[1m)\u001b[22m\u001b[22m at \u001b[1m/Users/juhyun-kim/.julia/v0.6/Convex/src/problems.jl:124\u001b[22m\u001b[22m\n",
      " [10] \u001b[1m#solve!#25\u001b[22m\u001b[22m\u001b[1m(\u001b[22m\u001b[22m::Bool, ::Bool, ::Bool, ::Function, ::Convex.Problem\u001b[1m)\u001b[22m\u001b[22m at \u001b[1m/Users/juhyun-kim/.julia/v0.6/Convex/src/solution.jl:25\u001b[22m\u001b[22m\n",
      " [11] \u001b[1m#solve!#24\u001b[22m\u001b[22m\u001b[1m(\u001b[22m\u001b[22m::Array{Any,1}, ::Function, ::Convex.Problem, ::SCS.SCSSolver\u001b[1m)\u001b[22m\u001b[22m at \u001b[1m/Users/juhyun-kim/.julia/v0.6/Convex/src/solution.jl:13\u001b[22m\u001b[22m\n",
      " [12] \u001b[1m#lsq_constrsparsereg#1\u001b[22m\u001b[22m\u001b[1m(\u001b[22m\u001b[22m::Array{Float64,2}, ::Array{Int64,1}, ::Array{Float64,2}, ::Array{Float64,1}, ::Array{Float64,1}, ::Array{Bool,1}, ::Bool, ::SCS.SCSSolver, ::ConstrainedLasso.#lsq_constrsparsereg, ::Array{Float64,2}, ::Array{Float64,1}, ::Float64\u001b[1m)\u001b[22m\u001b[22m at \u001b[1m/Users/juhyun-kim/.julia/v0.6/ConstrainedLasso/src/constrsparsereg.jl:83\u001b[22m\u001b[22m\n",
      " [13] \u001b[1m(::ConstrainedLasso.#kw##lsq_constrsparsereg)\u001b[22m\u001b[22m\u001b[1m(\u001b[22m\u001b[22m::Array{Any,1}, ::ConstrainedLasso.#lsq_constrsparsereg, ::Array{Float64,2}, ::Array{Float64,1}, ::Float64\u001b[1m)\u001b[22m\u001b[22m at \u001b[1m./<missing>:0\u001b[22m\u001b[22m\n",
      " [14] \u001b[1m#lsq_classopath#2\u001b[22m\u001b[22m\u001b[1m(\u001b[22m\u001b[22m::Array{Float64,2}, ::Array{Int64,1}, ::Array{Float64,2}, ::Array{Float64,1}, ::Float64, ::Array{Bool,1}, ::SCS.SCSSolver, ::Function, ::Array{Float64,2}, ::Array{Float64,1}\u001b[1m)\u001b[22m\u001b[22m at \u001b[1m/Users/juhyun-kim/.julia/v0.6/ConstrainedLasso/src/classopath.jl:102\u001b[22m\u001b[22m\n",
      " [15] \u001b[1m(::ConstrainedLasso.#kw##lsq_classopath)\u001b[22m\u001b[22m\u001b[1m(\u001b[22m\u001b[22m::Array{Any,1}, ::ConstrainedLasso.#lsq_classopath, ::Array{Float64,2}, ::Array{Float64,1}\u001b[1m)\u001b[22m\u001b[22m at \u001b[1m./<missing>:0\u001b[22m\u001b[22m\n",
      " [16] \u001b[1minclude_string\u001b[22m\u001b[22m\u001b[1m(\u001b[22m\u001b[22m::String, ::String\u001b[1m)\u001b[22m\u001b[22m at \u001b[1m./loading.jl:515\u001b[22m\u001b[22m\n",
      " [17] \u001b[1mexecute_request\u001b[22m\u001b[22m\u001b[1m(\u001b[22m\u001b[22m::ZMQ.Socket, ::IJulia.Msg\u001b[1m)\u001b[22m\u001b[22m at \u001b[1m/Users/juhyun-kim/.julia/v0.6/IJulia/src/execute_request.jl:160\u001b[22m\u001b[22m\n",
      " [18] \u001b[1meventloop\u001b[22m\u001b[22m\u001b[1m(\u001b[22m\u001b[22m::ZMQ.Socket\u001b[1m)\u001b[22m\u001b[22m at \u001b[1m/Users/juhyun-kim/.julia/v0.6/IJulia/src/eventloop.jl:8\u001b[22m\u001b[22m\n",
      " [19] \u001b[1m(::IJulia.##11#14)\u001b[22m\u001b[22m\u001b[1m(\u001b[22m\u001b[22m\u001b[1m)\u001b[22m\u001b[22m at \u001b[1m./task.jl:335\u001b[22m\u001b[22m\n",
      "while loading In[23], in expression starting on line 2\n",
      "\u001b[1m\u001b[33mWARNING: \u001b[39m\u001b[22m\u001b[33mArray{T}(::Type{T}, m::Int) is deprecated, use Array{T}(m) instead.\u001b[39m\n",
      "Stacktrace:\n",
      " [1] \u001b[1mdepwarn\u001b[22m\u001b[22m\u001b[1m(\u001b[22m\u001b[22m::String, ::Symbol\u001b[1m)\u001b[22m\u001b[22m at \u001b[1m./deprecated.jl:70\u001b[22m\u001b[22m\n",
      " [2] \u001b[1mArray\u001b[22m\u001b[22m\u001b[1m(\u001b[22m\u001b[22m::Type{DataStructures.OrderedDict{UInt64,Tuple{Union{AbstractArray, Number},Union{AbstractArray, Number}}}}, ::Int64\u001b[1m)\u001b[22m\u001b[22m at \u001b[1m./deprecated.jl:57\u001b[22m\u001b[22m\n",
      " [3] \u001b[1mconic_form!\u001b[22m\u001b[22m\u001b[1m(\u001b[22m\u001b[22m::Convex.SOCElemConstraint, ::Convex.UniqueConicForms\u001b[1m)\u001b[22m\u001b[22m at \u001b[1m/Users/juhyun-kim/.julia/v0.6/Convex/src/constraints/soc_constraints.jl:51\u001b[22m\u001b[22m\n",
      " [4] \u001b[1mconic_form!\u001b[22m\u001b[22m\u001b[1m(\u001b[22m\u001b[22m::Convex.QolElemAtom, ::Convex.UniqueConicForms\u001b[1m)\u001b[22m\u001b[22m at \u001b[1m/Users/juhyun-kim/.julia/v0.6/Convex/src/atoms/second_order_cone/qol_elementwise.jl:41\u001b[22m\u001b[22m\n",
      " [5] \u001b[1mconic_form!\u001b[22m\u001b[22m\u001b[1m(\u001b[22m\u001b[22m::Convex.MultiplyAtom, ::Convex.UniqueConicForms\u001b[1m)\u001b[22m\u001b[22m at \u001b[1m/Users/juhyun-kim/.julia/v0.6/Convex/src/atoms/affine/multiply_divide.jl:71\u001b[22m\u001b[22m\n",
      " [6] \u001b[1mconic_form!\u001b[22m\u001b[22m\u001b[1m(\u001b[22m\u001b[22m::Convex.AdditionAtom, ::Convex.UniqueConicForms\u001b[1m)\u001b[22m\u001b[22m at \u001b[1m/Users/juhyun-kim/.julia/v0.6/Convex/src/atoms/affine/add_subtract.jl:108\u001b[22m\u001b[22m\n",
      " [7] \u001b[1mconic_form!\u001b[22m\u001b[22m\u001b[1m(\u001b[22m\u001b[22m::Convex.EqConstraint, ::Convex.UniqueConicForms\u001b[1m)\u001b[22m\u001b[22m at \u001b[1m/Users/juhyun-kim/.julia/v0.6/Convex/src/constraints/constraints.jl:43\u001b[22m\u001b[22m\n",
      " [8] \u001b[1mconic_form!\u001b[22m\u001b[22m\u001b[1m(\u001b[22m\u001b[22m::Convex.Problem, ::Convex.UniqueConicForms\u001b[1m)\u001b[22m\u001b[22m at \u001b[1m/Users/juhyun-kim/.julia/v0.6/Convex/src/problems.jl:99\u001b[22m\u001b[22m\n",
      " [9] \u001b[1mconic_problem\u001b[22m\u001b[22m\u001b[1m(\u001b[22m\u001b[22m::Convex.Problem\u001b[1m)\u001b[22m\u001b[22m at \u001b[1m/Users/juhyun-kim/.julia/v0.6/Convex/src/problems.jl:124\u001b[22m\u001b[22m\n",
      " [10] \u001b[1m#solve!#25\u001b[22m\u001b[22m\u001b[1m(\u001b[22m\u001b[22m::Bool, ::Bool, ::Bool, ::Function, ::Convex.Problem\u001b[1m)\u001b[22m\u001b[22m at \u001b[1m/Users/juhyun-kim/.julia/v0.6/Convex/src/solution.jl:25\u001b[22m\u001b[22m\n",
      " [11] \u001b[1m#solve!#24\u001b[22m\u001b[22m\u001b[1m(\u001b[22m\u001b[22m::Array{Any,1}, ::Function, ::Convex.Problem, ::SCS.SCSSolver\u001b[1m)\u001b[22m\u001b[22m at \u001b[1m/Users/juhyun-kim/.julia/v0.6/Convex/src/solution.jl:13\u001b[22m\u001b[22m\n",
      " [12] \u001b[1m#lsq_constrsparsereg#1\u001b[22m\u001b[22m\u001b[1m(\u001b[22m\u001b[22m::Array{Float64,2}, ::Array{Int64,1}, ::Array{Float64,2}, ::Array{Float64,1}, ::Array{Float64,1}, ::Array{Bool,1}, ::Bool, ::SCS.SCSSolver, ::ConstrainedLasso.#lsq_constrsparsereg, ::Array{Float64,2}, ::Array{Float64,1}, ::Float64\u001b[1m)\u001b[22m\u001b[22m at \u001b[1m/Users/juhyun-kim/.julia/v0.6/ConstrainedLasso/src/constrsparsereg.jl:83\u001b[22m\u001b[22m\n",
      " [13] \u001b[1m(::ConstrainedLasso.#kw##lsq_constrsparsereg)\u001b[22m\u001b[22m\u001b[1m(\u001b[22m\u001b[22m::Array{Any,1}, ::ConstrainedLasso.#lsq_constrsparsereg, ::Array{Float64,2}, ::Array{Float64,1}, ::Float64\u001b[1m)\u001b[22m\u001b[22m at \u001b[1m./<missing>:0\u001b[22m\u001b[22m\n",
      " [14] \u001b[1m#lsq_classopath#2\u001b[22m\u001b[22m\u001b[1m(\u001b[22m\u001b[22m::Array{Float64,2}, ::Array{Int64,1}, ::Array{Float64,2}, ::Array{Float64,1}, ::Float64, ::Array{Bool,1}, ::SCS.SCSSolver, ::Function, ::Array{Float64,2}, ::Array{Float64,1}\u001b[1m)\u001b[22m\u001b[22m at \u001b[1m/Users/juhyun-kim/.julia/v0.6/ConstrainedLasso/src/classopath.jl:102\u001b[22m\u001b[22m\n",
      " [15] \u001b[1m(::ConstrainedLasso.#kw##lsq_classopath)\u001b[22m\u001b[22m\u001b[1m(\u001b[22m\u001b[22m::Array{Any,1}, ::ConstrainedLasso.#lsq_classopath, ::Array{Float64,2}, ::Array{Float64,1}\u001b[1m)\u001b[22m\u001b[22m at \u001b[1m./<missing>:0\u001b[22m\u001b[22m\n",
      " [16] \u001b[1minclude_string\u001b[22m\u001b[22m\u001b[1m(\u001b[22m\u001b[22m::String, ::String\u001b[1m)\u001b[22m\u001b[22m at \u001b[1m./loading.jl:515\u001b[22m\u001b[22m\n",
      " [17] \u001b[1mexecute_request\u001b[22m\u001b[22m\u001b[1m(\u001b[22m\u001b[22m::ZMQ.Socket, ::IJulia.Msg\u001b[1m)\u001b[22m\u001b[22m at \u001b[1m/Users/juhyun-kim/.julia/v0.6/IJulia/src/execute_request.jl:160\u001b[22m\u001b[22m\n",
      " [18] \u001b[1meventloop\u001b[22m\u001b[22m\u001b[1m(\u001b[22m\u001b[22m::ZMQ.Socket\u001b[1m)\u001b[22m\u001b[22m at \u001b[1m/Users/juhyun-kim/.julia/v0.6/IJulia/src/eventloop.jl:8\u001b[22m\u001b[22m\n",
      " [19] \u001b[1m(::IJulia.##11#14)\u001b[22m\u001b[22m\u001b[1m(\u001b[22m\u001b[22m\u001b[1m)\u001b[22m\u001b[22m at \u001b[1m./task.jl:335\u001b[22m\u001b[22m\n",
      "while loading In[23], in expression starting on line 2\n",
      "\u001b[1m\u001b[33mWARNING: \u001b[39m\u001b[22m\u001b[33mArray{T}(::Type{T}, m::Int) is deprecated, use Array{T}(m) instead.\u001b[39m\n",
      "Stacktrace:\n",
      " [1] \u001b[1mdepwarn\u001b[22m\u001b[22m\u001b[1m(\u001b[22m\u001b[22m::String, ::Symbol\u001b[1m)\u001b[22m\u001b[22m at \u001b[1m./deprecated.jl:70\u001b[22m\u001b[22m\n",
      " [2] \u001b[1mArray\u001b[22m\u001b[22m\u001b[1m(\u001b[22m\u001b[22m::Type{DataStructures.OrderedDict{UInt64,Tuple{Union{AbstractArray, Number},Union{AbstractArray, Number}}}}, ::Int64\u001b[1m)\u001b[22m\u001b[22m at \u001b[1m./deprecated.jl:57\u001b[22m\u001b[22m\n",
      " [3] \u001b[1mconic_form!\u001b[22m\u001b[22m\u001b[1m(\u001b[22m\u001b[22m::Convex.SOCConstraint, ::Convex.UniqueConicForms\u001b[1m)\u001b[22m\u001b[22m at \u001b[1m/Users/juhyun-kim/.julia/v0.6/Convex/src/constraints/soc_constraints.jl:21\u001b[22m\u001b[22m\n",
      " [4] \u001b[1mconic_form!\u001b[22m\u001b[22m\u001b[1m(\u001b[22m\u001b[22m::Convex.EucNormAtom, ::Convex.UniqueConicForms\u001b[1m)\u001b[22m\u001b[22m at \u001b[1m/Users/juhyun-kim/.julia/v0.6/Convex/src/atoms/second_order_cone/norm2.jl:47\u001b[22m\u001b[22m\n",
      " [5] \u001b[1mconic_form!\u001b[22m\u001b[22m\u001b[1m(\u001b[22m\u001b[22m::Convex.MultiplyAtom, ::Convex.UniqueConicForms\u001b[1m)\u001b[22m\u001b[22m at \u001b[1m/Users/juhyun-kim/.julia/v0.6/Convex/src/atoms/affine/multiply_divide.jl:71\u001b[22m\u001b[22m\n",
      " [6] \u001b[1mconic_form!\u001b[22m\u001b[22m\u001b[1m(\u001b[22m\u001b[22m::Convex.SOCElemConstraint, ::Convex.UniqueConicForms\u001b[1m)\u001b[22m\u001b[22m at \u001b[1m/Users/juhyun-kim/.julia/v0.6/Convex/src/constraints/soc_constraints.jl:53\u001b[22m\u001b[22m\n",
      " [7] \u001b[1mconic_form!\u001b[22m\u001b[22m\u001b[1m(\u001b[22m\u001b[22m::Convex.QolElemAtom, ::Convex.UniqueConicForms\u001b[1m)\u001b[22m\u001b[22m at \u001b[1m/Users/juhyun-kim/.julia/v0.6/Convex/src/atoms/second_order_cone/qol_elementwise.jl:41\u001b[22m\u001b[22m\n",
      " [8] \u001b[1mconic_form!\u001b[22m\u001b[22m\u001b[1m(\u001b[22m\u001b[22m::Convex.MultiplyAtom, ::Convex.UniqueConicForms\u001b[1m)\u001b[22m\u001b[22m at \u001b[1m/Users/juhyun-kim/.julia/v0.6/Convex/src/atoms/affine/multiply_divide.jl:71\u001b[22m\u001b[22m\n",
      " [9] \u001b[1mconic_form!\u001b[22m\u001b[22m\u001b[1m(\u001b[22m\u001b[22m::Convex.AdditionAtom, ::Convex.UniqueConicForms\u001b[1m)\u001b[22m\u001b[22m at \u001b[1m/Users/juhyun-kim/.julia/v0.6/Convex/src/atoms/affine/add_subtract.jl:108\u001b[22m\u001b[22m\n",
      " [10] \u001b[1mconic_form!\u001b[22m\u001b[22m\u001b[1m(\u001b[22m\u001b[22m::Convex.EqConstraint, ::Convex.UniqueConicForms\u001b[1m)\u001b[22m\u001b[22m at \u001b[1m/Users/juhyun-kim/.julia/v0.6/Convex/src/constraints/constraints.jl:43\u001b[22m\u001b[22m\n",
      " [11] \u001b[1mconic_form!\u001b[22m\u001b[22m\u001b[1m(\u001b[22m\u001b[22m::Convex.Problem, ::Convex.UniqueConicForms\u001b[1m)\u001b[22m\u001b[22m at \u001b[1m/Users/juhyun-kim/.julia/v0.6/Convex/src/problems.jl:99\u001b[22m\u001b[22m\n",
      " [12] \u001b[1mconic_problem\u001b[22m\u001b[22m\u001b[1m(\u001b[22m\u001b[22m::Convex.Problem\u001b[1m)\u001b[22m\u001b[22m at \u001b[1m/Users/juhyun-kim/.julia/v0.6/Convex/src/problems.jl:124\u001b[22m\u001b[22m\n",
      " [13] \u001b[1m#solve!#25\u001b[22m\u001b[22m\u001b[1m(\u001b[22m\u001b[22m::Bool, ::Bool, ::Bool, ::Function, ::Convex.Problem\u001b[1m)\u001b[22m\u001b[22m at \u001b[1m/Users/juhyun-kim/.julia/v0.6/Convex/src/solution.jl:25\u001b[22m\u001b[22m\n",
      " [14] \u001b[1m#solve!#24\u001b[22m\u001b[22m\u001b[1m(\u001b[22m\u001b[22m::Array{Any,1}, ::Function, ::Convex.Problem, ::SCS.SCSSolver\u001b[1m)\u001b[22m\u001b[22m at \u001b[1m/Users/juhyun-kim/.julia/v0.6/Convex/src/solution.jl:13\u001b[22m\u001b[22m\n",
      " [15] \u001b[1m#lsq_constrsparsereg#1\u001b[22m\u001b[22m\u001b[1m(\u001b[22m\u001b[22m::Array{Float64,2}, ::Array{Int64,1}, ::Array{Float64,2}, ::Array{Float64,1}, ::Array{Float64,1}, ::Array{Bool,1}, ::Bool, ::SCS.SCSSolver, ::ConstrainedLasso.#lsq_constrsparsereg, ::Array{Float64,2}, ::Array{Float64,1}, ::Float64\u001b[1m)\u001b[22m\u001b[22m at \u001b[1m/Users/juhyun-kim/.julia/v0.6/ConstrainedLasso/src/constrsparsereg.jl:83\u001b[22m\u001b[22m\n",
      " [16] \u001b[1m(::ConstrainedLasso.#kw##lsq_constrsparsereg)\u001b[22m\u001b[22m\u001b[1m(\u001b[22m\u001b[22m::Array{Any,1}, ::ConstrainedLasso.#lsq_constrsparsereg, ::Array{Float64,2}, ::Array{Float64,1}, ::Float64\u001b[1m)\u001b[22m\u001b[22m at \u001b[1m./<missing>:0\u001b[22m\u001b[22m\n",
      " [17] \u001b[1m#lsq_classopath#2\u001b[22m\u001b[22m\u001b[1m(\u001b[22m\u001b[22m::Array{Float64,2}, ::Array{Int64,1}, ::Array{Float64,2}, ::Array{Float64,1}, ::Float64, ::Array{Bool,1}, ::SCS.SCSSolver, ::Function, ::Array{Float64,2}, ::Array{Float64,1}\u001b[1m)\u001b[22m\u001b[22m at \u001b[1m/Users/juhyun-kim/.julia/v0.6/ConstrainedLasso/src/classopath.jl:102\u001b[22m\u001b[22m\n",
      " [18] \u001b[1m(::ConstrainedLasso.#kw##lsq_classopath)\u001b[22m\u001b[22m\u001b[1m(\u001b[22m\u001b[22m::Array{Any,1}, ::ConstrainedLasso.#lsq_classopath, ::Array{Float64,2}, ::Array{Float64,1}\u001b[1m)\u001b[22m\u001b[22m at \u001b[1m./<missing>:0\u001b[22m\u001b[22m\n",
      " [19] \u001b[1minclude_string\u001b[22m\u001b[22m\u001b[1m(\u001b[22m\u001b[22m::String, ::String\u001b[1m)\u001b[22m\u001b[22m at \u001b[1m./loading.jl:515\u001b[22m\u001b[22m\n",
      " [20] \u001b[1mexecute_request\u001b[22m\u001b[22m\u001b[1m(\u001b[22m\u001b[22m::ZMQ.Socket, ::IJulia.Msg\u001b[1m)\u001b[22m\u001b[22m at \u001b[1m/Users/juhyun-kim/.julia/v0.6/IJulia/src/execute_request.jl:160\u001b[22m\u001b[22m\n",
      " [21] \u001b[1meventloop\u001b[22m\u001b[22m\u001b[1m(\u001b[22m\u001b[22m::ZMQ.Socket\u001b[1m)\u001b[22m\u001b[22m at \u001b[1m/Users/juhyun-kim/.julia/v0.6/IJulia/src/eventloop.jl:8\u001b[22m\u001b[22m\n",
      " [22] \u001b[1m(::IJulia.##11#14)\u001b[22m\u001b[22m\u001b[1m(\u001b[22m\u001b[22m\u001b[1m)\u001b[22m\u001b[22m at \u001b[1m./task.jl:335\u001b[22m\u001b[22m\n",
      "while loading In[23], in expression starting on line 2\n"
     ]
    }
   ],
   "source": [
    "using ConstrainedLasso\n",
    "β̂path1, ρpath1, objpath, = lsq_classopath(X, y; Aeq = Aeq, beq = beq);"
   ]
  },
  {
   "cell_type": "markdown",
   "metadata": {},
   "source": [
    "Now we are ready to obtain the solution path using the path algorithm. By default, we use the solver SCS. "
   ]
  },
  {
   "cell_type": "code",
   "execution_count": 24,
   "metadata": {
    "collapsed": false
   },
   "outputs": [
    {
     "data": {
      "text/plain": [
       "100×64 Array{Float64,2}:\n",
       " 0.0  0.0   0.0         0.0       …   0.0        0.0        0.0     \n",
       " 0.0  0.0   0.0         0.0           0.206561   0.212696   0.22402 \n",
       " 0.0  0.0   0.0         0.0           0.0        0.0        0.0     \n",
       " 0.0  0.0   0.0         0.0          -0.378352  -0.411385  -0.41288 \n",
       " 0.0  0.0   0.0         0.0           0.0        0.0        0.0     \n",
       " 0.0  0.0   0.0         0.0       …   0.0        0.0        0.0     \n",
       " 0.0  0.0   0.0         0.0           0.0        0.0        0.0     \n",
       " 0.0  0.0   0.0         0.0           0.0        0.0        0.0     \n",
       " 0.0  0.0   0.0         0.0           0.325283   0.3467     0.357212\n",
       " 0.0  0.0   0.0         0.0          -0.19861   -0.181371  -0.181397\n",
       " 0.0  0.0   0.0         0.0       …   0.0        0.0        0.0     \n",
       " 0.0  0.0   0.0         0.0           0.0        0.0        0.0     \n",
       " 0.0  0.0   0.0         0.0           0.0        0.0        0.0     \n",
       " ⋮                                ⋱                                 \n",
       " 0.0  0.0   0.0         0.0          -0.46258   -0.452943  -0.458164\n",
       " 0.0  0.0   0.0         0.0          -0.401578  -0.359423  -0.358849\n",
       " 0.0  0.0   0.0         0.0       …   0.0        0.0        0.0     \n",
       " 0.0  0.0   0.0         0.0           0.0        0.0        0.0     \n",
       " 0.0  0.0  -0.0558231  -0.101399     -0.850614  -0.874227  -0.881474\n",
       " 0.0  0.0   0.0         0.0          -1.07203   -1.05001   -1.06761 \n",
       " 0.0  0.0   0.0         0.0          -0.674324  -0.621432  -0.622139\n",
       " 0.0  0.0   0.0         0.0       …   0.0        0.0        0.0     \n",
       " 0.0  0.0   0.0         0.0          -1.25239   -1.20357   -1.2081  \n",
       " 0.0  0.0   0.0         0.0           0.0        0.0        0.0     \n",
       " 0.0  0.0   0.0         0.0           0.0        0.0        0.0     \n",
       " 0.0  0.0   0.0         0.0           0.0        0.0        0.0     "
      ]
     },
     "execution_count": 24,
     "metadata": {},
     "output_type": "execute_result"
    }
   ],
   "source": [
    "β̂path1"
   ]
  },
  {
   "cell_type": "markdown",
   "metadata": {},
   "source": [
    "Let's see if sums of coefficients at all ``\\rho`` values are approximately 0. "
   ]
  },
  {
   "cell_type": "code",
   "execution_count": 25,
   "metadata": {
    "collapsed": false
   },
   "outputs": [
    {
     "data": {
      "text/plain": [
       "true"
      ]
     },
     "execution_count": 25,
     "metadata": {},
     "output_type": "execute_result"
    }
   ],
   "source": [
    "all(abs.(sum(β̂path1, 1)) .< 1e-6)"
   ]
  },
  {
   "cell_type": "markdown",
   "metadata": {},
   "source": [
    "We plot the solution path below. "
   ]
  },
  {
   "cell_type": "code",
   "execution_count": 26,
   "metadata": {
    "collapsed": false,
    "scrolled": true
   },
   "outputs": [],
   "source": [
    "using Plots; pyplot();\n",
    "plot(ρpath1, β̂path1', label=\"\", xaxis = (\"ρ\", (minimum(ρpath1),\n",
    "      maximum(ρpath1))), yaxis = (\"β̂(ρ)\"), width=0.5) \n",
    "title!(\"Simulation 1: Solution Path via Constrained Lasso\") \n",
    "savefig(\"misc/sumtozero.svg\")"
   ]
  },
  {
   "cell_type": "markdown",
   "metadata": {},
   "source": [
    "## Non-negativity constraint \n",
    "\n",
    "In this example, the problem is defined by \n",
    "\n",
    "```math \n",
    "\\begin{split}\n",
    "& \\text{minimize} \\hspace{1em} \\frac 12||\\boldsymbol{y}-\\boldsymbol{X\\beta}||^2_2 + \\rho||\\boldsymbol{\\beta}||_1  \\\\\n",
    "& \\text{subject to} \\hspace{1em} \\beta_j \\geq 0 \\forall j\n",
    "\\end{split}\n",
    "```\n",
    "\n",
    "We can re-write the inequality constraint as\n",
    "$\\boldsymbol{C\\beta} \\leq \\boldsymbol{d}$ where \n",
    "\n",
    "```math\n",
    "\\boldsymbol{C} = \\begin{pmatrix} \n",
    "-1 & & & \\\\\n",
    "\t& -1 & & \\\\\n",
    "\t&   & \\ddots & \\\\\n",
    "\t& \t& \t& -1\n",
    "\\end{pmatrix}\n",
    "\\text{ and } \\boldsymbol{d} = \\begin{pmatrix} 0 \\\\ 0 \\\\ \\vdots \\\\ 0 \\end{pmatrix}\n",
    "```\n",
    "\n",
    "First we define a true parameter vector `β` that is sparse with a few non-zero coefficients. Let `n` and `p` be the number of observations and predictors, respectively. "
   ]
  },
  {
   "cell_type": "code",
   "execution_count": 27,
   "metadata": {
    "collapsed": false
   },
   "outputs": [
    {
     "data": {
      "text/plain": [
       "50×100 Array{Float64,2}:\n",
       "  1.21212    -0.153889    0.141533  …  -0.458125    0.0951976  -2.14019   \n",
       "  0.345895    1.30676     1.60944      -0.409901    0.323719    0.989333  \n",
       " -1.27859    -1.18894     0.512064      1.80509     1.62606    -1.44251   \n",
       "  0.230616    2.54741    -0.523533      2.73358     1.07999     0.432834  \n",
       " -1.17103    -0.39082     0.441921     -0.179239   -0.158189   -0.640611  \n",
       "  1.67135     0.0829011   0.964089  …  -0.720038    1.99359    -0.671572  \n",
       " -0.614717    2.16204    -0.0602       -0.324456   -0.616887    1.11243   \n",
       " -0.810535    0.974719   -0.045405      0.881578    1.29611     0.696869  \n",
       " -1.10879    -1.32489    -1.18272       0.579381   -0.971269   -0.687591  \n",
       " -0.219752   -0.447897   -0.974186     -0.880804   -0.480702   -1.36887   \n",
       "  0.0952544  -0.126203   -0.273737  …  -0.264421    0.565684   -0.798719  \n",
       "  1.4126      0.295896   -0.213161     -1.46343    -1.27144    -0.0589753 \n",
       " -0.418407   -0.479389    0.324243      1.96976     0.867659   -1.2999    \n",
       "  ⋮                                 ⋱                                     \n",
       "  0.504861   -1.03911    -0.357771      0.815027    0.919037    1.07463   \n",
       " -0.820358   -0.955319    0.097768      0.553219    1.56424     0.10535   \n",
       "  1.39684     1.93183     0.706641  …  -0.0222014   0.987281   -0.0646814 \n",
       " -1.55206     0.446778    1.48206      -1.42384    -1.04209     0.0460478 \n",
       "  0.928527    0.933087   -0.641975     -1.16347    -0.313851   -1.20434   \n",
       "  0.380879   -0.144713    1.54374      -0.605637    0.408246    0.632131  \n",
       " -1.30233    -2.31664     1.51324       0.765034   -0.515553    0.984551  \n",
       "  1.36747     1.34059    -0.114778  …   0.846682   -0.565511   -0.539113  \n",
       " -2.82496    -0.0447351   0.426242     -0.353497   -0.14583    -0.00304009\n",
       " -0.847741    1.49306     1.15522       0.637659    1.70818     0.641035  \n",
       " -0.22286    -0.43932    -0.373259      0.788337    0.223785   -0.343495  \n",
       "  1.32145     0.104516   -0.993017     -0.272744   -0.133748    0.968627  "
      ]
     },
     "execution_count": 27,
     "metadata": {},
     "output_type": "execute_result"
    }
   ],
   "source": [
    "n, p = 50, 100   \n",
    "β = zeros(p)\n",
    "β[1:10] = 1:10\n",
    "srand(41)\n",
    "X = randn(n, p)"
   ]
  },
  {
   "cell_type": "code",
   "execution_count": 28,
   "metadata": {
    "collapsed": false,
    "scrolled": true
   },
   "outputs": [
    {
     "data": {
      "text/plain": [
       "50-element Array{Float64,1}:\n",
       "  12.6173  \n",
       "  40.3776  \n",
       "   2.2169  \n",
       "  27.4631  \n",
       "  38.592   \n",
       "   7.82023 \n",
       "  22.7367  \n",
       "   7.88475 \n",
       "  -7.47037 \n",
       "   0.621035\n",
       "  -4.91899 \n",
       " -14.9363  \n",
       "   8.26901 \n",
       "   ⋮       \n",
       "   7.83882 \n",
       "  -9.30699 \n",
       " -29.7205  \n",
       "  15.2482  \n",
       " -19.1784  \n",
       "  14.9865  \n",
       "   2.32728 \n",
       "  -9.11988 \n",
       " -15.3472  \n",
       "  22.9679  \n",
       "  -0.997964\n",
       "  42.6068  "
      ]
     },
     "execution_count": 28,
     "metadata": {},
     "output_type": "execute_result"
    }
   ],
   "source": [
    "y = X * β + randn(n)"
   ]
  },
  {
   "cell_type": "markdown",
   "metadata": {},
   "source": [
    "Now set up the inequality constraint for the problem."
   ]
  },
  {
   "cell_type": "code",
   "execution_count": 29,
   "metadata": {
    "collapsed": false
   },
   "outputs": [
    {
     "data": {
      "text/plain": [
       "100×100 Array{Float64,2}:\n",
       " -1.0  -0.0  -0.0  -0.0  -0.0  -0.0  …  -0.0  -0.0  -0.0  -0.0  -0.0  -0.0\n",
       " -0.0  -1.0  -0.0  -0.0  -0.0  -0.0     -0.0  -0.0  -0.0  -0.0  -0.0  -0.0\n",
       " -0.0  -0.0  -1.0  -0.0  -0.0  -0.0     -0.0  -0.0  -0.0  -0.0  -0.0  -0.0\n",
       " -0.0  -0.0  -0.0  -1.0  -0.0  -0.0     -0.0  -0.0  -0.0  -0.0  -0.0  -0.0\n",
       " -0.0  -0.0  -0.0  -0.0  -1.0  -0.0     -0.0  -0.0  -0.0  -0.0  -0.0  -0.0\n",
       " -0.0  -0.0  -0.0  -0.0  -0.0  -1.0  …  -0.0  -0.0  -0.0  -0.0  -0.0  -0.0\n",
       " -0.0  -0.0  -0.0  -0.0  -0.0  -0.0     -0.0  -0.0  -0.0  -0.0  -0.0  -0.0\n",
       " -0.0  -0.0  -0.0  -0.0  -0.0  -0.0     -0.0  -0.0  -0.0  -0.0  -0.0  -0.0\n",
       " -0.0  -0.0  -0.0  -0.0  -0.0  -0.0     -0.0  -0.0  -0.0  -0.0  -0.0  -0.0\n",
       " -0.0  -0.0  -0.0  -0.0  -0.0  -0.0     -0.0  -0.0  -0.0  -0.0  -0.0  -0.0\n",
       " -0.0  -0.0  -0.0  -0.0  -0.0  -0.0  …  -0.0  -0.0  -0.0  -0.0  -0.0  -0.0\n",
       " -0.0  -0.0  -0.0  -0.0  -0.0  -0.0     -0.0  -0.0  -0.0  -0.0  -0.0  -0.0\n",
       " -0.0  -0.0  -0.0  -0.0  -0.0  -0.0     -0.0  -0.0  -0.0  -0.0  -0.0  -0.0\n",
       "  ⋮                             ⋮    ⋱         ⋮                          \n",
       " -0.0  -0.0  -0.0  -0.0  -0.0  -0.0     -0.0  -0.0  -0.0  -0.0  -0.0  -0.0\n",
       " -0.0  -0.0  -0.0  -0.0  -0.0  -0.0     -0.0  -0.0  -0.0  -0.0  -0.0  -0.0\n",
       " -0.0  -0.0  -0.0  -0.0  -0.0  -0.0  …  -0.0  -0.0  -0.0  -0.0  -0.0  -0.0\n",
       " -0.0  -0.0  -0.0  -0.0  -0.0  -0.0     -0.0  -0.0  -0.0  -0.0  -0.0  -0.0\n",
       " -0.0  -0.0  -0.0  -0.0  -0.0  -0.0     -0.0  -0.0  -0.0  -0.0  -0.0  -0.0\n",
       " -0.0  -0.0  -0.0  -0.0  -0.0  -0.0     -0.0  -0.0  -0.0  -0.0  -0.0  -0.0\n",
       " -0.0  -0.0  -0.0  -0.0  -0.0  -0.0     -1.0  -0.0  -0.0  -0.0  -0.0  -0.0\n",
       " -0.0  -0.0  -0.0  -0.0  -0.0  -0.0  …  -0.0  -1.0  -0.0  -0.0  -0.0  -0.0\n",
       " -0.0  -0.0  -0.0  -0.0  -0.0  -0.0     -0.0  -0.0  -1.0  -0.0  -0.0  -0.0\n",
       " -0.0  -0.0  -0.0  -0.0  -0.0  -0.0     -0.0  -0.0  -0.0  -1.0  -0.0  -0.0\n",
       " -0.0  -0.0  -0.0  -0.0  -0.0  -0.0     -0.0  -0.0  -0.0  -0.0  -1.0  -0.0\n",
       " -0.0  -0.0  -0.0  -0.0  -0.0  -0.0     -0.0  -0.0  -0.0  -0.0  -0.0  -1.0"
      ]
     },
     "execution_count": 29,
     "metadata": {},
     "output_type": "execute_result"
    }
   ],
   "source": [
    "bineq = zeros(p)\n",
    "Aineq = - eye(p)"
   ]
  },
  {
   "cell_type": "markdown",
   "metadata": {},
   "source": [
    "Now we are ready to obtain the solution path using the path algorithm. Here, let's try using different solver `ECOS` for `Convex.jl`. "
   ]
  },
  {
   "cell_type": "code",
   "execution_count": 30,
   "metadata": {
    "collapsed": false
   },
   "outputs": [
    {
     "name": "stderr",
     "output_type": "stream",
     "text": [
      "\u001b[1m\u001b[33mWARNING: \u001b[39m\u001b[22m\u001b[33mAdding a small ridge penalty (default is 1e-4) since n < p\u001b[39m\n",
      "\u001b[1m\u001b[33mWARNING: \u001b[39m\u001b[22m\u001b[33mρridge must be positive, switching to default value (1e-4)\u001b[39m\n",
      "\u001b[1m\u001b[33mWARNING: \u001b[39m\u001b[22m\u001b[33misnan{T <: Number}(x::AbstractArray{T}) is deprecated, use isnan.(x) instead.\u001b[39m\n",
      "Stacktrace:\n",
      " [1] \u001b[1mdepwarn\u001b[22m\u001b[22m\u001b[1m(\u001b[22m\u001b[22m::String, ::Symbol\u001b[1m)\u001b[22m\u001b[22m at \u001b[1m./deprecated.jl:70\u001b[22m\u001b[22m\n",
      " [2] \u001b[1misnan\u001b[22m\u001b[22m\u001b[1m(\u001b[22m\u001b[22m::Array{Float64,1}\u001b[1m)\u001b[22m\u001b[22m at \u001b[1m./deprecated.jl:57\u001b[22m\u001b[22m\n",
      " [3] \u001b[1mpopulate_solution!\u001b[22m\u001b[22m\u001b[1m(\u001b[22m\u001b[22m::ECOS.ECOSMathProgModel, ::Convex.Problem, ::Dict{UInt64,Tuple{Int64,Int64}}, ::Array{Convex.ConicConstr,1}\u001b[1m)\u001b[22m\u001b[22m at \u001b[1m/Users/juhyun-kim/.julia/v0.6/Convex/src/solution.jl:118\u001b[22m\u001b[22m\n",
      " [4] \u001b[1m#solve!#25\u001b[22m\u001b[22m\u001b[1m(\u001b[22m\u001b[22m::Bool, ::Bool, ::Bool, ::Function, ::Convex.Problem\u001b[1m)\u001b[22m\u001b[22m at \u001b[1m/Users/juhyun-kim/.julia/v0.6/Convex/src/solution.jl:38\u001b[22m\u001b[22m\n",
      " [5] \u001b[1m#solve!#24\u001b[22m\u001b[22m\u001b[1m(\u001b[22m\u001b[22m::Array{Any,1}, ::Function, ::Convex.Problem, ::ECOS.ECOSSolver\u001b[1m)\u001b[22m\u001b[22m at \u001b[1m/Users/juhyun-kim/.julia/v0.6/Convex/src/solution.jl:13\u001b[22m\u001b[22m\n",
      " [6] \u001b[1m#find_ρmax#61\u001b[22m\u001b[22m\u001b[1m(\u001b[22m\u001b[22m::Array{Float64,2}, ::Array{Float64,1}, ::Array{Float64,2}, ::Array{Float64,1}, ::Array{Bool,1}, ::ECOS.ECOSSolver, ::Function, ::Array{Float64,2}, ::Array{Float64,1}\u001b[1m)\u001b[22m\u001b[22m at \u001b[1m/Users/juhyun-kim/.julia/v0.6/ConstrainedLasso/src/classopath.jl:692\u001b[22m\u001b[22m\n",
      " [7] \u001b[1m(::ConstrainedLasso.#kw##find_ρmax)\u001b[22m\u001b[22m\u001b[1m(\u001b[22m\u001b[22m::Array{Any,1}, ::ConstrainedLasso.#find_ρmax, ::Array{Float64,2}, ::Array{Float64,1}\u001b[1m)\u001b[22m\u001b[22m at \u001b[1m./<missing>:0\u001b[22m\u001b[22m\n",
      " [8] \u001b[1m#lsq_classopath#2\u001b[22m\u001b[22m\u001b[1m(\u001b[22m\u001b[22m::Array{Float64,2}, ::Array{Float64,1}, ::Array{Float64,2}, ::Array{Float64,1}, ::Float64, ::Array{Bool,1}, ::ECOS.ECOSSolver, ::Function, ::Array{Float64,2}, ::Array{Float64,1}\u001b[1m)\u001b[22m\u001b[22m at \u001b[1m/Users/juhyun-kim/.julia/v0.6/ConstrainedLasso/src/classopath.jl:98\u001b[22m\u001b[22m\n",
      " [9] \u001b[1m(::ConstrainedLasso.#kw##lsq_classopath)\u001b[22m\u001b[22m\u001b[1m(\u001b[22m\u001b[22m::Array{Any,1}, ::ConstrainedLasso.#lsq_classopath, ::Array{Float64,2}, ::Array{Float64,1}\u001b[1m)\u001b[22m\u001b[22m at \u001b[1m./<missing>:0\u001b[22m\u001b[22m\n",
      " [10] \u001b[1minclude_string\u001b[22m\u001b[22m\u001b[1m(\u001b[22m\u001b[22m::String, ::String\u001b[1m)\u001b[22m\u001b[22m at \u001b[1m./loading.jl:515\u001b[22m\u001b[22m\n",
      " [11] \u001b[1mexecute_request\u001b[22m\u001b[22m\u001b[1m(\u001b[22m\u001b[22m::ZMQ.Socket, ::IJulia.Msg\u001b[1m)\u001b[22m\u001b[22m at \u001b[1m/Users/juhyun-kim/.julia/v0.6/IJulia/src/execute_request.jl:160\u001b[22m\u001b[22m\n",
      " [12] \u001b[1meventloop\u001b[22m\u001b[22m\u001b[1m(\u001b[22m\u001b[22m::ZMQ.Socket\u001b[1m)\u001b[22m\u001b[22m at \u001b[1m/Users/juhyun-kim/.julia/v0.6/IJulia/src/eventloop.jl:8\u001b[22m\u001b[22m\n",
      " [13] \u001b[1m(::IJulia.##11#14)\u001b[22m\u001b[22m\u001b[1m(\u001b[22m\u001b[22m\u001b[1m)\u001b[22m\u001b[22m at \u001b[1m./task.jl:335\u001b[22m\u001b[22m\n",
      "while loading In[30], in expression starting on line 2\n",
      "\u001b[1m\u001b[33mWARNING: \u001b[39m\u001b[22m\u001b[33msqrt{T <: Number}(x::AbstractArray{T}) is deprecated, use sqrt.(x) instead.\u001b[39m\n",
      "Stacktrace:\n",
      " [1] \u001b[1mdepwarn\u001b[22m\u001b[22m\u001b[1m(\u001b[22m\u001b[22m::String, ::Symbol\u001b[1m)\u001b[22m\u001b[22m at \u001b[1m./deprecated.jl:70\u001b[22m\u001b[22m\n",
      " [2] \u001b[1msqrt\u001b[22m\u001b[22m\u001b[1m(\u001b[22m\u001b[22m::Array{Float64,1}\u001b[1m)\u001b[22m\u001b[22m at \u001b[1m./deprecated.jl:57\u001b[22m\u001b[22m\n",
      " [3] \u001b[1m#lsq_constrsparsereg#1\u001b[22m\u001b[22m\u001b[1m(\u001b[22m\u001b[22m::Array{Float64,2}, ::Array{Float64,1}, ::Array{Float64,2}, ::Array{Float64,1}, ::Array{Float64,1}, ::Array{Bool,1}, ::Bool, ::ECOS.ECOSSolver, ::ConstrainedLasso.#lsq_constrsparsereg, ::Array{Float64,2}, ::Array{Float64,1}, ::Float64\u001b[1m)\u001b[22m\u001b[22m at \u001b[1m/Users/juhyun-kim/.julia/v0.6/ConstrainedLasso/src/constrsparsereg.jl:62\u001b[22m\u001b[22m\n",
      " [4] \u001b[1m(::ConstrainedLasso.#kw##lsq_constrsparsereg)\u001b[22m\u001b[22m\u001b[1m(\u001b[22m\u001b[22m::Array{Any,1}, ::ConstrainedLasso.#lsq_constrsparsereg, ::Array{Float64,2}, ::Array{Float64,1}, ::Float64\u001b[1m)\u001b[22m\u001b[22m at \u001b[1m./<missing>:0\u001b[22m\u001b[22m\n",
      " [5] \u001b[1m#lsq_classopath#2\u001b[22m\u001b[22m\u001b[1m(\u001b[22m\u001b[22m::Array{Float64,2}, ::Array{Float64,1}, ::Array{Float64,2}, ::Array{Float64,1}, ::Float64, ::Array{Bool,1}, ::ECOS.ECOSSolver, ::Function, ::Array{Float64,2}, ::Array{Float64,1}\u001b[1m)\u001b[22m\u001b[22m at \u001b[1m/Users/juhyun-kim/.julia/v0.6/ConstrainedLasso/src/classopath.jl:102\u001b[22m\u001b[22m\n",
      " [6] \u001b[1m(::ConstrainedLasso.#kw##lsq_classopath)\u001b[22m\u001b[22m\u001b[1m(\u001b[22m\u001b[22m::Array{Any,1}, ::ConstrainedLasso.#lsq_classopath, ::Array{Float64,2}, ::Array{Float64,1}\u001b[1m)\u001b[22m\u001b[22m at \u001b[1m./<missing>:0\u001b[22m\u001b[22m\n",
      " [7] \u001b[1minclude_string\u001b[22m\u001b[22m\u001b[1m(\u001b[22m\u001b[22m::String, ::String\u001b[1m)\u001b[22m\u001b[22m at \u001b[1m./loading.jl:515\u001b[22m\u001b[22m\n",
      " [8] \u001b[1mexecute_request\u001b[22m\u001b[22m\u001b[1m(\u001b[22m\u001b[22m::ZMQ.Socket, ::IJulia.Msg\u001b[1m)\u001b[22m\u001b[22m at \u001b[1m/Users/juhyun-kim/.julia/v0.6/IJulia/src/execute_request.jl:160\u001b[22m\u001b[22m\n",
      " [9] \u001b[1meventloop\u001b[22m\u001b[22m\u001b[1m(\u001b[22m\u001b[22m::ZMQ.Socket\u001b[1m)\u001b[22m\u001b[22m at \u001b[1m/Users/juhyun-kim/.julia/v0.6/IJulia/src/eventloop.jl:8\u001b[22m\u001b[22m\n",
      " [10] \u001b[1m(::IJulia.##11#14)\u001b[22m\u001b[22m\u001b[1m(\u001b[22m\u001b[22m\u001b[1m)\u001b[22m\u001b[22m at \u001b[1m./task.jl:335\u001b[22m\u001b[22m\n",
      "while loading In[30], in expression starting on line 2\n",
      "\u001b[1m\u001b[33mWARNING: \u001b[39m\u001b[22m\u001b[33mArray{T}(::Type{T}, m::Int) is deprecated, use Array{T}(m) instead.\u001b[39m\n",
      "Stacktrace:\n",
      " [1] \u001b[1mdepwarn\u001b[22m\u001b[22m\u001b[1m(\u001b[22m\u001b[22m::String, ::Symbol\u001b[1m)\u001b[22m\u001b[22m at \u001b[1m./deprecated.jl:70\u001b[22m\u001b[22m\n",
      " [2] \u001b[1mArray\u001b[22m\u001b[22m\u001b[1m(\u001b[22m\u001b[22m::Type{Convex.ConicConstr}, ::Int64\u001b[1m)\u001b[22m\u001b[22m at \u001b[1m./deprecated.jl:57\u001b[22m\u001b[22m\n",
      " [3] \u001b[1mconic_form!\u001b[22m\u001b[22m\u001b[1m(\u001b[22m\u001b[22m::Convex.SOCElemConstraint, ::Convex.UniqueConicForms\u001b[1m)\u001b[22m\u001b[22m at \u001b[1m/Users/juhyun-kim/.julia/v0.6/Convex/src/constraints/soc_constraints.jl:50\u001b[22m\u001b[22m\n",
      " [4] \u001b[1mconic_form!\u001b[22m\u001b[22m\u001b[1m(\u001b[22m\u001b[22m::Convex.QolElemAtom, ::Convex.UniqueConicForms\u001b[1m)\u001b[22m\u001b[22m at \u001b[1m/Users/juhyun-kim/.julia/v0.6/Convex/src/atoms/second_order_cone/qol_elementwise.jl:41\u001b[22m\u001b[22m\n",
      " [5] \u001b[1mconic_form!\u001b[22m\u001b[22m\u001b[1m(\u001b[22m\u001b[22m::Convex.MultiplyAtom, ::Convex.UniqueConicForms\u001b[1m)\u001b[22m\u001b[22m at \u001b[1m/Users/juhyun-kim/.julia/v0.6/Convex/src/atoms/affine/multiply_divide.jl:71\u001b[22m\u001b[22m\n",
      " [6] \u001b[1mconic_form!\u001b[22m\u001b[22m\u001b[1m(\u001b[22m\u001b[22m::Convex.AdditionAtom, ::Convex.UniqueConicForms\u001b[1m)\u001b[22m\u001b[22m at \u001b[1m/Users/juhyun-kim/.julia/v0.6/Convex/src/atoms/affine/add_subtract.jl:108\u001b[22m\u001b[22m\n",
      " [7] \u001b[1mconic_form!\u001b[22m\u001b[22m\u001b[1m(\u001b[22m\u001b[22m::Convex.EqConstraint, ::Convex.UniqueConicForms\u001b[1m)\u001b[22m\u001b[22m at \u001b[1m/Users/juhyun-kim/.julia/v0.6/Convex/src/constraints/constraints.jl:43\u001b[22m\u001b[22m\n",
      " [8] \u001b[1mconic_form!\u001b[22m\u001b[22m\u001b[1m(\u001b[22m\u001b[22m::Convex.Problem, ::Convex.UniqueConicForms\u001b[1m)\u001b[22m\u001b[22m at \u001b[1m/Users/juhyun-kim/.julia/v0.6/Convex/src/problems.jl:99\u001b[22m\u001b[22m\n",
      " [9] \u001b[1mconic_problem\u001b[22m\u001b[22m\u001b[1m(\u001b[22m\u001b[22m::Convex.Problem\u001b[1m)\u001b[22m\u001b[22m at \u001b[1m/Users/juhyun-kim/.julia/v0.6/Convex/src/problems.jl:124\u001b[22m\u001b[22m\n",
      " [10] \u001b[1m#solve!#25\u001b[22m\u001b[22m\u001b[1m(\u001b[22m\u001b[22m::Bool, ::Bool, ::Bool, ::Function, ::Convex.Problem\u001b[1m)\u001b[22m\u001b[22m at \u001b[1m/Users/juhyun-kim/.julia/v0.6/Convex/src/solution.jl:25\u001b[22m\u001b[22m\n",
      " [11] \u001b[1m#solve!#24\u001b[22m\u001b[22m\u001b[1m(\u001b[22m\u001b[22m::Array{Any,1}, ::Function, ::Convex.Problem, ::ECOS.ECOSSolver\u001b[1m)\u001b[22m\u001b[22m at \u001b[1m/Users/juhyun-kim/.julia/v0.6/Convex/src/solution.jl:13\u001b[22m\u001b[22m\n",
      " [12] \u001b[1m#lsq_constrsparsereg#1\u001b[22m\u001b[22m\u001b[1m(\u001b[22m\u001b[22m::Array{Float64,2}, ::Array{Float64,1}, ::Array{Float64,2}, ::Array{Float64,1}, ::Array{Float64,1}, ::Array{Bool,1}, ::Bool, ::ECOS.ECOSSolver, ::ConstrainedLasso.#lsq_constrsparsereg, ::Array{Float64,2}, ::Array{Float64,1}, ::Float64\u001b[1m)\u001b[22m\u001b[22m at \u001b[1m/Users/juhyun-kim/.julia/v0.6/ConstrainedLasso/src/constrsparsereg.jl:83\u001b[22m\u001b[22m\n",
      " [13] \u001b[1m(::ConstrainedLasso.#kw##lsq_constrsparsereg)\u001b[22m\u001b[22m\u001b[1m(\u001b[22m\u001b[22m::Array{Any,1}, ::ConstrainedLasso.#lsq_constrsparsereg, ::Array{Float64,2}, ::Array{Float64,1}, ::Float64\u001b[1m)\u001b[22m\u001b[22m at \u001b[1m./<missing>:0\u001b[22m\u001b[22m\n",
      " [14] \u001b[1m#lsq_classopath#2\u001b[22m\u001b[22m\u001b[1m(\u001b[22m\u001b[22m::Array{Float64,2}, ::Array{Float64,1}, ::Array{Float64,2}, ::Array{Float64,1}, ::Float64, ::Array{Bool,1}, ::ECOS.ECOSSolver, ::Function, ::Array{Float64,2}, ::Array{Float64,1}\u001b[1m)\u001b[22m\u001b[22m at \u001b[1m/Users/juhyun-kim/.julia/v0.6/ConstrainedLasso/src/classopath.jl:102\u001b[22m\u001b[22m\n",
      " [15] \u001b[1m(::ConstrainedLasso.#kw##lsq_classopath)\u001b[22m\u001b[22m\u001b[1m(\u001b[22m\u001b[22m::Array{Any,1}, ::ConstrainedLasso.#lsq_classopath, ::Array{Float64,2}, ::Array{Float64,1}\u001b[1m)\u001b[22m\u001b[22m at \u001b[1m./<missing>:0\u001b[22m\u001b[22m\n",
      " [16] \u001b[1minclude_string\u001b[22m\u001b[22m\u001b[1m(\u001b[22m\u001b[22m::String, ::String\u001b[1m)\u001b[22m\u001b[22m at \u001b[1m./loading.jl:515\u001b[22m\u001b[22m\n",
      " [17] \u001b[1mexecute_request\u001b[22m\u001b[22m\u001b[1m(\u001b[22m\u001b[22m::ZMQ.Socket, ::IJulia.Msg\u001b[1m)\u001b[22m\u001b[22m at \u001b[1m/Users/juhyun-kim/.julia/v0.6/IJulia/src/execute_request.jl:160\u001b[22m\u001b[22m\n",
      " [18] \u001b[1meventloop\u001b[22m\u001b[22m\u001b[1m(\u001b[22m\u001b[22m::ZMQ.Socket\u001b[1m)\u001b[22m\u001b[22m at \u001b[1m/Users/juhyun-kim/.julia/v0.6/IJulia/src/eventloop.jl:8\u001b[22m\u001b[22m\n",
      " [19] \u001b[1m(::IJulia.##11#14)\u001b[22m\u001b[22m\u001b[1m(\u001b[22m\u001b[22m\u001b[1m)\u001b[22m\u001b[22m at \u001b[1m./task.jl:335\u001b[22m\u001b[22m\n",
      "while loading In[30], in expression starting on line 2\n",
      "\u001b[1m\u001b[33mWARNING: \u001b[39m\u001b[22m\u001b[33mArray{T}(::Type{T}, m::Int) is deprecated, use Array{T}(m) instead.\u001b[39m\n",
      "Stacktrace:\n",
      " [1] \u001b[1mdepwarn\u001b[22m\u001b[22m\u001b[1m(\u001b[22m\u001b[22m::String, ::Symbol\u001b[1m)\u001b[22m\u001b[22m at \u001b[1m./deprecated.jl:70\u001b[22m\u001b[22m\n",
      " [2] \u001b[1mArray\u001b[22m\u001b[22m\u001b[1m(\u001b[22m\u001b[22m::Type{DataStructures.OrderedDict{UInt64,Tuple{Union{AbstractArray, Number},Union{AbstractArray, Number}}}}, ::Int64\u001b[1m)\u001b[22m\u001b[22m at \u001b[1m./deprecated.jl:57\u001b[22m\u001b[22m\n",
      " [3] \u001b[1mconic_form!\u001b[22m\u001b[22m\u001b[1m(\u001b[22m\u001b[22m::Convex.SOCElemConstraint, ::Convex.UniqueConicForms\u001b[1m)\u001b[22m\u001b[22m at \u001b[1m/Users/juhyun-kim/.julia/v0.6/Convex/src/constraints/soc_constraints.jl:51\u001b[22m\u001b[22m\n",
      " [4] \u001b[1mconic_form!\u001b[22m\u001b[22m\u001b[1m(\u001b[22m\u001b[22m::Convex.QolElemAtom, ::Convex.UniqueConicForms\u001b[1m)\u001b[22m\u001b[22m at \u001b[1m/Users/juhyun-kim/.julia/v0.6/Convex/src/atoms/second_order_cone/qol_elementwise.jl:41\u001b[22m\u001b[22m\n",
      " [5] \u001b[1mconic_form!\u001b[22m\u001b[22m\u001b[1m(\u001b[22m\u001b[22m::Convex.MultiplyAtom, ::Convex.UniqueConicForms\u001b[1m)\u001b[22m\u001b[22m at \u001b[1m/Users/juhyun-kim/.julia/v0.6/Convex/src/atoms/affine/multiply_divide.jl:71\u001b[22m\u001b[22m\n",
      " [6] \u001b[1mconic_form!\u001b[22m\u001b[22m\u001b[1m(\u001b[22m\u001b[22m::Convex.AdditionAtom, ::Convex.UniqueConicForms\u001b[1m)\u001b[22m\u001b[22m at \u001b[1m/Users/juhyun-kim/.julia/v0.6/Convex/src/atoms/affine/add_subtract.jl:108\u001b[22m\u001b[22m\n",
      " [7] \u001b[1mconic_form!\u001b[22m\u001b[22m\u001b[1m(\u001b[22m\u001b[22m::Convex.EqConstraint, ::Convex.UniqueConicForms\u001b[1m)\u001b[22m\u001b[22m at \u001b[1m/Users/juhyun-kim/.julia/v0.6/Convex/src/constraints/constraints.jl:43\u001b[22m\u001b[22m\n",
      " [8] \u001b[1mconic_form!\u001b[22m\u001b[22m\u001b[1m(\u001b[22m\u001b[22m::Convex.Problem, ::Convex.UniqueConicForms\u001b[1m)\u001b[22m\u001b[22m at \u001b[1m/Users/juhyun-kim/.julia/v0.6/Convex/src/problems.jl:99\u001b[22m\u001b[22m\n",
      " [9] \u001b[1mconic_problem\u001b[22m\u001b[22m\u001b[1m(\u001b[22m\u001b[22m::Convex.Problem\u001b[1m)\u001b[22m\u001b[22m at \u001b[1m/Users/juhyun-kim/.julia/v0.6/Convex/src/problems.jl:124\u001b[22m\u001b[22m\n",
      " [10] \u001b[1m#solve!#25\u001b[22m\u001b[22m\u001b[1m(\u001b[22m\u001b[22m::Bool, ::Bool, ::Bool, ::Function, ::Convex.Problem\u001b[1m)\u001b[22m\u001b[22m at \u001b[1m/Users/juhyun-kim/.julia/v0.6/Convex/src/solution.jl:25\u001b[22m\u001b[22m\n",
      " [11] \u001b[1m#solve!#24\u001b[22m\u001b[22m\u001b[1m(\u001b[22m\u001b[22m::Array{Any,1}, ::Function, ::Convex.Problem, ::ECOS.ECOSSolver\u001b[1m)\u001b[22m\u001b[22m at \u001b[1m/Users/juhyun-kim/.julia/v0.6/Convex/src/solution.jl:13\u001b[22m\u001b[22m\n",
      " [12] \u001b[1m#lsq_constrsparsereg#1\u001b[22m\u001b[22m\u001b[1m(\u001b[22m\u001b[22m::Array{Float64,2}, ::Array{Float64,1}, ::Array{Float64,2}, ::Array{Float64,1}, ::Array{Float64,1}, ::Array{Bool,1}, ::Bool, ::ECOS.ECOSSolver, ::ConstrainedLasso.#lsq_constrsparsereg, ::Array{Float64,2}, ::Array{Float64,1}, ::Float64\u001b[1m)\u001b[22m\u001b[22m at \u001b[1m/Users/juhyun-kim/.julia/v0.6/ConstrainedLasso/src/constrsparsereg.jl:83\u001b[22m\u001b[22m\n",
      " [13] \u001b[1m(::ConstrainedLasso.#kw##lsq_constrsparsereg)\u001b[22m\u001b[22m\u001b[1m(\u001b[22m\u001b[22m::Array{Any,1}, ::ConstrainedLasso.#lsq_constrsparsereg, ::Array{Float64,2}, ::Array{Float64,1}, ::Float64\u001b[1m)\u001b[22m\u001b[22m at \u001b[1m./<missing>:0\u001b[22m\u001b[22m\n",
      " [14] \u001b[1m#lsq_classopath#2\u001b[22m\u001b[22m\u001b[1m(\u001b[22m\u001b[22m::Array{Float64,2}, ::Array{Float64,1}, ::Array{Float64,2}, ::Array{Float64,1}, ::Float64, ::Array{Bool,1}, ::ECOS.ECOSSolver, ::Function, ::Array{Float64,2}, ::Array{Float64,1}\u001b[1m)\u001b[22m\u001b[22m at \u001b[1m/Users/juhyun-kim/.julia/v0.6/ConstrainedLasso/src/classopath.jl:102\u001b[22m\u001b[22m\n",
      " [15] \u001b[1m(::ConstrainedLasso.#kw##lsq_classopath)\u001b[22m\u001b[22m\u001b[1m(\u001b[22m\u001b[22m::Array{Any,1}, ::ConstrainedLasso.#lsq_classopath, ::Array{Float64,2}, ::Array{Float64,1}\u001b[1m)\u001b[22m\u001b[22m at \u001b[1m./<missing>:0\u001b[22m\u001b[22m\n",
      " [16] \u001b[1minclude_string\u001b[22m\u001b[22m\u001b[1m(\u001b[22m\u001b[22m::String, ::String\u001b[1m)\u001b[22m\u001b[22m at \u001b[1m./loading.jl:515\u001b[22m\u001b[22m\n",
      " [17] \u001b[1mexecute_request\u001b[22m\u001b[22m\u001b[1m(\u001b[22m\u001b[22m::ZMQ.Socket, ::IJulia.Msg\u001b[1m)\u001b[22m\u001b[22m at \u001b[1m/Users/juhyun-kim/.julia/v0.6/IJulia/src/execute_request.jl:160\u001b[22m\u001b[22m\n",
      " [18] \u001b[1meventloop\u001b[22m\u001b[22m\u001b[1m(\u001b[22m\u001b[22m::ZMQ.Socket\u001b[1m)\u001b[22m\u001b[22m at \u001b[1m/Users/juhyun-kim/.julia/v0.6/IJulia/src/eventloop.jl:8\u001b[22m\u001b[22m\n",
      " [19] \u001b[1m(::IJulia.##11#14)\u001b[22m\u001b[22m\u001b[1m(\u001b[22m\u001b[22m\u001b[1m)\u001b[22m\u001b[22m at \u001b[1m./task.jl:335\u001b[22m\u001b[22m\n",
      "while loading In[30], in expression starting on line 2\n",
      "\u001b[1m\u001b[33mWARNING: \u001b[39m\u001b[22m\u001b[33mArray{T}(::Type{T}, m::Int) is deprecated, use Array{T}(m) instead.\u001b[39m\n",
      "Stacktrace:\n",
      " [1] \u001b[1mdepwarn\u001b[22m\u001b[22m\u001b[1m(\u001b[22m\u001b[22m::String, ::Symbol\u001b[1m)\u001b[22m\u001b[22m at \u001b[1m./deprecated.jl:70\u001b[22m\u001b[22m\n",
      " [2] \u001b[1mArray\u001b[22m\u001b[22m\u001b[1m(\u001b[22m\u001b[22m::Type{DataStructures.OrderedDict{UInt64,Tuple{Union{AbstractArray, Number},Union{AbstractArray, Number}}}}, ::Int64\u001b[1m)\u001b[22m\u001b[22m at \u001b[1m./deprecated.jl:57\u001b[22m\u001b[22m\n",
      " [3] \u001b[1mconic_form!\u001b[22m\u001b[22m\u001b[1m(\u001b[22m\u001b[22m::Convex.SOCConstraint, ::Convex.UniqueConicForms\u001b[1m)\u001b[22m\u001b[22m at \u001b[1m/Users/juhyun-kim/.julia/v0.6/Convex/src/constraints/soc_constraints.jl:21\u001b[22m\u001b[22m\n",
      " [4] \u001b[1mconic_form!\u001b[22m\u001b[22m\u001b[1m(\u001b[22m\u001b[22m::Convex.EucNormAtom, ::Convex.UniqueConicForms\u001b[1m)\u001b[22m\u001b[22m at \u001b[1m/Users/juhyun-kim/.julia/v0.6/Convex/src/atoms/second_order_cone/norm2.jl:47\u001b[22m\u001b[22m\n",
      " [5] \u001b[1mconic_form!\u001b[22m\u001b[22m\u001b[1m(\u001b[22m\u001b[22m::Convex.MultiplyAtom, ::Convex.UniqueConicForms\u001b[1m)\u001b[22m\u001b[22m at \u001b[1m/Users/juhyun-kim/.julia/v0.6/Convex/src/atoms/affine/multiply_divide.jl:71\u001b[22m\u001b[22m\n",
      " [6] \u001b[1mconic_form!\u001b[22m\u001b[22m\u001b[1m(\u001b[22m\u001b[22m::Convex.SOCElemConstraint, ::Convex.UniqueConicForms\u001b[1m)\u001b[22m\u001b[22m at \u001b[1m/Users/juhyun-kim/.julia/v0.6/Convex/src/constraints/soc_constraints.jl:53\u001b[22m\u001b[22m\n",
      " [7] \u001b[1mconic_form!\u001b[22m\u001b[22m\u001b[1m(\u001b[22m\u001b[22m::Convex.QolElemAtom, ::Convex.UniqueConicForms\u001b[1m)\u001b[22m\u001b[22m at \u001b[1m/Users/juhyun-kim/.julia/v0.6/Convex/src/atoms/second_order_cone/qol_elementwise.jl:41\u001b[22m\u001b[22m\n",
      " [8] \u001b[1mconic_form!\u001b[22m\u001b[22m\u001b[1m(\u001b[22m\u001b[22m::Convex.MultiplyAtom, ::Convex.UniqueConicForms\u001b[1m)\u001b[22m\u001b[22m at \u001b[1m/Users/juhyun-kim/.julia/v0.6/Convex/src/atoms/affine/multiply_divide.jl:71\u001b[22m\u001b[22m\n",
      " [9] \u001b[1mconic_form!\u001b[22m\u001b[22m\u001b[1m(\u001b[22m\u001b[22m::Convex.AdditionAtom, ::Convex.UniqueConicForms\u001b[1m)\u001b[22m\u001b[22m at \u001b[1m/Users/juhyun-kim/.julia/v0.6/Convex/src/atoms/affine/add_subtract.jl:108\u001b[22m\u001b[22m\n",
      " [10] \u001b[1mconic_form!\u001b[22m\u001b[22m\u001b[1m(\u001b[22m\u001b[22m::Convex.EqConstraint, ::Convex.UniqueConicForms\u001b[1m)\u001b[22m\u001b[22m at \u001b[1m/Users/juhyun-kim/.julia/v0.6/Convex/src/constraints/constraints.jl:43\u001b[22m\u001b[22m\n",
      " [11] \u001b[1mconic_form!\u001b[22m\u001b[22m\u001b[1m(\u001b[22m\u001b[22m::Convex.Problem, ::Convex.UniqueConicForms\u001b[1m)\u001b[22m\u001b[22m at \u001b[1m/Users/juhyun-kim/.julia/v0.6/Convex/src/problems.jl:99\u001b[22m\u001b[22m\n",
      " [12] \u001b[1mconic_problem\u001b[22m\u001b[22m\u001b[1m(\u001b[22m\u001b[22m::Convex.Problem\u001b[1m)\u001b[22m\u001b[22m at \u001b[1m/Users/juhyun-kim/.julia/v0.6/Convex/src/problems.jl:124\u001b[22m\u001b[22m\n",
      " [13] \u001b[1m#solve!#25\u001b[22m\u001b[22m\u001b[1m(\u001b[22m\u001b[22m::Bool, ::Bool, ::Bool, ::Function, ::Convex.Problem\u001b[1m)\u001b[22m\u001b[22m at \u001b[1m/Users/juhyun-kim/.julia/v0.6/Convex/src/solution.jl:25\u001b[22m\u001b[22m\n",
      " [14] \u001b[1m#solve!#24\u001b[22m\u001b[22m\u001b[1m(\u001b[22m\u001b[22m::Array{Any,1}, ::Function, ::Convex.Problem, ::ECOS.ECOSSolver\u001b[1m)\u001b[22m\u001b[22m at \u001b[1m/Users/juhyun-kim/.julia/v0.6/Convex/src/solution.jl:13\u001b[22m\u001b[22m\n",
      " [15] \u001b[1m#lsq_constrsparsereg#1\u001b[22m\u001b[22m\u001b[1m(\u001b[22m\u001b[22m::Array{Float64,2}, ::Array{Float64,1}, ::Array{Float64,2}, ::Array{Float64,1}, ::Array{Float64,1}, ::Array{Bool,1}, ::Bool, ::ECOS.ECOSSolver, ::ConstrainedLasso.#lsq_constrsparsereg, ::Array{Float64,2}, ::Array{Float64,1}, ::Float64\u001b[1m)\u001b[22m\u001b[22m at \u001b[1m/Users/juhyun-kim/.julia/v0.6/ConstrainedLasso/src/constrsparsereg.jl:83\u001b[22m\u001b[22m\n",
      " [16] \u001b[1m(::ConstrainedLasso.#kw##lsq_constrsparsereg)\u001b[22m\u001b[22m\u001b[1m(\u001b[22m\u001b[22m::Array{Any,1}, ::ConstrainedLasso.#lsq_constrsparsereg, ::Array{Float64,2}, ::Array{Float64,1}, ::Float64\u001b[1m)\u001b[22m\u001b[22m at \u001b[1m./<missing>:0\u001b[22m\u001b[22m\n",
      " [17] \u001b[1m#lsq_classopath#2\u001b[22m\u001b[22m\u001b[1m(\u001b[22m\u001b[22m::Array{Float64,2}, ::Array{Float64,1}, ::Array{Float64,2}, ::Array{Float64,1}, ::Float64, ::Array{Bool,1}, ::ECOS.ECOSSolver, ::Function, ::Array{Float64,2}, ::Array{Float64,1}\u001b[1m)\u001b[22m\u001b[22m at \u001b[1m/Users/juhyun-kim/.julia/v0.6/ConstrainedLasso/src/classopath.jl:102\u001b[22m\u001b[22m\n",
      " [18] \u001b[1m(::ConstrainedLasso.#kw##lsq_classopath)\u001b[22m\u001b[22m\u001b[1m(\u001b[22m\u001b[22m::Array{Any,1}, ::ConstrainedLasso.#lsq_classopath, ::Array{Float64,2}, ::Array{Float64,1}\u001b[1m)\u001b[22m\u001b[22m at \u001b[1m./<missing>:0\u001b[22m\u001b[22m\n",
      " [19] \u001b[1minclude_string\u001b[22m\u001b[22m\u001b[1m(\u001b[22m\u001b[22m::String, ::String\u001b[1m)\u001b[22m\u001b[22m at \u001b[1m./loading.jl:515\u001b[22m\u001b[22m\n",
      " [20] \u001b[1mexecute_request\u001b[22m\u001b[22m\u001b[1m(\u001b[22m\u001b[22m::ZMQ.Socket, ::IJulia.Msg\u001b[1m)\u001b[22m\u001b[22m at \u001b[1m/Users/juhyun-kim/.julia/v0.6/IJulia/src/execute_request.jl:160\u001b[22m\u001b[22m\n",
      " [21] \u001b[1meventloop\u001b[22m\u001b[22m\u001b[1m(\u001b[22m\u001b[22m::ZMQ.Socket\u001b[1m)\u001b[22m\u001b[22m at \u001b[1m/Users/juhyun-kim/.julia/v0.6/IJulia/src/eventloop.jl:8\u001b[22m\u001b[22m\n",
      " [22] \u001b[1m(::IJulia.##11#14)\u001b[22m\u001b[22m\u001b[1m(\u001b[22m\u001b[22m\u001b[1m)\u001b[22m\u001b[22m at \u001b[1m./task.jl:335\u001b[22m\u001b[22m\n",
      "while loading In[30], in expression starting on line 2\n",
      "\u001b[1m\u001b[33mWARNING: \u001b[39m\u001b[22m\u001b[33mProblem status Suboptimal; solution may be inaccurate.\u001b[39m\n"
     ]
    },
    {
     "data": {
      "text/plain": [
       "([0.0 0.0 … 0.791708 0.796529; 0.0 0.0 … 2.18099 2.18875; … ; 0.0 0.0 … 0.0 0.0; 0.0 0.0 … 0.0 0.0], [533.669, 426.606, 405.346, 404.845, 393.809, 380.38, 350.222, 343.537, 337.098, 334.143  …  0.140952, 0.134643, 0.115522, 0.110241, 0.0937671, 0.0921368, 0.0907563, 0.0886774, 0.0812822, 0.0789956], [7927.54, 7820.58, 7773.76, 7772.55, 7744.8, 7707.95, 7612.86, 7589.47, 7566.15, 7555.09  …  9.28165, 8.87384, 7.63521, 7.29234, 6.24127, 6.13682, 6.04684, 5.91154, 5.42959, 5.28483], Array{Float64}(0,1000), [239.781 239.781 … 0.0 0.0; 170.191 170.191 … 0.0 0.0; … ; 210.119 210.119 … 0.0 0.0; 154.856 154.856 … 0.0 0.0], [0.0, 0.0, 0.0, 0.0, 0.0, 0.0, 0.0, 0.0, 0.0, 0.0  …  45.0, 46.0, 46.0, 47.0, 48.0, 46.0, 47.0, 48.0, 48.0, 49.0], [0.0, 0.0, 0.0, 0.0, 0.0, 0.0, 0.0, 0.0, 0.0, 0.0  …  Inf, Inf, Inf, Inf, Inf, Inf, Inf, Inf, Inf, Inf])"
      ]
     },
     "execution_count": 30,
     "metadata": {},
     "output_type": "execute_result"
    }
   ],
   "source": [
    "using ECOS; solver=ECOSSolver(verbose=0, maxit=1e8);\n",
    "β̂path2, ρpath2, = lsq_classopath(X, y; Aineq = Aineq, bineq = bineq, solver = solver) "
   ]
  },
  {
   "cell_type": "code",
   "execution_count": 31,
   "metadata": {
    "collapsed": false
   },
   "outputs": [
    {
     "data": {
      "text/plain": [
       "100×183 Array{Float64,2}:\n",
       " 0.0         0.0      0.0      0.0      …  0.783939   0.791708   0.796529 \n",
       " 0.0         0.0      0.0      0.0         2.17561    2.18099    2.18875  \n",
       " 0.0         0.0      0.0      0.0         2.99935    3.008      3.01471  \n",
       " 0.0         0.0      0.0      0.0         4.30984    4.31056    4.30849  \n",
       " 0.0         0.0      0.0      0.0         4.98995    4.99358    4.9955   \n",
       " 0.0         0.0      0.0      0.0      …  6.18666    6.18814    6.18596  \n",
       " 0.0         0.0      0.0      0.0         6.92076    6.92371    6.92749  \n",
       " 0.0         0.0      0.0      0.0         8.56963    8.55907    8.54642  \n",
       " 0.0         0.0      0.0      0.0         8.86323    8.864      8.86137  \n",
       " 0.00616069  2.01444  2.41323  2.42264     9.8864     9.89486    9.90491  \n",
       " 0.0         0.0      0.0      0.0      …  0.0        0.0        0.0      \n",
       " 0.0         0.0      0.0      0.0         0.0        0.0        0.0      \n",
       " 0.0         0.0      0.0      0.0         0.0        0.0        0.0      \n",
       " ⋮                                      ⋱  ⋮                              \n",
       " 0.0         0.0      0.0      0.0         0.127693   0.122633   0.114126 \n",
       " 0.0         0.0      0.0      0.0         0.257807   0.261246   0.265255 \n",
       " 0.0         0.0      0.0      0.0      …  0.294213   0.285664   0.272772 \n",
       " 0.0         0.0      0.0      0.0         0.0        0.0        0.0      \n",
       " 0.0         0.0      0.0      0.0         0.0        0.0        0.0      \n",
       " 0.0         0.0      0.0      0.0         0.0        0.0        0.0      \n",
       " 0.0         0.0      0.0      0.0         0.0        0.0        0.0      \n",
       " 0.0         0.0      0.0      0.0      …  0.0        0.0        0.0      \n",
       " 0.0         0.0      0.0      0.0         0.0838146  0.0914735  0.0978112\n",
       " 0.0         0.0      0.0      0.0         0.200482   0.202642   0.201151 \n",
       " 0.0         0.0      0.0      0.0         0.0        0.0        0.0      \n",
       " 0.0         0.0      0.0      0.0         0.0        0.0        0.0      "
      ]
     },
     "execution_count": 31,
     "metadata": {},
     "output_type": "execute_result"
    }
   ],
   "source": [
    "β̂path2"
   ]
  },
  {
   "cell_type": "markdown",
   "metadata": {},
   "source": [
    "We plot the solution path below. "
   ]
  },
  {
   "cell_type": "code",
   "execution_count": 32,
   "metadata": {
    "collapsed": true
   },
   "outputs": [],
   "source": [
    "plot(ρpath2, β̂path2', label=\"\", xaxis = (\"ρ\", (minimum(ρpath2),\n",
    "      maximum(ρpath2))), yaxis = (\"β̂(ρ)\"), width=0.5) \n",
    "title!(\"Simulation 2: Solution Path via Constrained Lasso\") \n",
    "savefig(\"misc/nonneg.svg\")"
   ]
  }
 ],
 "metadata": {
  "kernelspec": {
   "display_name": "Julia 0.6.0",
   "language": "julia",
   "name": "julia-0.6"
  },
  "language_info": {
   "file_extension": ".jl",
   "mimetype": "application/julia",
   "name": "julia",
   "version": "0.6.0"
  }
 },
 "nbformat": 4,
 "nbformat_minor": 2
}

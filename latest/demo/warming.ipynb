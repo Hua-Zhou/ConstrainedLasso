{
 "cells": [
  {
   "cell_type": "markdown",
   "metadata": {},
   "source": [
    "# Global Warming Data  \n",
    "\n",
    "Here we consider the annual data on temperature anomalies. As has been previously noted in the literature on isotonic regression, in general temperature appears to increase monotonically over the time period of 1850 to 2015 ([Wu et al., 2001](../references.md#8); [Tibshirani et al., 2011](../references.md#5)). This monotonicity can be imposed on the coeffcient estimates using the constrained lasso with the inequality constraint matrix:\n",
    "\n",
    "```math\n",
    "\\begin{split}\n",
    "& \\text{minimize} \\hspace{1em} \\frac 12||\\boldsymbol{y}-\\boldsymbol{X\\beta}||^2_2 + \\rho||\\beta||_1 \\\\\n",
    "& \\text{ subject to} \\hspace{1em} \\boldsymbol{C\\beta} \\leq \\boldsymbol{d} \n",
    "\\end{split}\n",
    "```\n",
    "where \n",
    "\n",
    "```math\n",
    "\\boldsymbol{C} = \\begin{pmatrix} \n",
    "1 & -1 &     &    \t  &       & \t& \\\\\n",
    "  & 1  & -1  &    \t  &  \t\t&\t& \\\\\n",
    "  &    &  1  & -1 \t  & \t\t& \t& \\\\\n",
    "  &\t\t&\t\t& \\ddots & \\ddots &  & \\\\\n",
    "  &\t\t&\t\t&\t\t &\t\t\t& 1 & -1 \\\\\n",
    "\\end{pmatrix}\n",
    "```\n",
    "and ``\\boldsymbol{d} = \\boldsymbol{0}.``\n",
    "\n",
    "\n"
   ]
  },
  {
   "cell_type": "code",
   "execution_count": 1,
   "metadata": {
    "collapsed": true
   },
   "outputs": [],
   "source": [
    "using ConstrainedLasso \n",
    "using ECOS"
   ]
  },
  {
   "cell_type": "markdown",
   "metadata": {},
   "source": [
    "First we load and organize the data. "
   ]
  },
  {
   "cell_type": "code",
   "execution_count": 2,
   "metadata": {
    "collapsed": false
   },
   "outputs": [
    {
     "data": {
      "text/plain": [
       "166-element Array{Float64,1}:\n",
       " -0.375\n",
       " -0.223\n",
       " -0.224\n",
       " -0.271\n",
       " -0.246\n",
       " -0.271\n",
       " -0.352\n",
       " -0.46 \n",
       " -0.466\n",
       " -0.286\n",
       " -0.346\n",
       " -0.409\n",
       " -0.522\n",
       "  ⋮    \n",
       "  0.45 \n",
       "  0.544\n",
       "  0.505\n",
       "  0.493\n",
       "  0.395\n",
       "  0.506\n",
       "  0.559\n",
       "  0.422\n",
       "  0.47 \n",
       "  0.499\n",
       "  0.567\n",
       "  0.746"
      ]
     },
     "execution_count": 2,
     "metadata": {},
     "output_type": "execute_result"
    }
   ],
   "source": [
    "warming = readcsv(\"misc/warming.csv\", header=true)[1]\n",
    "year = warming[:, 1]\n",
    "y    = warming[:, 2]"
   ]
  },
  {
   "cell_type": "code",
   "execution_count": 3,
   "metadata": {
    "collapsed": false
   },
   "outputs": [
    {
     "data": {
      "text/plain": [
       "166×166 Array{Float64,2}:\n",
       " 1.0  0.0  0.0  0.0  0.0  0.0  0.0  0.0  …  0.0  0.0  0.0  0.0  0.0  0.0  0.0\n",
       " 0.0  1.0  0.0  0.0  0.0  0.0  0.0  0.0     0.0  0.0  0.0  0.0  0.0  0.0  0.0\n",
       " 0.0  0.0  1.0  0.0  0.0  0.0  0.0  0.0     0.0  0.0  0.0  0.0  0.0  0.0  0.0\n",
       " 0.0  0.0  0.0  1.0  0.0  0.0  0.0  0.0     0.0  0.0  0.0  0.0  0.0  0.0  0.0\n",
       " 0.0  0.0  0.0  0.0  1.0  0.0  0.0  0.0     0.0  0.0  0.0  0.0  0.0  0.0  0.0\n",
       " 0.0  0.0  0.0  0.0  0.0  1.0  0.0  0.0  …  0.0  0.0  0.0  0.0  0.0  0.0  0.0\n",
       " 0.0  0.0  0.0  0.0  0.0  0.0  1.0  0.0     0.0  0.0  0.0  0.0  0.0  0.0  0.0\n",
       " 0.0  0.0  0.0  0.0  0.0  0.0  0.0  1.0     0.0  0.0  0.0  0.0  0.0  0.0  0.0\n",
       " 0.0  0.0  0.0  0.0  0.0  0.0  0.0  0.0     0.0  0.0  0.0  0.0  0.0  0.0  0.0\n",
       " 0.0  0.0  0.0  0.0  0.0  0.0  0.0  0.0     0.0  0.0  0.0  0.0  0.0  0.0  0.0\n",
       " 0.0  0.0  0.0  0.0  0.0  0.0  0.0  0.0  …  0.0  0.0  0.0  0.0  0.0  0.0  0.0\n",
       " 0.0  0.0  0.0  0.0  0.0  0.0  0.0  0.0     0.0  0.0  0.0  0.0  0.0  0.0  0.0\n",
       " 0.0  0.0  0.0  0.0  0.0  0.0  0.0  0.0     0.0  0.0  0.0  0.0  0.0  0.0  0.0\n",
       " ⋮                        ⋮              ⋱       ⋮                        ⋮  \n",
       " 0.0  0.0  0.0  0.0  0.0  0.0  0.0  0.0     0.0  0.0  0.0  0.0  0.0  0.0  0.0\n",
       " 0.0  0.0  0.0  0.0  0.0  0.0  0.0  0.0  …  0.0  0.0  0.0  0.0  0.0  0.0  0.0\n",
       " 0.0  0.0  0.0  0.0  0.0  0.0  0.0  0.0     0.0  0.0  0.0  0.0  0.0  0.0  0.0\n",
       " 0.0  0.0  0.0  0.0  0.0  0.0  0.0  0.0     0.0  0.0  0.0  0.0  0.0  0.0  0.0\n",
       " 0.0  0.0  0.0  0.0  0.0  0.0  0.0  0.0     0.0  0.0  0.0  0.0  0.0  0.0  0.0\n",
       " 0.0  0.0  0.0  0.0  0.0  0.0  0.0  0.0     1.0  0.0  0.0  0.0  0.0  0.0  0.0\n",
       " 0.0  0.0  0.0  0.0  0.0  0.0  0.0  0.0  …  0.0  1.0  0.0  0.0  0.0  0.0  0.0\n",
       " 0.0  0.0  0.0  0.0  0.0  0.0  0.0  0.0     0.0  0.0  1.0  0.0  0.0  0.0  0.0\n",
       " 0.0  0.0  0.0  0.0  0.0  0.0  0.0  0.0     0.0  0.0  0.0  1.0  0.0  0.0  0.0\n",
       " 0.0  0.0  0.0  0.0  0.0  0.0  0.0  0.0     0.0  0.0  0.0  0.0  1.0  0.0  0.0\n",
       " 0.0  0.0  0.0  0.0  0.0  0.0  0.0  0.0     0.0  0.0  0.0  0.0  0.0  1.0  0.0\n",
       " 0.0  0.0  0.0  0.0  0.0  0.0  0.0  0.0  …  0.0  0.0  0.0  0.0  0.0  0.0  1.0"
      ]
     },
     "execution_count": 3,
     "metadata": {},
     "output_type": "execute_result"
    }
   ],
   "source": [
    "n = p = size(y, 1)\n",
    "X = eye(n)"
   ]
  },
  {
   "cell_type": "markdown",
   "metadata": {},
   "source": [
    "Now we define inequality constraints as specified earlier. "
   ]
  },
  {
   "cell_type": "code",
   "execution_count": 4,
   "metadata": {
    "collapsed": false,
    "scrolled": true
   },
   "outputs": [
    {
     "data": {
      "text/plain": [
       "165×166 Array{Float64,2}:\n",
       " 1.0  -1.0   0.0   0.0   0.0   0.0  …   0.0   0.0   0.0   0.0   0.0   0.0\n",
       " 0.0   1.0  -1.0   0.0   0.0   0.0      0.0   0.0   0.0   0.0   0.0   0.0\n",
       " 0.0   0.0   1.0  -1.0   0.0   0.0      0.0   0.0   0.0   0.0   0.0   0.0\n",
       " 0.0   0.0   0.0   1.0  -1.0   0.0      0.0   0.0   0.0   0.0   0.0   0.0\n",
       " 0.0   0.0   0.0   0.0   1.0  -1.0      0.0   0.0   0.0   0.0   0.0   0.0\n",
       " 0.0   0.0   0.0   0.0   0.0   1.0  …   0.0   0.0   0.0   0.0   0.0   0.0\n",
       " 0.0   0.0   0.0   0.0   0.0   0.0      0.0   0.0   0.0   0.0   0.0   0.0\n",
       " 0.0   0.0   0.0   0.0   0.0   0.0      0.0   0.0   0.0   0.0   0.0   0.0\n",
       " 0.0   0.0   0.0   0.0   0.0   0.0      0.0   0.0   0.0   0.0   0.0   0.0\n",
       " 0.0   0.0   0.0   0.0   0.0   0.0      0.0   0.0   0.0   0.0   0.0   0.0\n",
       " 0.0   0.0   0.0   0.0   0.0   0.0  …   0.0   0.0   0.0   0.0   0.0   0.0\n",
       " 0.0   0.0   0.0   0.0   0.0   0.0      0.0   0.0   0.0   0.0   0.0   0.0\n",
       " 0.0   0.0   0.0   0.0   0.0   0.0      0.0   0.0   0.0   0.0   0.0   0.0\n",
       " ⋮                             ⋮    ⋱   ⋮                             ⋮  \n",
       " 0.0   0.0   0.0   0.0   0.0   0.0      0.0   0.0   0.0   0.0   0.0   0.0\n",
       " 0.0   0.0   0.0   0.0   0.0   0.0      0.0   0.0   0.0   0.0   0.0   0.0\n",
       " 0.0   0.0   0.0   0.0   0.0   0.0  …   0.0   0.0   0.0   0.0   0.0   0.0\n",
       " 0.0   0.0   0.0   0.0   0.0   0.0      0.0   0.0   0.0   0.0   0.0   0.0\n",
       " 0.0   0.0   0.0   0.0   0.0   0.0      0.0   0.0   0.0   0.0   0.0   0.0\n",
       " 0.0   0.0   0.0   0.0   0.0   0.0      0.0   0.0   0.0   0.0   0.0   0.0\n",
       " 0.0   0.0   0.0   0.0   0.0   0.0     -1.0   0.0   0.0   0.0   0.0   0.0\n",
       " 0.0   0.0   0.0   0.0   0.0   0.0  …   1.0  -1.0   0.0   0.0   0.0   0.0\n",
       " 0.0   0.0   0.0   0.0   0.0   0.0      0.0   1.0  -1.0   0.0   0.0   0.0\n",
       " 0.0   0.0   0.0   0.0   0.0   0.0      0.0   0.0   1.0  -1.0   0.0   0.0\n",
       " 0.0   0.0   0.0   0.0   0.0   0.0      0.0   0.0   0.0   1.0  -1.0   0.0\n",
       " 0.0   0.0   0.0   0.0   0.0   0.0      0.0   0.0   0.0   0.0   1.0  -1.0"
      ]
     },
     "execution_count": 4,
     "metadata": {},
     "output_type": "execute_result"
    }
   ],
   "source": [
    "C = [eye(p-1) zeros(p-1, 1)] - [zeros(p-1, 1) eye(p-1)]"
   ]
  },
  {
   "cell_type": "code",
   "execution_count": 6,
   "metadata": {
    "collapsed": false
   },
   "outputs": [
    {
     "data": {
      "text/plain": [
       "165-element Array{Float64,1}:\n",
       " 0.0\n",
       " 0.0\n",
       " 0.0\n",
       " 0.0\n",
       " 0.0\n",
       " 0.0\n",
       " 0.0\n",
       " 0.0\n",
       " 0.0\n",
       " 0.0\n",
       " 0.0\n",
       " 0.0\n",
       " 0.0\n",
       " ⋮  \n",
       " 0.0\n",
       " 0.0\n",
       " 0.0\n",
       " 0.0\n",
       " 0.0\n",
       " 0.0\n",
       " 0.0\n",
       " 0.0\n",
       " 0.0\n",
       " 0.0\n",
       " 0.0\n",
       " 0.0"
      ]
     },
     "execution_count": 6,
     "metadata": {},
     "output_type": "execute_result"
    }
   ],
   "source": [
    "d = zeros(size(C, 1))"
   ]
  },
  {
   "cell_type": "markdown",
   "metadata": {},
   "source": [
    "Then we estimate constrained lasso solution path. Here we use `ECOS` solver rather than the default `SCS` solver. "
   ]
  },
  {
   "cell_type": "code",
   "execution_count": null,
   "metadata": {
    "collapsed": false,
    "scrolled": true
   },
   "outputs": [],
   "source": [
    "β̂path, ρpath, = lsq_classopath(X, y; Aineq = C, bineq = d, solver = ECOSSolver(verbose=0, maxit=1e8)); "
   ]
  },
  {
   "cell_type": "code",
   "execution_count": 8,
   "metadata": {
    "collapsed": false
   },
   "outputs": [
    {
     "data": {
      "text/plain": [
       "166×198 Array{Float64,2}:\n",
       " 0.0  0.0  0.0  0.0  0.0  0.0       …  -0.323225  -0.366     -0.375   \n",
       " 0.0  0.0  0.0  0.0  0.0  0.0          -0.294082  -0.336857  -0.345857\n",
       " 0.0  0.0  0.0  0.0  0.0  0.0          -0.294082  -0.336857  -0.345857\n",
       " 0.0  0.0  0.0  0.0  0.0  0.0          -0.294082  -0.336857  -0.345857\n",
       " 0.0  0.0  0.0  0.0  0.0  0.0          -0.294082  -0.336857  -0.345857\n",
       " 0.0  0.0  0.0  0.0  0.0  0.0       …  -0.294082  -0.336857  -0.345857\n",
       " 0.0  0.0  0.0  0.0  0.0  0.0          -0.294082  -0.336857  -0.345857\n",
       " 0.0  0.0  0.0  0.0  0.0  0.0          -0.294082  -0.336857  -0.345857\n",
       " 0.0  0.0  0.0  0.0  0.0  0.0          -0.294082  -0.336857  -0.345857\n",
       " 0.0  0.0  0.0  0.0  0.0  0.0          -0.294082  -0.336857  -0.345857\n",
       " 0.0  0.0  0.0  0.0  0.0  0.0       …  -0.294082  -0.336857  -0.345857\n",
       " 0.0  0.0  0.0  0.0  0.0  0.0          -0.294082  -0.336857  -0.345857\n",
       " 0.0  0.0  0.0  0.0  0.0  0.0          -0.294082  -0.336857  -0.345857\n",
       " ⋮                        ⋮         ⋱   ⋮                             \n",
       " 0.0  0.0  0.0  0.0  0.0  0.0           0.432796   0.475571   0.484571\n",
       " 0.0  0.0  0.0  0.0  0.0  0.0       …   0.432796   0.475571   0.484571\n",
       " 0.0  0.0  0.0  0.0  0.0  0.0           0.432796   0.475571   0.484571\n",
       " 0.0  0.0  0.0  0.0  0.0  0.0           0.432796   0.475571   0.484571\n",
       " 0.0  0.0  0.0  0.0  0.0  0.0           0.432796   0.475571   0.484571\n",
       " 0.0  0.0  0.0  0.0  0.0  0.0           0.437475   0.48025    0.48925 \n",
       " 0.0  0.0  0.0  0.0  0.0  0.0       …   0.437475   0.48025    0.48925 \n",
       " 0.0  0.0  0.0  0.0  0.0  0.0           0.437475   0.48025    0.48925 \n",
       " 0.0  0.0  0.0  0.0  0.0  0.0           0.437475   0.48025    0.48925 \n",
       " 0.0  0.0  0.0  0.0  0.0  0.0           0.447225   0.49       0.499   \n",
       " 0.0  0.0  0.0  0.0  0.0  0.0           0.515225   0.558      0.567   \n",
       " 0.0  0.0  0.0  0.0  0.0  0.011639  …   0.699138   0.737854   0.746   "
      ]
     },
     "execution_count": 8,
     "metadata": {},
     "output_type": "execute_result"
    }
   ],
   "source": [
    "β̂path"
   ]
  },
  {
   "cell_type": "markdown",
   "metadata": {},
   "source": [
    "In this formulation, isotonic regression is a special case of the constrained lasso with ``\\rho=0.``\n",
    "Below, `monoreg` is coefficient estimates obtained using isotonic regression. "
   ]
  },
  {
   "cell_type": "code",
   "execution_count": 9,
   "metadata": {
    "collapsed": false
   },
   "outputs": [
    {
     "data": {
      "text/plain": [
       "166×1 Array{Float64,2}:\n",
       " -0.375   \n",
       " -0.345857\n",
       " -0.345857\n",
       " -0.345857\n",
       " -0.345857\n",
       " -0.345857\n",
       " -0.345857\n",
       " -0.345857\n",
       " -0.345857\n",
       " -0.345857\n",
       " -0.345857\n",
       " -0.345857\n",
       " -0.345857\n",
       "  ⋮       \n",
       "  0.484571\n",
       "  0.484571\n",
       "  0.484571\n",
       "  0.484571\n",
       "  0.484571\n",
       "  0.48925 \n",
       "  0.48925 \n",
       "  0.48925 \n",
       "  0.48925 \n",
       "  0.499   \n",
       "  0.567   \n",
       "  0.746   "
      ]
     },
     "execution_count": 9,
     "metadata": {},
     "output_type": "execute_result"
    }
   ],
   "source": [
    "monoreg = readdlm(\"misc/monoreg.txt\")"
   ]
  },
  {
   "cell_type": "markdown",
   "metadata": {},
   "source": [
    "Now let's compare estimates by obtaining the largest absolute difference between isotonic regression constrained lasso fit. "
   ]
  },
  {
   "cell_type": "code",
   "execution_count": 10,
   "metadata": {
    "collapsed": false
   },
   "outputs": [
    {
     "data": {
      "text/plain": [
       "1.2212453270876722e-15"
      ]
     },
     "execution_count": 10,
     "metadata": {},
     "output_type": "execute_result"
    }
   ],
   "source": [
    "maximum(abs.(monoreg - β̂path[:, end]))"
   ]
  },
  {
   "cell_type": "markdown",
   "metadata": {},
   "source": [
    "Below is a figure that plots the constrained lasso fit at $\\rho = 0$ with the estimates using isotonic regression."
   ]
  },
  {
   "cell_type": "code",
   "execution_count": null,
   "metadata": {
    "collapsed": true
   },
   "outputs": [],
   "source": [
    "using Plots; pyplot(); \n",
    "scatter(year, y, label=\"Observed Data\", markerstrokecolor=\"darkblue\", \n",
    "        markercolor=\"white\")\n",
    "scatter!(year, β̂path[:, end], label=\"Classopath (ρ=0)\", \n",
    "        markerstrokecolor=\"black\", marker=:rect, markercolor=\"white\")\n",
    "scatter!(year, monoreg, label=\"Isotonic Regression\", marker=:x,\n",
    "        markercolor=\"red\", markersize=2)\n",
    "xaxis!(\"Year\") \n",
    "yaxis!(\"Temperature anomalies\")\n",
    "title!(\"Global Warming Data\")"
   ]
  },
  {
   "cell_type": "code",
   "execution_count": null,
   "metadata": {
    "collapsed": true
   },
   "outputs": [],
   "source": [
    "savefig(\"misc/warming.svg\")"
   ]
  }
 ],
 "metadata": {
  "kernelspec": {
   "display_name": "Julia 0.6.0",
   "language": "julia",
   "name": "julia-0.6"
  },
  "language_info": {
   "file_extension": ".jl",
   "mimetype": "application/julia",
   "name": "julia",
   "version": "0.6.0"
  }
 },
 "nbformat": 4,
 "nbformat_minor": 2
}

{
 "cells": [
  {
   "cell_type": "markdown",
   "metadata": {},
   "source": [
    "# Prostate Data  \n",
    "\n",
    "This demonstration solves a regular, unconstrained lasso problem using\n",
    "the constrained lasso solution path (`lsq_classopath.jl`).\n",
    "\n",
    "The `prostate` data come from a study that examined the correlation between the level of prostate specific antigen and a number of clinical measures in men who were about to receive a radical prostatectomy. ([Stamey et al. (1989)](../references.md#4))\n",
    "\n",
    "Let's load and organize the `prostate` data. Since we are interested in the following variables as predictors, we extract them and create a design matrix `Xz`:\n",
    "\n",
    "* `lcavol` : log(cancer volume)\n",
    "* `lweight`: log(prostate weight)\n",
    "* `age`    : age\n",
    "* `lbph`   : log(benign prostatic hyperplasia amount)\n",
    "* `svi`    : seminal vesicle invasion\n",
    "* `lcp`    : log(capsular penetration)\n",
    "* `gleason`: Gleason score\n",
    "* `pgg45`  : percentage Gleason scores 4 or 5\n",
    "\n",
    "The response variable is `lpsa`, which is log(prostate specific antigen). "
   ]
  },
  {
   "cell_type": "code",
   "execution_count": 1,
   "metadata": {
    "collapsed": false
   },
   "outputs": [
    {
     "data": {
      "text/plain": [
       "97×8 Array{Float64,2}:\n",
       " -0.579818  2.76946  50.0  -1.38629   0.0  -1.38629   6.0   0.0\n",
       " -0.994252  3.31963  58.0  -1.38629   0.0  -1.38629   6.0   0.0\n",
       " -0.510826  2.69124  74.0  -1.38629   0.0  -1.38629   7.0  20.0\n",
       " -1.20397   3.28279  58.0  -1.38629   0.0  -1.38629   6.0   0.0\n",
       "  0.751416  3.43237  62.0  -1.38629   0.0  -1.38629   6.0   0.0\n",
       " -1.04982   3.22883  50.0  -1.38629   0.0  -1.38629   6.0   0.0\n",
       "  0.737164  3.47352  64.0   0.615186  0.0  -1.38629   6.0   0.0\n",
       "  0.693147  3.53951  58.0   1.53687   0.0  -1.38629   6.0   0.0\n",
       " -0.776529  3.53951  47.0  -1.38629   0.0  -1.38629   6.0   0.0\n",
       "  0.223144  3.24454  63.0  -1.38629   0.0  -1.38629   6.0   0.0\n",
       "  0.254642  3.60414  65.0  -1.38629   0.0  -1.38629   6.0   0.0\n",
       " -1.34707   3.59868  63.0   1.26695   0.0  -1.38629   6.0   0.0\n",
       "  1.61343   3.02286  63.0  -1.38629   0.0  -0.597837  7.0  30.0\n",
       "  ⋮                                         ⋮                  \n",
       "  3.30285   3.51898  64.0  -1.38629   1.0   2.32728   7.0  60.0\n",
       "  2.02419   3.7317   58.0   1.639     0.0  -1.38629   6.0   0.0\n",
       "  1.73166   3.36902  62.0  -1.38629   1.0   0.300105  7.0  30.0\n",
       "  2.80759   4.71805  65.0  -1.38629   1.0   2.46385   7.0  60.0\n",
       "  1.56235   3.69511  76.0   0.936093  1.0   0.81093   7.0  75.0\n",
       "  3.24649   4.10182  68.0  -1.38629   0.0  -1.38629   6.0   0.0\n",
       "  2.5329    3.67757  61.0   1.34807   1.0  -1.38629   7.0  15.0\n",
       "  2.83027   3.8764   68.0  -1.38629   1.0   1.32176   7.0  60.0\n",
       "  3.821     3.89691  44.0  -1.38629   1.0   2.16905   7.0  40.0\n",
       "  2.90745   3.39619  52.0  -1.38629   1.0   2.46385   7.0  10.0\n",
       "  2.88256   3.77391  68.0   1.55814   1.0   1.55814   7.0  80.0\n",
       "  3.47197   3.975    68.0   0.438255  1.0   2.90417   7.0  20.0"
      ]
     },
     "execution_count": 1,
     "metadata": {},
     "output_type": "execute_result"
    }
   ],
   "source": [
    "using ConstrainedLasso \n",
    "prostate = readcsv(\"misc/prostate.csv\", header=true)\n",
    "tmp = []\n",
    "labels = [\"lcavol\" \"lweight\" \"age\" \"lbph\" \"svi\" \"lcp\" \"gleason\" \"pgg45\"]\n",
    "for i in labels\n",
    "    push!(tmp, find(x -> x == i, prostate[2])[1])\n",
    "end\n",
    "Xz = Array{Float64}(prostate[1][:, tmp])"
   ]
  },
  {
   "cell_type": "code",
   "execution_count": 2,
   "metadata": {
    "collapsed": false
   },
   "outputs": [
    {
     "data": {
      "text/plain": [
       "97-element Array{Float64,1}:\n",
       " -0.430783\n",
       " -0.162519\n",
       " -0.162519\n",
       " -0.162519\n",
       "  0.371564\n",
       "  0.765468\n",
       "  0.765468\n",
       "  0.854415\n",
       "  1.04732 \n",
       "  1.04732 \n",
       "  1.26695 \n",
       "  1.26695 \n",
       "  1.26695 \n",
       "  ⋮       \n",
       "  3.63099 \n",
       "  3.68009 \n",
       "  3.71235 \n",
       "  3.98434 \n",
       "  3.9936  \n",
       "  4.02981 \n",
       "  4.12955 \n",
       "  4.38515 \n",
       "  4.68444 \n",
       "  5.14312 \n",
       "  5.47751 \n",
       "  5.58293 "
      ]
     },
     "execution_count": 2,
     "metadata": {},
     "output_type": "execute_result"
    }
   ],
   "source": [
    "y = Array{Float64}(prostate[1][:, end-1])"
   ]
  },
  {
   "cell_type": "markdown",
   "metadata": {},
   "source": [
    "First we standardize the data by subtracting its mean and dividing by its standard deviation. "
   ]
  },
  {
   "cell_type": "code",
   "execution_count": 3,
   "metadata": {
    "collapsed": false
   },
   "outputs": [
    {
     "data": {
      "text/plain": [
       "97×8 Array{Float64,2}:\n",
       " -1.63736   -2.00621    -1.86243    …  -0.863171  -1.04216   -0.864467\n",
       " -1.98898   -0.722009   -0.787896      -0.863171  -1.04216   -0.864467\n",
       " -1.57882   -2.18878     1.36116       -0.863171   0.342627  -0.155348\n",
       " -2.16692   -0.807994   -0.787896      -0.863171  -1.04216   -0.864467\n",
       " -0.507874  -0.458834   -0.250631      -0.863171  -1.04216   -0.864467\n",
       " -2.03613   -0.933955   -1.86243    …  -0.863171  -1.04216   -0.864467\n",
       " -0.519967  -0.362793    0.0180011     -0.863171  -1.04216   -0.864467\n",
       " -0.557313  -0.208757   -0.787896      -0.863171  -1.04216   -0.864467\n",
       " -1.80425   -0.208757   -2.26537       -0.863171  -1.04216   -0.864467\n",
       " -0.956085  -0.897266   -0.116315      -0.863171  -1.04216   -0.864467\n",
       " -0.92936   -0.0578992   0.152317   …  -0.863171  -1.04216   -0.864467\n",
       " -2.28833   -0.0706369  -0.116315      -0.863171  -1.04216   -0.864467\n",
       "  0.223498  -1.41472    -0.116315      -0.299282   0.342627   0.199211\n",
       "  ⋮                                 ⋱   ⋮                             \n",
       "  1.65688   -0.256675    0.0180011  …   1.7927     0.342627   1.26289 \n",
       "  0.572009   0.239854   -0.787896      -0.863171  -1.04216   -0.864467\n",
       "  0.323806  -0.606718   -0.250631       0.342907   0.342627   0.199211\n",
       "  1.23668    2.54221     0.152317       1.89038    0.342627   1.26289 \n",
       "  0.180156   0.154448    1.6298         0.70824    0.342627   1.79473 \n",
       "  1.60906    1.10379     0.555266   …  -0.863171  -1.04216   -0.864467\n",
       "  1.00362    0.113497   -0.384948      -0.863171   0.342627  -0.332628\n",
       "  1.25592    0.577607    0.555266       1.07357    0.342627   1.26289 \n",
       "  2.09651    0.625489   -2.66832        1.67954    0.342627   0.55377 \n",
       "  1.3214    -0.543304   -1.59379        1.89038    0.342627  -0.509907\n",
       "  1.30029    0.338384    0.555266   …   1.24263    0.342627   1.97201 \n",
       "  1.80037    0.807764    0.555266       2.20528    0.342627  -0.155348"
      ]
     },
     "execution_count": 3,
     "metadata": {},
     "output_type": "execute_result"
    }
   ],
   "source": [
    "n, p = size(Xz)\n",
    "for i in 1:size(Xz,2)\n",
    "    Xz[:, i] -= mean(Xz[:, i])\n",
    "    Xz[:, i] /= std(Xz[:, i])\n",
    "end\n",
    "Xz"
   ]
  },
  {
   "cell_type": "markdown",
   "metadata": {},
   "source": [
    "Now we solve the problem using solution path algorithm. "
   ]
  },
  {
   "cell_type": "code",
   "execution_count": null,
   "metadata": {
    "collapsed": false
   },
   "outputs": [],
   "source": [
    "βpath, ρpath, = lsq_classopath(Xz, y);"
   ]
  },
  {
   "cell_type": "code",
   "execution_count": 5,
   "metadata": {
    "collapsed": false
   },
   "outputs": [
    {
     "data": {
      "text/plain": [
       "8×9 Array{Float64,2}:\n",
       " 0.0  0.421131  0.461588   0.557453  …   0.597269    0.602923    0.665147 \n",
       " 0.0  0.0       0.0        0.171805      0.232686    0.246293    0.26648  \n",
       " 0.0  0.0       0.0        0.0          -0.0598626  -0.0937415  -0.158195 \n",
       " 0.0  0.0       0.0        0.0           0.088065    0.108124    0.140311 \n",
       " 0.0  0.0       0.0404563  0.182941      0.2436      0.252692    0.315329 \n",
       " 0.0  0.0       0.0        0.0       …   0.0         0.0        -0.148286 \n",
       " 0.0  0.0       0.0        0.0           0.0         0.0123116   0.0355492\n",
       " 0.0  0.0       0.0        0.0           0.0645835   0.0700037   0.12572  "
      ]
     },
     "execution_count": 5,
     "metadata": {},
     "output_type": "execute_result"
    }
   ],
   "source": [
    "βpath"
   ]
  },
  {
   "cell_type": "markdown",
   "metadata": {},
   "source": [
    "We plot the solution path below. "
   ]
  },
  {
   "cell_type": "code",
   "execution_count": 6,
   "metadata": {
    "collapsed": false
   },
   "outputs": [
    {
     "name": "stderr",
     "output_type": "stream",
     "text": [
      "WARNING: Compat.UTF8String is deprecated, use String instead.\n",
      "  likely near In[6]:68\n"
     ]
    }
   ],
   "source": [
    "using Plots; pyplot(); \n",
    "colors = [:green :orange :black :purple :red :grey :brown :blue] \n",
    "plot(ρpath, βpath', xaxis = (\"ρ\", (minimum(ρpath),\n",
    "      maximum(ρpath))), yaxis = (\"β̂(ρ)\"), label=labels, color=colors)\n",
    "title!(\"Prostate Data: Solution Path via Constrained Lasso\")\n",
    "savefig(\"misc/prostate.svg\")"
   ]
  },
  {
   "cell_type": "markdown",
   "metadata": {},
   "source": [
    "Below, we solve the same problem using `GLMNet.jl` package. "
   ]
  },
  {
   "cell_type": "code",
   "execution_count": 7,
   "metadata": {
    "collapsed": false
   },
   "outputs": [
    {
     "name": "stderr",
     "output_type": "stream",
     "text": [
      "\n",
      "WARNING: deprecated syntax \"abstract Loss\" at /Users/juhyun-kim/.julia/v0.6/GLMNet/src/GLMNet.jl:129.\n",
      "Use \"abstract type Loss end\" instead.\n",
      "\u001b[1m\u001b[33mWARNING: \u001b[39m\u001b[22m\u001b[33mArray{T}(::Type{T}, m::Int, n::Int) is deprecated, use Array{T}(m, n) instead.\u001b[39m\n",
      "Stacktrace:\n",
      " [1] \u001b[1mdepwarn\u001b[22m\u001b[22m\u001b[1m(\u001b[22m\u001b[22m::String, ::Symbol\u001b[1m)\u001b[22m\u001b[22m at \u001b[1m./deprecated.jl:70\u001b[22m\u001b[22m\n",
      " [2] \u001b[1mArray\u001b[22m\u001b[22m\u001b[1m(\u001b[22m\u001b[22m::Type{Float64}, ::Int64, ::Int64\u001b[1m)\u001b[22m\u001b[22m at \u001b[1m./deprecated.jl:57\u001b[22m\u001b[22m\n",
      " [3] \u001b[1m#glmnet!#7\u001b[22m\u001b[22m\u001b[1m(\u001b[22m\u001b[22m::Array{Float64,1}, ::Bool, ::Float64, ::Array{Float64,1}, ::Array{Float64,2}, ::Int64, ::Int64, ::Int64, ::Float64, ::Array{Float64,1}, ::Float64, ::Bool, ::Bool, ::Int64, ::GLMNet.#glmnet!, ::Array{Float64,2}, ::Array{Float64,1}, ::Distributions.Normal{Float64}\u001b[1m)\u001b[22m\u001b[22m at \u001b[1m/Users/juhyun-kim/.julia/v0.6/GLMNet/src/GLMNet.jl:236\u001b[22m\u001b[22m\n",
      " [4] \u001b[1m(::GLMNet.#kw##glmnet!)\u001b[22m\u001b[22m\u001b[1m(\u001b[22m\u001b[22m::Array{Any,1}, ::GLMNet.#glmnet!, ::Array{Float64,2}, ::Array{Float64,1}, ::Distributions.Normal{Float64}\u001b[1m)\u001b[22m\u001b[22m at \u001b[1m./<missing>:0\u001b[22m\u001b[22m\n",
      " [5] \u001b[1m#glmnet#22\u001b[22m\u001b[22m\u001b[1m(\u001b[22m\u001b[22m::Array{Any,1}, ::Function, ::Array{Float64,2}, ::Array{Float64,1}, ::Distributions.Normal{Float64}\u001b[1m)\u001b[22m\u001b[22m at \u001b[1m/Users/juhyun-kim/.julia/v0.6/GLMNet/src/GLMNet.jl:369\u001b[22m\u001b[22m\n",
      " [6] \u001b[1m(::GLMNet.#kw##glmnet)\u001b[22m\u001b[22m\u001b[1m(\u001b[22m\u001b[22m::Array{Any,1}, ::GLMNet.#glmnet, ::Array{Float64,2}, ::Array{Float64,1}, ::Distributions.Normal{Float64}\u001b[1m)\u001b[22m\u001b[22m at \u001b[1m./<missing>:0\u001b[22m\u001b[22m (repeats 2 times)\n",
      " [7] \u001b[1minclude_string\u001b[22m\u001b[22m\u001b[1m(\u001b[22m\u001b[22m::String, ::String\u001b[1m)\u001b[22m\u001b[22m at \u001b[1m./loading.jl:515\u001b[22m\u001b[22m\n",
      " [8] \u001b[1mexecute_request\u001b[22m\u001b[22m\u001b[1m(\u001b[22m\u001b[22m::ZMQ.Socket, ::IJulia.Msg\u001b[1m)\u001b[22m\u001b[22m at \u001b[1m/Users/juhyun-kim/.julia/v0.6/IJulia/src/execute_request.jl:160\u001b[22m\u001b[22m\n",
      " [9] \u001b[1meventloop\u001b[22m\u001b[22m\u001b[1m(\u001b[22m\u001b[22m::ZMQ.Socket\u001b[1m)\u001b[22m\u001b[22m at \u001b[1m/Users/juhyun-kim/.julia/v0.6/IJulia/src/eventloop.jl:8\u001b[22m\u001b[22m\n",
      " [10] \u001b[1m(::IJulia.##11#14)\u001b[22m\u001b[22m\u001b[1m(\u001b[22m\u001b[22m\u001b[1m)\u001b[22m\u001b[22m at \u001b[1m./task.jl:335\u001b[22m\u001b[22m\n",
      "while loading In[7], in expression starting on line 2\n",
      "\u001b[1m\u001b[33mWARNING: \u001b[39m\u001b[22m\u001b[33mArray{T}(::Type{T}, m::Int) is deprecated, use Array{T}(m) instead.\u001b[39m\n",
      "Stacktrace:\n",
      " [1] \u001b[1mdepwarn\u001b[22m\u001b[22m\u001b[1m(\u001b[22m\u001b[22m::String, ::Symbol\u001b[1m)\u001b[22m\u001b[22m at \u001b[1m./deprecated.jl:70\u001b[22m\u001b[22m\n",
      " [2] \u001b[1mArray\u001b[22m\u001b[22m\u001b[1m(\u001b[22m\u001b[22m::Type{Int32}, ::Int64\u001b[1m)\u001b[22m\u001b[22m at \u001b[1m./deprecated.jl:57\u001b[22m\u001b[22m\n",
      " [3] \u001b[1m#glmnet!#7\u001b[22m\u001b[22m\u001b[1m(\u001b[22m\u001b[22m::Array{Float64,1}, ::Bool, ::Float64, ::Array{Float64,1}, ::Array{Float64,2}, ::Int64, ::Int64, ::Int64, ::Float64, ::Array{Float64,1}, ::Float64, ::Bool, ::Bool, ::Int64, ::GLMNet.#glmnet!, ::Array{Float64,2}, ::Array{Float64,1}, ::Distributions.Normal{Float64}\u001b[1m)\u001b[22m\u001b[22m at \u001b[1m/Users/juhyun-kim/.julia/v0.6/GLMNet/src/GLMNet.jl:237\u001b[22m\u001b[22m\n",
      " [4] \u001b[1m(::GLMNet.#kw##glmnet!)\u001b[22m\u001b[22m\u001b[1m(\u001b[22m\u001b[22m::Array{Any,1}, ::GLMNet.#glmnet!, ::Array{Float64,2}, ::Array{Float64,1}, ::Distributions.Normal{Float64}\u001b[1m)\u001b[22m\u001b[22m at \u001b[1m./<missing>:0\u001b[22m\u001b[22m\n",
      " [5] \u001b[1m#glmnet#22\u001b[22m\u001b[22m\u001b[1m(\u001b[22m\u001b[22m::Array{Any,1}, ::Function, ::Array{Float64,2}, ::Array{Float64,1}, ::Distributions.Normal{Float64}\u001b[1m)\u001b[22m\u001b[22m at \u001b[1m/Users/juhyun-kim/.julia/v0.6/GLMNet/src/GLMNet.jl:369\u001b[22m\u001b[22m\n",
      " [6] \u001b[1m(::GLMNet.#kw##glmnet)\u001b[22m\u001b[22m\u001b[1m(\u001b[22m\u001b[22m::Array{Any,1}, ::GLMNet.#glmnet, ::Array{Float64,2}, ::Array{Float64,1}, ::Distributions.Normal{Float64}\u001b[1m)\u001b[22m\u001b[22m at \u001b[1m./<missing>:0\u001b[22m\u001b[22m (repeats 2 times)\n",
      " [7] \u001b[1minclude_string\u001b[22m\u001b[22m\u001b[1m(\u001b[22m\u001b[22m::String, ::String\u001b[1m)\u001b[22m\u001b[22m at \u001b[1m./loading.jl:515\u001b[22m\u001b[22m\n",
      " [8] \u001b[1mexecute_request\u001b[22m\u001b[22m\u001b[1m(\u001b[22m\u001b[22m::ZMQ.Socket, ::IJulia.Msg\u001b[1m)\u001b[22m\u001b[22m at \u001b[1m/Users/juhyun-kim/.julia/v0.6/IJulia/src/execute_request.jl:160\u001b[22m\u001b[22m\n",
      " [9] \u001b[1meventloop\u001b[22m\u001b[22m\u001b[1m(\u001b[22m\u001b[22m::ZMQ.Socket\u001b[1m)\u001b[22m\u001b[22m at \u001b[1m/Users/juhyun-kim/.julia/v0.6/IJulia/src/eventloop.jl:8\u001b[22m\u001b[22m\n",
      " [10] \u001b[1m(::IJulia.##11#14)\u001b[22m\u001b[22m\u001b[1m(\u001b[22m\u001b[22m\u001b[1m)\u001b[22m\u001b[22m at \u001b[1m./task.jl:335\u001b[22m\u001b[22m\n",
      "while loading In[7], in expression starting on line 2\n",
      "\u001b[1m\u001b[33mWARNING: \u001b[39m\u001b[22m\u001b[33mArray{T}(::Type{T}, m::Int) is deprecated, use Array{T}(m) instead.\u001b[39m\n",
      "Stacktrace:\n",
      " [1] \u001b[1mdepwarn\u001b[22m\u001b[22m\u001b[1m(\u001b[22m\u001b[22m::String, ::Symbol\u001b[1m)\u001b[22m\u001b[22m at \u001b[1m./deprecated.jl:70\u001b[22m\u001b[22m\n",
      " [2] \u001b[1mArray\u001b[22m\u001b[22m\u001b[1m(\u001b[22m\u001b[22m::Type{Int32}, ::Int64\u001b[1m)\u001b[22m\u001b[22m at \u001b[1m./deprecated.jl:57\u001b[22m\u001b[22m\n",
      " [3] \u001b[1m#glmnet!#7\u001b[22m\u001b[22m\u001b[1m(\u001b[22m\u001b[22m::Array{Float64,1}, ::Bool, ::Float64, ::Array{Float64,1}, ::Array{Float64,2}, ::Int64, ::Int64, ::Int64, ::Float64, ::Array{Float64,1}, ::Float64, ::Bool, ::Bool, ::Int64, ::GLMNet.#glmnet!, ::Array{Float64,2}, ::Array{Float64,1}, ::Distributions.Normal{Float64}\u001b[1m)\u001b[22m\u001b[22m at \u001b[1m/Users/juhyun-kim/.julia/v0.6/GLMNet/src/GLMNet.jl:238\u001b[22m\u001b[22m\n",
      " [4] \u001b[1m(::GLMNet.#kw##glmnet!)\u001b[22m\u001b[22m\u001b[1m(\u001b[22m\u001b[22m::Array{Any,1}, ::GLMNet.#glmnet!, ::Array{Float64,2}, ::Array{Float64,1}, ::Distributions.Normal{Float64}\u001b[1m)\u001b[22m\u001b[22m at \u001b[1m./<missing>:0\u001b[22m\u001b[22m\n",
      " [5] \u001b[1m#glmnet#22\u001b[22m\u001b[22m\u001b[1m(\u001b[22m\u001b[22m::Array{Any,1}, ::Function, ::Array{Float64,2}, ::Array{Float64,1}, ::Distributions.Normal{Float64}\u001b[1m)\u001b[22m\u001b[22m at \u001b[1m/Users/juhyun-kim/.julia/v0.6/GLMNet/src/GLMNet.jl:369\u001b[22m\u001b[22m\n",
      " [6] \u001b[1m(::GLMNet.#kw##glmnet)\u001b[22m\u001b[22m\u001b[1m(\u001b[22m\u001b[22m::Array{Any,1}, ::GLMNet.#glmnet, ::Array{Float64,2}, ::Array{Float64,1}, ::Distributions.Normal{Float64}\u001b[1m)\u001b[22m\u001b[22m at \u001b[1m./<missing>:0\u001b[22m\u001b[22m (repeats 2 times)\n",
      " [7] \u001b[1minclude_string\u001b[22m\u001b[22m\u001b[1m(\u001b[22m\u001b[22m::String, ::String\u001b[1m)\u001b[22m\u001b[22m at \u001b[1m./loading.jl:515\u001b[22m\u001b[22m\n",
      " [8] \u001b[1mexecute_request\u001b[22m\u001b[22m\u001b[1m(\u001b[22m\u001b[22m::ZMQ.Socket, ::IJulia.Msg\u001b[1m)\u001b[22m\u001b[22m at \u001b[1m/Users/juhyun-kim/.julia/v0.6/IJulia/src/execute_request.jl:160\u001b[22m\u001b[22m\n",
      " [9] \u001b[1meventloop\u001b[22m\u001b[22m\u001b[1m(\u001b[22m\u001b[22m::ZMQ.Socket\u001b[1m)\u001b[22m\u001b[22m at \u001b[1m/Users/juhyun-kim/.julia/v0.6/IJulia/src/eventloop.jl:8\u001b[22m\u001b[22m\n",
      " [10] \u001b[1m(::IJulia.##11#14)\u001b[22m\u001b[22m\u001b[1m(\u001b[22m\u001b[22m\u001b[1m)\u001b[22m\u001b[22m at \u001b[1m./task.jl:335\u001b[22m\u001b[22m\n",
      "while loading In[7], in expression starting on line 2\n",
      "\u001b[1m\u001b[33mWARNING: \u001b[39m\u001b[22m\u001b[33mArray{T}(::Type{T}, m::Int) is deprecated, use Array{T}(m) instead.\u001b[39m\n",
      "Stacktrace:\n",
      " [1] \u001b[1mdepwarn\u001b[22m\u001b[22m\u001b[1m(\u001b[22m\u001b[22m::String, ::Symbol\u001b[1m)\u001b[22m\u001b[22m at \u001b[1m./deprecated.jl:70\u001b[22m\u001b[22m\n",
      " [2] \u001b[1mArray\u001b[22m\u001b[22m\u001b[1m(\u001b[22m\u001b[22m::Type{Float64}, ::Int64\u001b[1m)\u001b[22m\u001b[22m at \u001b[1m./deprecated.jl:57\u001b[22m\u001b[22m\n",
      " [3] \u001b[1m#glmnet!#7\u001b[22m\u001b[22m\u001b[1m(\u001b[22m\u001b[22m::Array{Float64,1}, ::Bool, ::Float64, ::Array{Float64,1}, ::Array{Float64,2}, ::Int64, ::Int64, ::Int64, ::Float64, ::Array{Float64,1}, ::Float64, ::Bool, ::Bool, ::Int64, ::GLMNet.#glmnet!, ::Array{Float64,2}, ::Array{Float64,1}, ::Distributions.Normal{Float64}\u001b[1m)\u001b[22m\u001b[22m at \u001b[1m/Users/juhyun-kim/.julia/v0.6/GLMNet/src/GLMNet.jl:239\u001b[22m\u001b[22m\n",
      " [4] \u001b[1m(::GLMNet.#kw##glmnet!)\u001b[22m\u001b[22m\u001b[1m(\u001b[22m\u001b[22m::Array{Any,1}, ::GLMNet.#glmnet!, ::Array{Float64,2}, ::Array{Float64,1}, ::Distributions.Normal{Float64}\u001b[1m)\u001b[22m\u001b[22m at \u001b[1m./<missing>:0\u001b[22m\u001b[22m\n",
      " [5] \u001b[1m#glmnet#22\u001b[22m\u001b[22m\u001b[1m(\u001b[22m\u001b[22m::Array{Any,1}, ::Function, ::Array{Float64,2}, ::Array{Float64,1}, ::Distributions.Normal{Float64}\u001b[1m)\u001b[22m\u001b[22m at \u001b[1m/Users/juhyun-kim/.julia/v0.6/GLMNet/src/GLMNet.jl:369\u001b[22m\u001b[22m\n",
      " [6] \u001b[1m(::GLMNet.#kw##glmnet)\u001b[22m\u001b[22m\u001b[1m(\u001b[22m\u001b[22m::Array{Any,1}, ::GLMNet.#glmnet, ::Array{Float64,2}, ::Array{Float64,1}, ::Distributions.Normal{Float64}\u001b[1m)\u001b[22m\u001b[22m at \u001b[1m./<missing>:0\u001b[22m\u001b[22m (repeats 2 times)\n",
      " [7] \u001b[1minclude_string\u001b[22m\u001b[22m\u001b[1m(\u001b[22m\u001b[22m::String, ::String\u001b[1m)\u001b[22m\u001b[22m at \u001b[1m./loading.jl:515\u001b[22m\u001b[22m\n",
      " [8] \u001b[1mexecute_request\u001b[22m\u001b[22m\u001b[1m(\u001b[22m\u001b[22m::ZMQ.Socket, ::IJulia.Msg\u001b[1m)\u001b[22m\u001b[22m at \u001b[1m/Users/juhyun-kim/.julia/v0.6/IJulia/src/execute_request.jl:160\u001b[22m\u001b[22m\n",
      " [9] \u001b[1meventloop\u001b[22m\u001b[22m\u001b[1m(\u001b[22m\u001b[22m::ZMQ.Socket\u001b[1m)\u001b[22m\u001b[22m at \u001b[1m/Users/juhyun-kim/.julia/v0.6/IJulia/src/eventloop.jl:8\u001b[22m\u001b[22m\n",
      " [10] \u001b[1m(::IJulia.##11#14)\u001b[22m\u001b[22m\u001b[1m(\u001b[22m\u001b[22m\u001b[1m)\u001b[22m\u001b[22m at \u001b[1m./task.jl:335\u001b[22m\u001b[22m\n",
      "while loading In[7], in expression starting on line 2\n",
      "\u001b[1m\u001b[33mWARNING: \u001b[39m\u001b[22m\u001b[33mArray{T}(::Type{T}, m::Int) is deprecated, use Array{T}(m) instead.\u001b[39m\n",
      "Stacktrace:\n",
      " [1] \u001b[1mdepwarn\u001b[22m\u001b[22m\u001b[1m(\u001b[22m\u001b[22m::String, ::Symbol\u001b[1m)\u001b[22m\u001b[22m at \u001b[1m./deprecated.jl:70\u001b[22m\u001b[22m\n",
      " [2] \u001b[1mArray\u001b[22m\u001b[22m\u001b[1m(\u001b[22m\u001b[22m::Type{Float64}, ::Int64\u001b[1m)\u001b[22m\u001b[22m at \u001b[1m./deprecated.jl:57\u001b[22m\u001b[22m\n",
      " [3] \u001b[1m#glmnet!#7\u001b[22m\u001b[22m\u001b[1m(\u001b[22m\u001b[22m::Array{Float64,1}, ::Bool, ::Float64, ::Array{Float64,1}, ::Array{Float64,2}, ::Int64, ::Int64, ::Int64, ::Float64, ::Array{Float64,1}, ::Float64, ::Bool, ::Bool, ::Int64, ::GLMNet.#glmnet!, ::Array{Float64,2}, ::Array{Float64,1}, ::Distributions.Normal{Float64}\u001b[1m)\u001b[22m\u001b[22m at \u001b[1m/Users/juhyun-kim/.julia/v0.6/GLMNet/src/GLMNet.jl:240\u001b[22m\u001b[22m\n",
      " [4] \u001b[1m(::GLMNet.#kw##glmnet!)\u001b[22m\u001b[22m\u001b[1m(\u001b[22m\u001b[22m::Array{Any,1}, ::GLMNet.#glmnet!, ::Array{Float64,2}, ::Array{Float64,1}, ::Distributions.Normal{Float64}\u001b[1m)\u001b[22m\u001b[22m at \u001b[1m./<missing>:0\u001b[22m\u001b[22m\n",
      " [5] \u001b[1m#glmnet#22\u001b[22m\u001b[22m\u001b[1m(\u001b[22m\u001b[22m::Array{Any,1}, ::Function, ::Array{Float64,2}, ::Array{Float64,1}, ::Distributions.Normal{Float64}\u001b[1m)\u001b[22m\u001b[22m at \u001b[1m/Users/juhyun-kim/.julia/v0.6/GLMNet/src/GLMNet.jl:369\u001b[22m\u001b[22m\n",
      " [6] \u001b[1m(::GLMNet.#kw##glmnet)\u001b[22m\u001b[22m\u001b[1m(\u001b[22m\u001b[22m::Array{Any,1}, ::GLMNet.#glmnet, ::Array{Float64,2}, ::Array{Float64,1}, ::Distributions.Normal{Float64}\u001b[1m)\u001b[22m\u001b[22m at \u001b[1m./<missing>:0\u001b[22m\u001b[22m (repeats 2 times)\n",
      " [7] \u001b[1minclude_string\u001b[22m\u001b[22m\u001b[1m(\u001b[22m\u001b[22m::String, ::String\u001b[1m)\u001b[22m\u001b[22m at \u001b[1m./loading.jl:515\u001b[22m\u001b[22m\n",
      " [8] \u001b[1mexecute_request\u001b[22m\u001b[22m\u001b[1m(\u001b[22m\u001b[22m::ZMQ.Socket, ::IJulia.Msg\u001b[1m)\u001b[22m\u001b[22m at \u001b[1m/Users/juhyun-kim/.julia/v0.6/IJulia/src/execute_request.jl:160\u001b[22m\u001b[22m\n",
      " [9] \u001b[1meventloop\u001b[22m\u001b[22m\u001b[1m(\u001b[22m\u001b[22m::ZMQ.Socket\u001b[1m)\u001b[22m\u001b[22m at \u001b[1m/Users/juhyun-kim/.julia/v0.6/IJulia/src/eventloop.jl:8\u001b[22m\u001b[22m\n",
      " [10] \u001b[1m(::IJulia.##11#14)\u001b[22m\u001b[22m\u001b[1m(\u001b[22m\u001b[22m\u001b[1m)\u001b[22m\u001b[22m at \u001b[1m./task.jl:335\u001b[22m\u001b[22m\n",
      "while loading In[7], in expression starting on line 2\n"
     ]
    },
    {
     "data": {
      "text/plain": [
       "8×70 GLMNet.CompressedPredictorMatrix:\n",
       " 0.0  0.075317  0.143943  0.206473  …   0.660413   0.660823   0.661201 \n",
       " 0.0  0.0       0.0       0.0           0.264962   0.265099   0.265223 \n",
       " 0.0  0.0       0.0       0.0          -0.153231  -0.153657  -0.154055 \n",
       " 0.0  0.0       0.0       0.0           0.137859   0.138074   0.138272 \n",
       " 0.0  0.0       0.0       0.0           0.310435   0.310849   0.311241 \n",
       " 0.0  0.0       0.0       0.0       …  -0.136715  -0.137682  -0.138598 \n",
       " 0.0  0.0       0.0       0.0           0.033943   0.034123   0.0342689\n",
       " 0.0  0.0       0.0       0.0           0.121233   0.121575   0.121916 "
      ]
     },
     "execution_count": 7,
     "metadata": {},
     "output_type": "execute_result"
    }
   ],
   "source": [
    "using GLMNet;  \n",
    "path = glmnet(Xz, y, intercept=false);\n",
    "path.betas"
   ]
  },
  {
   "cell_type": "code",
   "execution_count": 10,
   "metadata": {
    "collapsed": false
   },
   "outputs": [
    {
     "data": {
      "text/html": [
       "<img src=\"data:image/png;base64,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\" />"
      ]
     },
     "execution_count": 10,
     "metadata": {},
     "output_type": "execute_result"
    }
   ],
   "source": [
    "plot(path.lambda, path.betas', color=colors, label=labels, \n",
    "\t\txaxis=(\"λ\"), yaxis= (\"β̂(λ)\"))\n",
    "title!(\"Prostate Data: Solution Path via GLMNet.jl\")"
   ]
  },
  {
   "cell_type": "code",
   "execution_count": 11,
   "metadata": {
    "collapsed": true
   },
   "outputs": [],
   "source": [
    "savefig(\"misc/prostate2.svg\")"
   ]
  }
 ],
 "metadata": {
  "kernelspec": {
   "display_name": "Julia 0.6.0",
   "language": "julia",
   "name": "julia-0.6"
  },
  "language_info": {
   "file_extension": ".jl",
   "mimetype": "application/julia",
   "name": "julia",
   "version": "0.6.0"
  }
 },
 "nbformat": 4,
 "nbformat_minor": 2
}
